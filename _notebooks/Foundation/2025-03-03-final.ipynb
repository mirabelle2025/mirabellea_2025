{
 "cells": [
  {
   "cell_type": "markdown",
   "metadata": {},
   "source": [
    "---\n",
    "comments: true\n",
    "layout: post\n",
    "title: 2025 Trimester 2 Final Review\n",
    "description: 5 key aspects, CPT Requirements, N@TM, Project Feature, MCQ \n",
    "sticky rank: 1\n",
    "---"
   ]
  },
  {
   "cell_type": "markdown",
   "metadata": {},
   "source": [
    "# 5 Accomplishments\n",
    "\n",
    "1. Terminal navigation for the team and I. Resetting everyone's wsl and directories.\n",
    "2. Deployment in the cockpit with showcasing tables and working to get our webstie avaible to the internet through Amazon.<img width=\"678\" alt=\"Image\" src=\"https://github.com/user-attachments/assets/04d065ed-a05c-400d-bf5c-8e53e9ebe950\" />\n",
    "3. Mapping out website in a user-friendly way (reformatting frontend + backend homepages)\n",
    "4. Connecting all ofthe database pathways according to our website for the review posting static dtata to work.\n",
    "5. "
   ]
  },
  {
   "cell_type": "markdown",
   "metadata": {},
   "source": [
    "# MCQ Reflection <br/>\n",
    "**Overall Grade** 56/67!<br/> [Image](https://github.com/user-attachments/assets/196a64f4-fb9f-4476-93fa-7a046b657a39)\n",
    "<b>Q5</b><br/>\n",
    "Answer: C ; Incorrect Answer: D<br/>\n",
    "Answer D is incorrect. The code segment \"ticket price <- 12 ; IF age ≤ 12 OR age ≥ 60 ; ticketPrice <- 9 ; ELSE ticketPrice <- ticketPrice + 5\" is incorrect because this code segment will set \"ticketPrice\" to 17 for all purchasers between the ages of 12 and 60, regardless of whether or not the movie is 3-D. <br/>\n",
    "Answer C is correct. The code segment \"ticket price <- 12 ; IF age ≤ 12 OR age ≥ 60 ; ticketPrice <- 9 ; IF is 3D ; ticketPrice <- ticketPrice + 5\" initially sets ticketPrice to 12, and then changes the price to 9 only for children and seniors. The code segment then increases ticketPrice by 5 for 3-D movies. <br/> ![Image](https://github.com/user-attachments/assets/9fc42dbc-63b3-4aec-a2cb-291327516110) <br/>\n",
    "<b>Q8</b><br/>\n",
    "Answer: C ; Incorrect Answer: B<br/>\n",
    "Answer B is incorrect because the programs will display different values. <br/>\n",
    "Answer C is correct becuase the programs each display ten values, but each value displayed by program B is one greater than the corresponding value from the program A. Program A displays 1 2 3 4 5 6 7 8 9 10 and program B displays 2 3 4 5 6 7 8 9 10 11.<br/>\n",
    "![Image](https://github.com/user-attachments/assets/d0706f8f-5087-417b-8e5e-633050d13dfb)<br/>\n",
    "<b>Q10</b><br/>\n",
    "Answer: B ; Incorrect Answer: A<br/>\n",
    "Answer A is incorrect because \"MoveXTimes 2 ; RightXTimes 1 ; MoveXTimes 3\" moves the robot forawrd two squares, rotates it right one time so that the robot faces the bottom of the grid, and then moves the robot forward three squares.<br/>\n",
    "Answer B is correct because \"MoveXTimes 2 ; RightXTimes 3 ; MoveXTimes 3\" moves the robot forward two squares, rotates it right three times so that the robot faces the top of the grid, and then moves the robot forward three squares to the gray square.<br/>\n",
    "![Image](https://github.com/user-attachments/assets/3cd43d84-256f-45e3-bd3d-f7f6b71becc0)<br/>\n",
    "<b>Q11</b><br/>\n",
    "Answer: B ; Incorrect Answer: D<br/>\n",
    "Answer D is incorrect because \"NEITHER_HERE_NOR_THERE\" can be shortened using byte pair encoding. For example, \"NEIT* ER_* &_NOR_T* &\" by replacing each instance of \"HE\" with \"* \" and each instance of \"RE\" with \"&\"<br/>\n",
    "Answer B is correct because it is not possible to use byte pair encoding in the string \"LEVEL_UP\" because no pair of characters appears in the string more than once.<br/>\n",
    "![Image](https://github.com/user-attachments/assets/1ac98907-612c-4d77-bb4e-8e9ff47565d8)<br/>\n",
    "<b>Q14</b><br/>\n",
    "Answer: B ; Incorrect Answer: D<br/>\n",
    "Answer D is incorrect because \"NEITHER_HERE_NOR_THERE\" can be shortened using byte pair encoding. For example, \"NEIT* ER_* &_NOR_T* &\" by replacing each instance of \"HE\" with \"* \" and each instance of \"RE\" with \"&\"<br/>\n",
    "Answer B is correct because it is not possible to use byte pair encoding in the string \"LEVEL_UP\" because no pair of characters appears in the string more than once.<br/>\n",
    "![Image](https://github.com/user-attachments/assets/6d61cfde-7337-4022-bf43-71da696074ab)<br/>\n",
    "<b>Q16</b><br/>\n",
    "Answer: B ; Incorrect Answer: D<br/>\n",
    "Answer D is incorrect because \"NEITHER_HERE_NOR_THERE\" can be shortened using byte pair encoding. For example, \"NEIT* ER_* &_NOR_T* &\" by replacing each instance of \"HE\" with \"* \" and each instance of \"RE\" with \"&\"<br/>\n",
    "Answer B is correct because it is not possible to use byte pair encoding in the string \"LEVEL_UP\" because no pair of characters appears in the string more than once.<br/>\n",
    "![Image](https://github.com/user-attachments/assets/229a0009-5d3e-47ed-a1b5-cc0440ba0e09)<br/>\n",
    "<b>Q18</b><br/>\n",
    "Answer: B ; Incorrect Answer: D<br/>\n",
    "Answer D is incorrect because \"NEITHER_HERE_NOR_THERE\" can be shortened using byte pair encoding. For example, \"NEIT* ER_* &_NOR_T* &\" by replacing each instance of \"HE\" with \"* \" and each instance of \"RE\" with \"&\"<br/>\n",
    "Answer B is correct because it is not possible to use byte pair encoding in the string \"LEVEL_UP\" because no pair of characters appears in the string more than once.<br/>\n",
    "![Image](https://github.com/user-attachments/assets/07e36230-1fa1-4b79-90b8-d5a0ce53c7ed)<br/>\n",
    "<b>Q21</b><br/>\n",
    "Answer: B ; Incorrect Answer: A<br/>\n",
    "Answer A is incorrect because \"MoveXTimes 2 ; RightXTimes 1 ; MoveXTimes 3\" moves the robot forawrd two squares, rotates it right one time so that the robot faces the bottom of the grid, and then moves the robot forward three squares.<br/>\n",
    "Answer B is correct because \"MoveXTimes 2 ; RightXTimes 3 ; MoveXTimes 3\" moves the robot forward two squares, rotates it right three times so that the robot faces the top of the grid, and then moves the robot forward three squares to the gray square.<br/>\n",
    "![Image](https://github.com/user-attachments/assets/42dd86d4-5b14-4418-b9e0-872ff564bf20)<br/>\n",
    "<b>Q22</b><br/>\n",
    "Answer: B ; Incorrect Answer: D<br/>\n",
    "Answer D is incorrect because \"NEITHER_HERE_NOR_THERE\" can be shortened using byte pair encoding. For example, \"NEIT* ER_* &_NOR_T* &\" by replacing each instance of \"HE\" with \"* \" and each instance of \"RE\" with \"&\"<br/>\n",
    "Answer B is correct because it is not possible to use byte pair encoding in the string \"LEVEL_UP\" because no pair of characters appears in the string more than once.<br/>\n",
    "![Image](https://github.com/user-attachments/assets/6c01b7f1-114f-4be4-87df-9df77c60a0a1)<br/>\n",
    "<b>Q55 </b><br/>\n",
    "Answer: B ; Incorrect Answer: D<br/>\n",
    "Answer D is incorrect because \"NEITHER_HERE_NOR_THERE\" can be shortened using byte pair encoding. For example, \"NEIT* ER_* &_NOR_T* &\" by replacing each instance of \"HE\" with \"* \" and each instance of \"RE\" with \"&\"<br/>\n",
    "Answer B is correct because it is not possible to use byte pair encoding in the string \"LEVEL_UP\" because no pair of characters appears in the string more than once.<br/>\n",
    "![Image](https://github.com/user-attachments/assets/6ca465ce-266e-4952-bb45-99662a1d7605)<br/>\n",
    "<b>Q57 </b><br/>\n",
    "Answer: B ; Incorrect Answer: D<br/>\n",
    "Answer D is incorrect because \"NEITHER_HERE_NOR_THERE\" can be shortened using byte pair encoding. For example, \"NEIT* ER_* &_NOR_T* &\" by replacing each instance of \"HE\" with \"* \" and each instance of \"RE\" with \"&\"<br/>\n",
    "Answer B is correct because it is not possible to use byte pair encoding in the string \"LEVEL_UP\" because no pair of characters appears in the string more than once.<br/>\n",
    "![Image](https://github.com/user-attachments/assets/9d294722-506a-44ee-8f99-d4e175b32ebb)<br/>\n",
    "<b>Q61 </b><br/>\n",
    "Answer: B ; Incorrect Answer: D<br/>\n",
    "Answer D is incorrect because \"NEITHER_HERE_NOR_THERE\" can be shortened using byte pair encoding. For example, \"NEIT* ER_* &_NOR_T* &\" by replacing each instance of \"HE\" with \"* \" and each instance of \"RE\" with \"&\"<br/>\n",
    "Answer B is correct because it is not possible to use byte pair encoding in the string \"LEVEL_UP\" because no pair of characters appears in the string more than once.<br/>"
   ]
  },
  {
   "cell_type": "markdown",
   "metadata": {},
   "source": [
    "# Self Assessment\n",
    "\n",
    "| Concept                         | Grade  | Notes  |   \n",
    "|----------------------------------|--------|------------------------------------------------------------------|\n",
    "| Docse                           | 5/5    | Accurate Burndown List, Collaboration, and Communication |\n",
    "| Fullstack Demo, CPT Requirements | 1.5/2  | Needed more algorithmic code and more features to Demo Full Stack, only part works. |\n",
    "| Feature                         | 1/1    | In-depth code blocks and summaries for the connection to overall Project |\n",
    "| MCQ Reflection                  | 1/1    | Full Reflection and missed question improvements. |\n",
    "| Presentation 10th Point          | 0.6/1  | Collaborated with other teams, self-graded strengths and weaknesses, future in CS (internships) |\n",
    "| **Total**                        | 9.1/10 | I deserve at least a 9/10 because I have worked diligently all trimester and the trimester before with my team in order to create a successful website available to the internet. I am able to navigate WSL and create an individual feature that I will submit for the College Board Exam. |\n"
   ]
  }
 ],
 "metadata": {
  "language_info": {
   "name": "python"
  }
 },
 "nbformat": 4,
 "nbformat_minor": 2
}
