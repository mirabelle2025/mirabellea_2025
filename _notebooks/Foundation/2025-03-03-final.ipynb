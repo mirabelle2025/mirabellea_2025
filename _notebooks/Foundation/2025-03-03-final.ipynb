{
 "cells": [
  {
   "cell_type": "markdown",
   "metadata": {},
   "source": [
    "---\n",
    "comments: true\n",
    "layout: post\n",
    "title: 2025 Trimester 2 Final Review\n",
    "description: 5 key aspects, CPT Requirements, N@TM, Project Feature, MCQ \n",
    "sticky rank: 1\n",
    "---"
   ]
  },
  {
   "cell_type": "markdown",
   "metadata": {},
   "source": [
    "# 5 Accomplishments\n",
    "\n",
    "1. Terminal navigation for the team and I. Resetting everyone's wsl and directories.\n",
    "2. Deployment in the cockpit with showcasing tables and working to get our webstie avaible to the internet through Amazon.<img width=\"678\" alt=\"Image\" src=\"https://github.com/user-attachments/assets/04d065ed-a05c-400d-bf5c-8e53e9ebe950\" />\n",
    "3. Mapping out website in a user-friendly way (reformatting frontend + backend homepages)\n",
    "4. Connecting all of the database pathways according to our website for the review posting static data to work.\n",
    "5. Organized the KanBan Board daily, made sure everyone had up-to-date burn down lists that we would all work on collectively to accomplish a main and individual goal. <img width=\"785\" alt=\"Image\" src=\"https://github.com/user-attachments/assets/c156a858-26ab-4039-89e3-157c241b9b4f\" />"
   ]
  },
  {
   "cell_type": "markdown",
   "metadata": {},
   "source": [
    "# CPT Requirements with Individual Feature & Collaboration  \n",
    "\n",
    "| Requirement | My Feature Function |\n",
    "|----------------|----------------|\n",
    "| **Input** | Supports `http` and `https`, making our website accessible via the search bar. |\n",
    "| **Use of List/Collection Type** | Uses an SQLite database for static data storage, a dictionary in the backend, and a JSON file for structured data. |\n",
    "| **Procedure** | Accepts user inputs, displays items, and allows users to add reviews, which are stored in static data. |\n",
    "| **Algorithm** | Assigns ‘point’ values to items, enabling future features such as user preferences and recommendations (higher points = higher value). |\n",
    "| **Functionality Demonstration** | User inputs data, selects an item, and the system updates the SQLite database, demonstrating full-stack integration from frontend to backend. |\n",
    "| **Output** | Generates a link to the searched item’s page, and points are added when the item is clicked. |"
   ]
  },
  {
   "cell_type": "markdown",
   "metadata": {},
   "source": [
    "# Feature Code Blocks\n",
    "**List requests.** Use of list, dictionaries and database. Code descriptions of area where you work with list (rows) and dictionaries (columns) of the database. <br/> Located in my nigeria.py file"
   ]
  },
  {
   "cell_type": "code",
   "execution_count": null,
   "metadata": {
    "vscode": {
     "languageId": "javascript"
    }
   },
   "outputs": [],
   "source": [
    "with app.app_context():\n",
    "\"\"\"Create database and tables\"\"\"\n",
    "db.create_all()\n",
    "\"\"\"Tester data for table\"\"\"\n",
    "nigerias = [\n",
    "    Nigeria(title='Kilimanjaro', comment='It was ok! The enviornment was great though.', content={'type': 'announcement'}, user_id=1, group_id=1),\n",
    "    Nigeria(title='McFestine', comment='Enjoyed the diverse food options!', content={'type': 'announcement'}, user_id=2, group_id=2),\n",
    "    Nigeria(title='Unity', comment='Amazing staff, liked the food!', content={'type': 'announcement'}, user_id=3, group_id=3),\n",
    "]"
   ]
  },
  {
   "cell_type": "markdown",
   "metadata": {},
   "source": [
    "**Formatting response data (JSON) from API into DOM** <br/> Located in my student.py"
   ]
  },
  {
   "cell_type": "code",
   "execution_count": null,
   "metadata": {
    "vscode": {
     "languageId": "javascript"
    }
   },
   "outputs": [],
   "source": [
    "class StudentAPI:\n",
    "    @staticmethod\n",
    "    def get_student(name):\n",
    "        students = {\n",
    "            \"Arshia\": {\n",
    "                \"name\": \"Arshia\",\n",
    "                \"age\": \"16\",\n",
    "                \"role\": \"Scrum\",\n",
    "                \"school\": \"Del Norte High School\"\n",
    "            },\n",
    "            \"Prajna\": {\n",
    "                \"name\": \"Prajna\",\n",
    "                \"age\": \"16\",\n",
    "                \"role\": \"Assistant Scrum\",\n",
    "                \"school\": \"Del Norte\"\n",
    "            },\n",
    "            \"Zoe\": {\n",
    "                \"name\": \"Zoe\",\n",
    "                \"age\": \"16\",\n",
    "                \"role\": \"Devloper\",\n",
    "                \"school\":\"Del Norte\"\n",
    "            },\n",
    "             \"Sanya\": {\n",
    "                \"name\": \"Sanya\",\n",
    "                \"age\": \"16\",\n",
    "                \"role\": \"Devloper\",\n",
    "                \"school\":\"Del Norte\"\n",
    "            },\n",
    "              \"Mirabelle\": {\n",
    "                \"name\": \"Mirabelle\",\n",
    "                \"age\": \"17\",\n",
    "                \"role\": \"Integrator\",\n",
    "                \"school\":\"Del Norte\"\n",
    "            },\n",
    "               \"Claire\": {\n",
    "                \"name\": \"Claire\",\n",
    "                \"age\": \"16\",\n",
    "                \"role\": \"Devloper\",\n",
    "                \"school\":\"Del Norte\"\n",
    "            },\n",
    "            \n",
    "        }\n",
    "        return students.get(name) "
   ]
  },
  {
   "cell_type": "markdown",
   "metadata": {},
   "source": [
    "**Queries from database where you extract a Python List (rows). Queries are provide by a 3rd party library.** <br/> Located in my nigeria.py"
   ]
  },
  {
   "cell_type": "code",
   "execution_count": null,
   "metadata": {
    "vscode": {
     "languageId": "javascript"
    }
   },
   "outputs": [],
   "source": [
    "def read(self):\n",
    "\"\"\"\n",
    "The read method retrieves the object data from the object's attributes and returns it as a dictionary.\n",
    "\n",
    "Uses:\n",
    "    The Channel.query and User.query methods to retrieve the channel and user objects.\n",
    "\n",
    "Returns:\n",
    "    dict: A dictionary containing the post data, including user and channel names.\n",
    "\"\"\"\n",
    "user = User.query.get(self._user_id)\n",
    "group = Group.query.get(self._group_id)\n",
    "data = {\n",
    "    \"id\": self.id,\n",
    "    \"title\": self._title,\n",
    "    \"comment\": self._comment,\n",
    "    \"content\": self._content,\n",
    "    \"user_name\": user.name if user else None,\n",
    "    \"group_name\": group.name if group else None\n",
    "}\n",
    "return data"
   ]
  },
  {
   "cell_type": "markdown",
   "metadata": {},
   "source": [
    "**Methods in \"class\" you created to work with columns (create, read, update, delete) create** <br/> Located in nigeria.py"
   ]
  },
  {
   "cell_type": "code",
   "execution_count": null,
   "metadata": {
    "vscode": {
     "languageId": "javascript"
    }
   },
   "outputs": [],
   "source": [
    "def update(self):\n",
    "        \"\"\"\n",
    "        Updates the post object with new data.\n",
    "        \n",
    "        Args:\n",
    "            inputs (dict): A dictionary containing the new data for the post.\n",
    "        \n",
    "        Returns:\n",
    "            Post: The updated post object, or None on error.\n",
    "        \"\"\"\n",
    "        \n",
    "        inputs = Nigeria.query.get(self.id)\n",
    "        \n",
    "        title = inputs._title\n",
    "        content = inputs._content\n",
    "        user_name = User.query.get(inputs._user_id).name if inputs._user_id else None\n",
    "                \n",
    "        if user_name:\n",
    "            user = User.query.filter_by(_name=user_name).first()\n",
    "            if user:\n",
    "                user_id = user.id\n",
    "            else:\n",
    "                return None\n",
    "\n",
    "        # Update table with new data\n",
    "        if title:\n",
    "            self._title = title\n",
    "        if content:\n",
    "            self._content = content\n",
    "        if user_id:\n",
    "            self._user_id = user_id\n",
    "\n",
    "        try:\n",
    "            db.session.commit()\n",
    "        except IntegrityError:\n",
    "            db.session.rollback()\n",
    "            logging.warning(f\"IntegrityError: Could not update post with title '{title}' due to missing group_id.\")\n",
    "            return None\n",
    "        return self\n",
    "    \n",
    "    def delete(self):\n",
    "        \"\"\"\n",
    "        The delete method removes the object from the database and commits the transaction.\n",
    "        \n",
    "        Uses:\n",
    "            The db ORM methods to delete and commit the transaction.\n",
    "        \n",
    "        Raises:\n",
    "            Exception: An error occurred when deleting the object from the database.\n",
    "        \"\"\"    \n",
    "        try:\n",
    "            db.session.delete(self)\n",
    "            db.session.commit()\n",
    "        except Exception as e:\n",
    "            db.session.rollback()\n",
    "            raise e\n",
    "        \n",
    "    @staticmethod\n",
    "    def restore(data):\n",
    "        for post_data in data:\n",
    "            _ = post_data.pop('id', None)  # Remove 'id' from post_data\n",
    "            title = post_data.get(\"title\", None)\n",
    "            post = Nigeria.query.filter_by(_title=title).first()\n",
    "            if post:\n",
    "                post.update(post_data)\n",
    "            else:\n",
    "                post = Nigeria(**post_data)\n",
    "                post.update(post_data)\n",
    "                post.create()"
   ]
  },
  {
   "cell_type": "markdown",
   "metadata": {},
   "source": [
    "**Repeated for all 6 different countries**"
   ]
  },
  {
   "cell_type": "markdown",
   "metadata": {},
   "source": [
    "# N@TM Review of our team and Others\n",
    "**OurWebsite's Presentation Feedback**\n",
    "![Image](https://github.com/user-attachments/assets/9bd4d1a5-3998-4d4a-b2e5-991f73a57d0b)\n",
    "\n",
    "![Image](https://github.com/user-attachments/assets/34d67962-0b61-4199-9af8-b4d6f0e2646e)\n",
    "\n",
    "![Image](https://github.com/user-attachments/assets/a6965877-a759-4e67-98c5-775af74e2e8d)\n",
    "**Improve:** People recommended to add more features, as some of them may seem repetitive or not as intereseting. They also gave critisim on the overall presentation, and said that it would’ve been done more smoothly. This will defintley help for when we make the College Board video, and the next step would be to address these concerns.\n",
    "**Keep:** People liked the organization of our website, and thought some of our features were fun to play aroundn with. The color scheme was also complemented, people said it suits the theme of our website.\n",
    "<img width=\"314\" alt=\"Image\" src=\"https://github.com/user-attachments/assets/dfc96050-590b-4c80-9bb2-bc4d011ef275\" />"
   ]
  },
  {
   "cell_type": "markdown",
   "metadata": {},
   "source": [
    "# MCQ Reflection <br/>\n",
    "**Overall Grade** 56/67!<br/> [Image](https://github.com/user-attachments/assets/196a64f4-fb9f-4476-93fa-7a046b657a39)\n",
    "<b>Q5</b><br/>\n",
    "Answer: C ; Incorrect Answer: D<br/>\n",
    "Answer D is incorrect. The code segment \"ticket price <- 12 ; IF age ≤ 12 OR age ≥ 60 ; ticketPrice <- 9 ; ELSE ticketPrice <- ticketPrice + 5\" is incorrect because this code segment will set \"ticketPrice\" to 17 for all purchasers between the ages of 12 and 60, regardless of whether or not the movie is 3-D. <br/>\n",
    "Answer C is correct. The code segment \"ticket price <- 12 ; IF age ≤ 12 OR age ≥ 60 ; ticketPrice <- 9 ; IF is 3D ; ticketPrice <- ticketPrice + 5\" initially sets ticketPrice to 12, and then changes the price to 9 only for children and seniors. The code segment then increases ticketPrice by 5 for 3-D movies. <br/> ![Image](https://github.com/user-attachments/assets/9fc42dbc-63b3-4aec-a2cb-291327516110) <br/>\n",
    "<b>Q8</b><br/>\n",
    "Answer: C ; Incorrect Answer: B<br/>\n",
    "Answer B is incorrect because the programs will display different values. <br/>\n",
    "Answer C is correct becuase the programs each display ten values, but each value displayed by program B is one greater than the corresponding value from the program A. Program A displays 1 2 3 4 5 6 7 8 9 10 and program B displays 2 3 4 5 6 7 8 9 10 11.<br/>\n",
    "![Image](https://github.com/user-attachments/assets/d0706f8f-5087-417b-8e5e-633050d13dfb)<br/>\n",
    "<b>Q10</b><br/>\n",
    "Answer: B ; Incorrect Answer: A<br/>\n",
    "Answer A is incorrect because \"MoveXTimes 2 ; RightXTimes 1 ; MoveXTimes 3\" moves the robot forawrd two squares, rotates it right one time so that the robot faces the bottom of the grid, and then moves the robot forward three squares.<br/>\n",
    "Answer B is correct because \"MoveXTimes 2 ; RightXTimes 3 ; MoveXTimes 3\" moves the robot forward two squares, rotates it right three times so that the robot faces the top of the grid, and then moves the robot forward three squares to the gray square.<br/>\n",
    "![Image](https://github.com/user-attachments/assets/3cd43d84-256f-45e3-bd3d-f7f6b71becc0)<br/>\n",
    "<b>Q11</b><br/>\n",
    "Answer: B ; Incorrect Answer: D<br/>\n",
    "Answer D is incorrect because \"NEITHER_HERE_NOR_THERE\" can be shortened using byte pair encoding. For example, \"NEIT* ER_* &_NOR_T* &\" by replacing each instance of \"HE\" with \"* \" and each instance of \"RE\" with \"&\"<br/>\n",
    "Answer B is correct because it is not possible to use byte pair encoding in the string \"LEVEL_UP\" because no pair of characters appears in the string more than once.<br/>\n",
    "![Image](https://github.com/user-attachments/assets/1ac98907-612c-4d77-bb4e-8e9ff47565d8)<br/>\n",
    "<b>Q14</b><br/>\n",
    "Answer: B ; Incorrect Answer: D<br/>\n",
    "Answer D is incorrect because \"NEITHER_HERE_NOR_THERE\" can be shortened using byte pair encoding. For example, \"NEIT* ER_* &_NOR_T* &\" by replacing each instance of \"HE\" with \"* \" and each instance of \"RE\" with \"&\"<br/>\n",
    "Answer B is correct because it is not possible to use byte pair encoding in the string \"LEVEL_UP\" because no pair of characters appears in the string more than once.<br/>\n",
    "![Image](https://github.com/user-attachments/assets/6d61cfde-7337-4022-bf43-71da696074ab)<br/>\n",
    "<b>Q16</b><br/>\n",
    "Answer: B ; Incorrect Answer: D<br/>\n",
    "Answer D is incorrect because \"NEITHER_HERE_NOR_THERE\" can be shortened using byte pair encoding. For example, \"NEIT* ER_* &_NOR_T* &\" by replacing each instance of \"HE\" with \"* \" and each instance of \"RE\" with \"&\"<br/>\n",
    "Answer B is correct because it is not possible to use byte pair encoding in the string \"LEVEL_UP\" because no pair of characters appears in the string more than once.<br/>\n",
    "![Image](https://github.com/user-attachments/assets/229a0009-5d3e-47ed-a1b5-cc0440ba0e09)<br/>\n",
    "<b>Q18</b><br/>\n",
    "Answer: B ; Incorrect Answer: D<br/>\n",
    "Answer D is incorrect because \"NEITHER_HERE_NOR_THERE\" can be shortened using byte pair encoding. For example, \"NEIT* ER_* &_NOR_T* &\" by replacing each instance of \"HE\" with \"* \" and each instance of \"RE\" with \"&\"<br/>\n",
    "Answer B is correct because it is not possible to use byte pair encoding in the string \"LEVEL_UP\" because no pair of characters appears in the string more than once.<br/>\n",
    "![Image](https://github.com/user-attachments/assets/07e36230-1fa1-4b79-90b8-d5a0ce53c7ed)<br/>\n",
    "<b>Q21</b><br/>\n",
    "Answer: B ; Incorrect Answer: A<br/>\n",
    "Answer A is incorrect because \"MoveXTimes 2 ; RightXTimes 1 ; MoveXTimes 3\" moves the robot forawrd two squares, rotates it right one time so that the robot faces the bottom of the grid, and then moves the robot forward three squares.<br/>\n",
    "Answer B is correct because \"MoveXTimes 2 ; RightXTimes 3 ; MoveXTimes 3\" moves the robot forward two squares, rotates it right three times so that the robot faces the top of the grid, and then moves the robot forward three squares to the gray square.<br/>\n",
    "![Image](https://github.com/user-attachments/assets/42dd86d4-5b14-4418-b9e0-872ff564bf20)<br/>\n",
    "<b>Q22</b><br/>\n",
    "Answer: B ; Incorrect Answer: D<br/>\n",
    "Answer D is incorrect because \"NEITHER_HERE_NOR_THERE\" can be shortened using byte pair encoding. For example, \"NEIT* ER_* &_NOR_T* &\" by replacing each instance of \"HE\" with \"* \" and each instance of \"RE\" with \"&\"<br/>\n",
    "Answer B is correct because it is not possible to use byte pair encoding in the string \"LEVEL_UP\" because no pair of characters appears in the string more than once.<br/>\n",
    "![Image](https://github.com/user-attachments/assets/6c01b7f1-114f-4be4-87df-9df77c60a0a1)<br/>\n",
    "<b>Q55 </b><br/>\n",
    "Answer: B ; Incorrect Answer: D<br/>\n",
    "Answer D is incorrect because \"NEITHER_HERE_NOR_THERE\" can be shortened using byte pair encoding. For example, \"NEIT* ER_* &_NOR_T* &\" by replacing each instance of \"HE\" with \"* \" and each instance of \"RE\" with \"&\"<br/>\n",
    "Answer B is correct because it is not possible to use byte pair encoding in the string \"LEVEL_UP\" because no pair of characters appears in the string more than once.<br/>\n",
    "![Image](https://github.com/user-attachments/assets/6ca465ce-266e-4952-bb45-99662a1d7605)<br/>\n",
    "<b>Q57 </b><br/>\n",
    "Answer: B ; Incorrect Answer: D<br/>\n",
    "Answer D is incorrect because \"NEITHER_HERE_NOR_THERE\" can be shortened using byte pair encoding. For example, \"NEIT* ER_* &_NOR_T* &\" by replacing each instance of \"HE\" with \"* \" and each instance of \"RE\" with \"&\"<br/>\n",
    "Answer B is correct because it is not possible to use byte pair encoding in the string \"LEVEL_UP\" because no pair of characters appears in the string more than once.<br/>\n",
    "![Image](https://github.com/user-attachments/assets/9d294722-506a-44ee-8f99-d4e175b32ebb)<br/>\n",
    "<b>Q61 </b><br/>\n",
    "Answer: B ; Incorrect Answer: D<br/>\n",
    "Answer D is incorrect because \"NEITHER_HERE_NOR_THERE\" can be shortened using byte pair encoding. For example, \"NEIT* ER_* &_NOR_T* &\" by replacing each instance of \"HE\" with \"* \" and each instance of \"RE\" with \"&\"<br/>\n",
    "Answer B is correct because it is not possible to use byte pair encoding in the string \"LEVEL_UP\" because no pair of characters appears in the string more than once.<br/>"
   ]
  },
  {
   "cell_type": "markdown",
   "metadata": {},
   "source": [
    "# Reflection\n",
    "**Strengths**: I think that I really improved with my overall tech sense and tech talk from last trimester. AT the end of last trimester I said that I wanted to improve on workign iwth the backend and implementing it with our frontend in our website, and I think that I greatly improved on that escpecially since I took on the role of being Backend Admin Engineer, where I customized our backend UI and created screens for admin functions. I ensured that db_backup, db_init, and db_restore are supported and working properly.\n",
    "**Weaknesses**: I think that a weakness of mine was during the introduction of the API's and non-static data being implemented into our website. Our group started to fall behind and I noticed that I wasn't able to just get by with doing the simple tasks in the tasks. Ir eally had to work with my group and Mr. Mort in order to learn from our mistakes and create a successful website.\n",
    "**Project Future Plans**: We really need to work on making our project presentable to submit for the college board Exam. We don't fully have our full stack Demo where I think we will be able to earn a 5. We took the N@TM feedback and will be adding more features that are interactable.\n",
    "**Future Plans in CS**: I plan on taking on a data analyst interniship this summer at a pharmaseutical company down in La Jolla. This class has taught me a lot fo life skills and fundemental coding knowledge that gave me this opportunity, which I am very thankful for. Since I am a senior and already submitted all of my college application, I know what I am going to major in college. This class helped me to decide that I want to do something with Computer Science and the STEM department. I look forward to continuing my carrer after this class."
   ]
  },
  {
   "cell_type": "markdown",
   "metadata": {},
   "source": [
    "# Self Assessment\n",
    "\n",
    "| Concept                         | Grade  | Notes  |   \n",
    "|----------------------------------|--------|------------------------------------------------------------------|\n",
    "| Docse                           | 5/5    | Accurate Burndown List, Collaboration, and Communication |\n",
    "| Fullstack Demo, CPT Requirements | 1.5/2  | Needed more algorithmic code and more features to Demo Full Stack, only part works. |\n",
    "| Feature                         | 1/1    | In-depth code blocks and summaries for the connection to overall Project |\n",
    "| MCQ Reflection                  | 1/1    | Full Reflection and missed question improvements. |\n",
    "| Presentation 10th Point          | 0.6/1  | Collaborated with other teams, self-graded strengths and weaknesses, future in CS (internships) |\n",
    "| **Total**                        | 9.1/10 | I deserve at least a 9/10 because I have worked diligently all trimester and the trimester before with my team in order to create a successful website available to the internet. I am able to navigate WSL and create an individual feature that I will submit for the College Board Exam. |\n"
   ]
  }
 ],
 "metadata": {
  "language_info": {
   "name": "python"
  }
 },
 "nbformat": 4,
 "nbformat_minor": 2
}
