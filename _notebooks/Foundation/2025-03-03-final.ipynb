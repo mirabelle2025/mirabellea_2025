{
 "cells": [
  {
   "cell_type": "markdown",
   "metadata": {},
   "source": [
    "---\n",
    "comments: true\n",
    "layout: post\n",
    "title: 2025 Trimester 2 Final Review\n",
    "description: 5 key aspects, CPT Requirements, N@TM, Project Feature, MCQ \n",
    "sticky rank: 1\n",
    "---"
   ]
  },
  {
   "cell_type": "markdown",
   "metadata": {},
   "source": [
    "# 5 Accomplishments\n",
    "\n",
    "1. Terminal navigation for the team and I. Resetting everyone's wsl and directories.\n",
    "2. Deployment in the cockpit with showcasing tables and working to get our webstie avaible to the internet through Amazon.<img width=\"678\" alt=\"Image\" src=\"https://github.com/user-attachments/assets/04d065ed-a05c-400d-bf5c-8e53e9ebe950\" />\n",
    "3. Mapping out website in a user-friendly way (reformatting frontend + backend homepages)\n",
    "4. Connecting all of the database pathways according to our website for the review posting static data to work.\n",
    "5. Organized the KanBan Board daily, made sure everyone had up-to-date burn down lists that we would all work on collectively to accomplish a main and individual goal. <img width=\"785\" alt=\"Image\" src=\"https://github.com/user-attachments/assets/c156a858-26ab-4039-89e3-157c241b9b4f\" />"
   ]
  },
  {
   "cell_type": "markdown",
   "metadata": {},
   "source": [
    "# CPT Requirements with Individual Feature & Collaboration\n",
    "| Requirement| My Feature Function|\n",
    "|----------------|----------------|\n",
    "| Input | Adding http and https, making our website avaible throught the search bar.     |\n",
    "| Use of List/Collection Type|SQLite Database (static data stored), dictionary in backend, JSON file|\n",
    "| Procedure|    Use inputs, Item appears, Reviews added to the item saved in static data|\n",
    "|Algorithm  |   ‘Point’ values are added to item so they can be referenced in future features with user preferences or recommended items (more points = higher value)      |\n",
    "|Functionality Demonstration| User inputs, item is clicked, data is added into SQLite database (full-stack connection from frontend to backend)          |\n",
    "| Output | link to page of typed in item appears and points are added when item is clicked        |"
   ]
  },
  {
   "cell_type": "markdown",
   "metadata": {},
   "source": []
  },
  {
   "cell_type": "markdown",
   "metadata": {},
   "source": [
    "# N@TM Review of our team and Others\n",
    "**OurWebsite's Presentation Feedback**\n",
    "![Image](https://github.com/user-attachments/assets/9bd4d1a5-3998-4d4a-b2e5-991f73a57d0b)\n",
    "\n",
    "![Image](https://github.com/user-attachments/assets/34d67962-0b61-4199-9af8-b4d6f0e2646e)\n",
    "\n",
    "![Image](https://github.com/user-attachments/assets/a6965877-a759-4e67-98c5-775af74e2e8d)\n",
    "**Improve:** People recommended to add more features, as some of them may seem repetitive or not as intereseting. They also gave critisim on the overall presentation, and said that it would’ve been done more smoothly. This will defintley help for when we make the College Board video, and the next step would be to address these concerns.\n",
    "**Keep:** People liked the organization of our website, and thought some of our features were fun to play aroundn with. The color scheme was also complemented, people said it suits the theme of our website."
   ]
  },
  {
   "cell_type": "markdown",
   "metadata": {},
   "source": [
    "# MCQ Reflection <br/>\n",
    "**Overall Grade** 56/67!<br/> [Image](https://github.com/user-attachments/assets/196a64f4-fb9f-4476-93fa-7a046b657a39)\n",
    "<b>Q5</b><br/>\n",
    "Answer: C ; Incorrect Answer: D<br/>\n",
    "Answer D is incorrect. The code segment \"ticket price <- 12 ; IF age ≤ 12 OR age ≥ 60 ; ticketPrice <- 9 ; ELSE ticketPrice <- ticketPrice + 5\" is incorrect because this code segment will set \"ticketPrice\" to 17 for all purchasers between the ages of 12 and 60, regardless of whether or not the movie is 3-D. <br/>\n",
    "Answer C is correct. The code segment \"ticket price <- 12 ; IF age ≤ 12 OR age ≥ 60 ; ticketPrice <- 9 ; IF is 3D ; ticketPrice <- ticketPrice + 5\" initially sets ticketPrice to 12, and then changes the price to 9 only for children and seniors. The code segment then increases ticketPrice by 5 for 3-D movies. <br/> ![Image](https://github.com/user-attachments/assets/9fc42dbc-63b3-4aec-a2cb-291327516110) <br/>\n",
    "<b>Q8</b><br/>\n",
    "Answer: C ; Incorrect Answer: B<br/>\n",
    "Answer B is incorrect because the programs will display different values. <br/>\n",
    "Answer C is correct becuase the programs each display ten values, but each value displayed by program B is one greater than the corresponding value from the program A. Program A displays 1 2 3 4 5 6 7 8 9 10 and program B displays 2 3 4 5 6 7 8 9 10 11.<br/>\n",
    "![Image](https://github.com/user-attachments/assets/d0706f8f-5087-417b-8e5e-633050d13dfb)<br/>\n",
    "<b>Q10</b><br/>\n",
    "Answer: B ; Incorrect Answer: A<br/>\n",
    "Answer A is incorrect because \"MoveXTimes 2 ; RightXTimes 1 ; MoveXTimes 3\" moves the robot forawrd two squares, rotates it right one time so that the robot faces the bottom of the grid, and then moves the robot forward three squares.<br/>\n",
    "Answer B is correct because \"MoveXTimes 2 ; RightXTimes 3 ; MoveXTimes 3\" moves the robot forward two squares, rotates it right three times so that the robot faces the top of the grid, and then moves the robot forward three squares to the gray square.<br/>\n",
    "![Image](https://github.com/user-attachments/assets/3cd43d84-256f-45e3-bd3d-f7f6b71becc0)<br/>\n",
    "<b>Q11</b><br/>\n",
    "Answer: B ; Incorrect Answer: D<br/>\n",
    "Answer D is incorrect because \"NEITHER_HERE_NOR_THERE\" can be shortened using byte pair encoding. For example, \"NEIT* ER_* &_NOR_T* &\" by replacing each instance of \"HE\" with \"* \" and each instance of \"RE\" with \"&\"<br/>\n",
    "Answer B is correct because it is not possible to use byte pair encoding in the string \"LEVEL_UP\" because no pair of characters appears in the string more than once.<br/>\n",
    "![Image](https://github.com/user-attachments/assets/1ac98907-612c-4d77-bb4e-8e9ff47565d8)<br/>\n",
    "<b>Q14</b><br/>\n",
    "Answer: B ; Incorrect Answer: D<br/>\n",
    "Answer D is incorrect because \"NEITHER_HERE_NOR_THERE\" can be shortened using byte pair encoding. For example, \"NEIT* ER_* &_NOR_T* &\" by replacing each instance of \"HE\" with \"* \" and each instance of \"RE\" with \"&\"<br/>\n",
    "Answer B is correct because it is not possible to use byte pair encoding in the string \"LEVEL_UP\" because no pair of characters appears in the string more than once.<br/>\n",
    "![Image](https://github.com/user-attachments/assets/6d61cfde-7337-4022-bf43-71da696074ab)<br/>\n",
    "<b>Q16</b><br/>\n",
    "Answer: B ; Incorrect Answer: D<br/>\n",
    "Answer D is incorrect because \"NEITHER_HERE_NOR_THERE\" can be shortened using byte pair encoding. For example, \"NEIT* ER_* &_NOR_T* &\" by replacing each instance of \"HE\" with \"* \" and each instance of \"RE\" with \"&\"<br/>\n",
    "Answer B is correct because it is not possible to use byte pair encoding in the string \"LEVEL_UP\" because no pair of characters appears in the string more than once.<br/>\n",
    "![Image](https://github.com/user-attachments/assets/229a0009-5d3e-47ed-a1b5-cc0440ba0e09)<br/>\n",
    "<b>Q18</b><br/>\n",
    "Answer: B ; Incorrect Answer: D<br/>\n",
    "Answer D is incorrect because \"NEITHER_HERE_NOR_THERE\" can be shortened using byte pair encoding. For example, \"NEIT* ER_* &_NOR_T* &\" by replacing each instance of \"HE\" with \"* \" and each instance of \"RE\" with \"&\"<br/>\n",
    "Answer B is correct because it is not possible to use byte pair encoding in the string \"LEVEL_UP\" because no pair of characters appears in the string more than once.<br/>\n",
    "![Image](https://github.com/user-attachments/assets/07e36230-1fa1-4b79-90b8-d5a0ce53c7ed)<br/>\n",
    "<b>Q21</b><br/>\n",
    "Answer: B ; Incorrect Answer: A<br/>\n",
    "Answer A is incorrect because \"MoveXTimes 2 ; RightXTimes 1 ; MoveXTimes 3\" moves the robot forawrd two squares, rotates it right one time so that the robot faces the bottom of the grid, and then moves the robot forward three squares.<br/>\n",
    "Answer B is correct because \"MoveXTimes 2 ; RightXTimes 3 ; MoveXTimes 3\" moves the robot forward two squares, rotates it right three times so that the robot faces the top of the grid, and then moves the robot forward three squares to the gray square.<br/>\n",
    "![Image](https://github.com/user-attachments/assets/42dd86d4-5b14-4418-b9e0-872ff564bf20)<br/>\n",
    "<b>Q22</b><br/>\n",
    "Answer: B ; Incorrect Answer: D<br/>\n",
    "Answer D is incorrect because \"NEITHER_HERE_NOR_THERE\" can be shortened using byte pair encoding. For example, \"NEIT* ER_* &_NOR_T* &\" by replacing each instance of \"HE\" with \"* \" and each instance of \"RE\" with \"&\"<br/>\n",
    "Answer B is correct because it is not possible to use byte pair encoding in the string \"LEVEL_UP\" because no pair of characters appears in the string more than once.<br/>\n",
    "![Image](https://github.com/user-attachments/assets/6c01b7f1-114f-4be4-87df-9df77c60a0a1)<br/>\n",
    "<b>Q55 </b><br/>\n",
    "Answer: B ; Incorrect Answer: D<br/>\n",
    "Answer D is incorrect because \"NEITHER_HERE_NOR_THERE\" can be shortened using byte pair encoding. For example, \"NEIT* ER_* &_NOR_T* &\" by replacing each instance of \"HE\" with \"* \" and each instance of \"RE\" with \"&\"<br/>\n",
    "Answer B is correct because it is not possible to use byte pair encoding in the string \"LEVEL_UP\" because no pair of characters appears in the string more than once.<br/>\n",
    "![Image](https://github.com/user-attachments/assets/6ca465ce-266e-4952-bb45-99662a1d7605)<br/>\n",
    "<b>Q57 </b><br/>\n",
    "Answer: B ; Incorrect Answer: D<br/>\n",
    "Answer D is incorrect because \"NEITHER_HERE_NOR_THERE\" can be shortened using byte pair encoding. For example, \"NEIT* ER_* &_NOR_T* &\" by replacing each instance of \"HE\" with \"* \" and each instance of \"RE\" with \"&\"<br/>\n",
    "Answer B is correct because it is not possible to use byte pair encoding in the string \"LEVEL_UP\" because no pair of characters appears in the string more than once.<br/>\n",
    "![Image](https://github.com/user-attachments/assets/9d294722-506a-44ee-8f99-d4e175b32ebb)<br/>\n",
    "<b>Q61 </b><br/>\n",
    "Answer: B ; Incorrect Answer: D<br/>\n",
    "Answer D is incorrect because \"NEITHER_HERE_NOR_THERE\" can be shortened using byte pair encoding. For example, \"NEIT* ER_* &_NOR_T* &\" by replacing each instance of \"HE\" with \"* \" and each instance of \"RE\" with \"&\"<br/>\n",
    "Answer B is correct because it is not possible to use byte pair encoding in the string \"LEVEL_UP\" because no pair of characters appears in the string more than once.<br/>"
   ]
  },
  {
   "cell_type": "markdown",
   "metadata": {},
   "source": [
    "# Reflection\n",
    "**Strengths**: I think that I really improved with my overall tech sense and tech talk from last trimester. AT the end of last trimester I said that I wanted to improve on workign iwth the backend and implementing it with our frontend in our website, and I think that I greatly improved on that escpecially since I took on the role of being Backend Admin Engineer, where I customized our backend UI and created screens for admin functions. I ensured that db_backup, db_init, and db_restore are supported and working properly.\n",
    "**Weaknesses**: I think that a weakness of mine was during the introduction of the API's and non-static data being implemented into our website. Our group started to fall behind and I noticed that I wasn't able to just get by with doing the simple tasks in the tasks. Ir eally had to work with my group and Mr. Mort in order to learn from our mistakes and create a successful website.\n",
    "**Project Future Plans**: We really need to work on making our project presentable to submit for the college board Exam. We don't fully have our full stack Demo where I think we will be able to earn a 5. We took the N@TM feedback and will be adding more features that are interactable.\n",
    "**Future Plans in CS**: I plan on taking on a data analyst interniship this summer at a pharmaseutical company down in La Jolla. This class has taught me a lot fo life skills and fundemental coding knowledge that gave me this opportunity, which I am very thankful for. Since I am a senior and already submitted all of my college application, I know what I am going to major in college. This class helped me to decide that I want to do something with Computer Science and the STEM department. I look forward to continuing my carrer after this class."
   ]
  },
  {
   "cell_type": "markdown",
   "metadata": {},
   "source": [
    "# Self Assessment\n",
    "\n",
    "| Concept                         | Grade  | Notes  |   \n",
    "|----------------------------------|--------|------------------------------------------------------------------|\n",
    "| Docse                           | 5/5    | Accurate Burndown List, Collaboration, and Communication |\n",
    "| Fullstack Demo, CPT Requirements | 1.5/2  | Needed more algorithmic code and more features to Demo Full Stack, only part works. |\n",
    "| Feature                         | 1/1    | In-depth code blocks and summaries for the connection to overall Project |\n",
    "| MCQ Reflection                  | 1/1    | Full Reflection and missed question improvements. |\n",
    "| Presentation 10th Point          | 0.6/1  | Collaborated with other teams, self-graded strengths and weaknesses, future in CS (internships) |\n",
    "| **Total**                        | 9.1/10 | I deserve at least a 9/10 because I have worked diligently all trimester and the trimester before with my team in order to create a successful website available to the internet. I am able to navigate WSL and create an individual feature that I will submit for the College Board Exam. |\n"
   ]
  }
 ],
 "metadata": {
  "language_info": {
   "name": "python"
  }
 },
 "nbformat": 4,
 "nbformat_minor": 2
}
