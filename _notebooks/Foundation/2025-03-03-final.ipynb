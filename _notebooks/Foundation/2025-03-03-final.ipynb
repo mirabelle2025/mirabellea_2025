{
 "cells": [
  {
   "cell_type": "markdown",
   "metadata": {},
   "source": [
    "---\n",
    "comments: true\n",
    "layout: post\n",
    "title: 2025 Trimester 2 Final Review\n",
    "description: 5 key aspects, CPT Requirements, N@TM, Project Feature, MCQ \n",
    "sticky rank: 1\n",
    "---"
   ]
  },
  {
   "cell_type": "markdown",
   "metadata": {},
   "source": [
    "# 5 Accomplishments\n",
    "\n",
    "1. Terminal navigation for the team and I. Resetting everyone's wsl and directories.\n",
    "2. Deployment in the cokcpit with showcasing tables and working to get our webstie avaible to the internet through Amazon.<img width=\"678\" alt=\"Image\" src=\"https://github.com/user-attachments/assets/04d065ed-a05c-400d-bf5c-8e53e9ebe950\" />\n",
    "3. \n",
    "4. \n",
    "5. "
   ]
  },
  {
   "cell_type": "markdown",
   "metadata": {},
   "source": [
    "# MCQ Reflection <br/>\n"
   ]
  },
  {
   "cell_type": "markdown",
   "metadata": {},
   "source": [
    "# Self Assessment\n",
    "\n",
    "| Concept                         | Grade  | Notes  |   \n",
    "|----------------------------------|--------|------------------------------------------------------------------|\n",
    "| Docse                           | 5/5    | Accurate Burndown List, Collaboration, and Communication |\n",
    "| Fullstack Demo, CPT Requirements | 1.5/2  | Needed more algorithmic code and more features to Demo Full Stack, only part works. |\n",
    "| Feature                         | 1/1    | In-depth code blocks and summaries for the connection to overall Project |\n",
    "| MCQ Reflection                  | 1/1    | Full Reflection and missed question improvements. |\n",
    "| Presentation 10th Point          | 0.6/1  | Collaborated with other teams, self-graded strengths and weaknesses, future in CS (internships) |\n",
    "| **Total**                        | 9.1/10 | I deserve at least a 9/10 because I have worked diligently all trimester and the trimester before with my team in order to create a successful website available to the internet. I am able to navigate WSL and create an individual feature that I will submit for the College Board Exam. |\n"
   ]
  }
 ],
 "metadata": {
  "language_info": {
   "name": "python"
  }
 },
 "nbformat": 4,
 "nbformat_minor": 2
}
