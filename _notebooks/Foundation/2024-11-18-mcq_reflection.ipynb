{
 "cells": [
  {
   "cell_type": "markdown",
   "metadata": {},
   "source": [
    "---\n",
    "comments: true\n",
    "layout: post\n",
    "title: 2018 MCQ online AP Classroom Reflection\n",
    "description: Reflection on AP Classroom MCQ, missed questions with correct answers\n",
    "sticky_rank: 1\n",
    "---"
   ]
  },
  {
   "cell_type": "markdown",
   "metadata": {},
   "source": [
    "## 2018 MCQ online AP Classroom Reflection"
   ]
  },
  {
   "cell_type": "markdown",
   "metadata": {},
   "source": [
    "| **What I Need to Review**  |**What I Know**|\n",
    "|----------------------------|---------------|\n",
    "| 2.2: Data Compression      |5.6: Safe Computing |\n",
    "| 3.12: Calling Procedures   |5.1: Beneficial and Harmful Effects|\n",
    "| 3.6: Conditionals          |4.1: The Internet|\n",
    "| 3.9: Developing Algorithms |3.8: Iteration|"
   ]
  },
  {
   "cell_type": "markdown",
   "metadata": {},
   "source": [
    "<b>Q5 Movie theater ticket prices based on age</b><br/>\n",
    "Answer: C ; Incorrect Answer: D<br/>\n",
    "Answer D is incorrect. The code segment \"ticket price <- 12 ; IF age ≤ 12 OR age ≥ 60 ; ticketPrice <- 9 ; ELSE ticketPrice <- ticketPrice + 5\" is incorrect because this code segment will set \"ticketPrice\" to 17 for all purchasers between the ages of 12 and 60, regardless of whether or not the movie is 3-D. <br/>\n",
    "Answer C is correct. The code segment \"ticket price <- 12 ; IF age ≤ 12 OR age ≥ 60 ; ticketPrice <- 9 ; IF is 3D ; ticketPrice <- ticketPrice + 5\" initially sets ticketPrice to 12, and then changes the price to 9 only for children and seniors. The code segment then increases ticketPrice by 5 for 3-D movies. <br/>\n",
    "\n",
    "<b>Q14 Comparing loop algorithms</b><br/>\n",
    "Answer: C ; Incorrect Answer: B<br/>\n",
    "Answer B is incorrect because the programs will display different values. <br/>\n",
    "Answer C is correct becuase the programs each display ten values, but each value displayed by program B is one greater than the corresponding value from the program A. Program A displays 1 2 3 4 5 6 7 8 9 10 and program B displays 2 3 4 5 6 7 8 9 10 11.<br/>\n",
    "\n",
    "<b>Q21 Comparing robot algorithms</b><br/>\n",
    "Answer: B ; Incorrect Answer: A<br/>\n",
    "Answer A is incorrect because \"MoveXTimes 2 ; RightXTimes 1 ; MoveXTimes 3\" moves the robot forawrd two squares, rotates it right one time so that the robot faces the bottom of the grid, and then moves the robot forward three squares.<br/>\n",
    "Answer B is correct because \"MoveXTimes 2 ; RightXTimes 3 ; MoveXTimes 3\" moves the robot forward two squares, rotates it right three times so that the robot faces the top of the grid, and then moves the robot forward three squares to the gray square.<br/>\n",
    "\n",
    "<b>Q25 Shortening strings by replacing TH and IS</b><br/>\n",
    "Answer: B ; Incorrect Answer: D<br/>\n",
    "Answer D is incorrect because \"NEITHER_HERE_NOR_THERE\" can be shortened using byte pair encoding. For example, \"NEIT* ER_* &_NOR_T* &\" by replacing each instance of \"HE\" with \"* \" and each instance of \"RE\" with \"&\"<br/>\n",
    "Answer B is correct because it is not possible to use byte pair encoding in the string \"LEVEL_UP\" because no pair of characters appears in the string more than once.<br/>\n"
   ]
  }
 ],
 "metadata": {
  "language_info": {
   "name": "python"
  }
 },
 "nbformat": 4,
 "nbformat_minor": 2
}
