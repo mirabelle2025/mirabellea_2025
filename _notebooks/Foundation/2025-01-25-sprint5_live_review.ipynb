{
 "cells": [
  {
   "cell_type": "markdown",
   "metadata": {},
   "source": [
    "---\n",
    "comments: true\n",
    "layout: post\n",
    "title: 2025 Tuesday Live Review Blog Post\n",
    "description: Purpose of groups program, and individual feature\n",
    "sticky_rank: 1\n",
    "---"
   ]
  },
  {
   "cell_type": "markdown",
   "metadata": {},
   "source": [
    "## Purpose of Individual Feature"
   ]
  },
  {
   "cell_type": "markdown",
   "metadata": {},
   "source": [
    "- This is a screenshot of the current flowchart of the tables I have been working on\n",
    "<img width=\"503\" alt=\"Image\" src=\"https://github.com/user-attachments/assets/11f5e5d9-cd80-480c-b6d5-006a77bd2331\" />\n",
    "- In this screenshot you can see that I organized all of the countries to be connected to the groups.py\n",
    "- I noticed that all of our postings on our review pages would only show up in our channel table in the backend, so I followed the flowchart to see which tables it was connected to \n",
    "- I found that the Channel table was also the only table connected to the posts.py, so I follwed those tables to find code that would connect the countries to the posts.py\n",
    "- I successfully connected the nigerias table to the posts table, which I think is a step forward to my end goal\n"
   ]
  },
  {
   "cell_type": "markdown",
   "metadata": {},
   "source": [
    "### Areas to work on / Burn down list\n",
    "- Connect the rest of the countries to the posts table (Use same code as nigerias)\n",
    "- Allow the backend to connect to the frontend\n",
    "- Once the backend is connected to the frontend, have the frontend show the review on our website\n",
    "- Get rid of failed to fetch error\n",
    "- Here is a screenshot of my latest burndown list:\n",
    "<img width=\"658\" alt=\"Image\" src=\"https://github.com/user-attachments/assets/ede1b67a-4d7f-45cb-937e-efd06e332c31\" />\n"
   ]
  },
  {
   "cell_type": "markdown",
   "metadata": {},
   "source": [
    "## Purpose of Groups Program"
   ]
  },
  {
   "cell_type": "markdown",
   "metadata": {},
   "source": [
    "Input/Output:\n",
    "- Posting feature for API Request and response\n",
    "- to show the RESTful API, we can plug in a URL into Postman (ex: http://127.0.0.1:8887/api/food), which then displays all the information under the \"food\" class of our code under our maps.\n",
    "- We created various table in SQLite using the CRUD method. The following commands allow us to creat, save, and remake the tables. (db_init, db_restore, db_backup). First we run db_init to make, db_backup to save the table, and db_restore to re make.\n",
    "List Requests:\n",
    "- About me Page: Each of the names and role assignments are our basic JSON data, which we then convert into API by attatching it to the API URL. By then attatching this URL to the frontend, it shows up as a part of our UI.\n",
    "- Working with columns was done by using the CRUD method, as well as making different classses. For example, in our About Me Page, every memeber in our group has their own defined class. When displayed in the frontent, these classes will show up as their own induvidual columns.\n",
    "Algorithmic Code Requests:\n",
    "- Staying on our About Me Page, we have a seperate code in our Frontend that specifies the method of GET, PULL, POST, or etc. Because of the specifies path, the URL then gets fetched and displayed on our website.\n",
    "    - Therefore, we have created our body of request in the backend which them shows up as a jasonify-ed version of our data in the frontend\n",
    "    - This process of code is also know as Iteration, because of how we looped the information of everyone in this group.\n",
    "Call to Algorithm Request:\n",
    "- Call and Requesting through Postman can be done by adding a breakpoint. The error that Postman gives us after adding the breakpoint, and then the debugging process shows how we handle data.\n",
    "- Changing the data within our backend files immediatley affects other things. For example, in our code that creates SQLite tables, we can easily edit our tester data. When we remake the table, it will display with new information, ass a result of the changed data."
   ]
  },
  {
   "cell_type": "markdown",
   "metadata": {},
   "source": [
    "### Group's Plan\n",
    "- As a group we worked together to get our posting in our review page for our countries to work from backend to frontend. \n",
    "- A function that we added was changing the group name for asia to japan when posting a review, which organizes our posts into categories\n",
    "- This image shows how when we type in our review (Restarunt Name, Stars, and Description) it runs through our backed and is shown on our website through our frontend\n",
    "<img width=\"548\" alt=\"Image\" src=\"https://github.com/user-attachments/assets/ab6f7014-fec7-46d5-a3ea-5ed49694be2f\" />\n",
    "- This image shows our table in our bakend that stores the data of our review\n",
    "<img width=\"959\" alt=\"Image\" src=\"https://github.com/user-attachments/assets/27b7779c-48d5-440a-96d1-8d2f91593ea5\" />"
   ]
  }
 ],
 "metadata": {
  "language_info": {
   "name": "python"
  }
 },
 "nbformat": 4,
 "nbformat_minor": 2
}
