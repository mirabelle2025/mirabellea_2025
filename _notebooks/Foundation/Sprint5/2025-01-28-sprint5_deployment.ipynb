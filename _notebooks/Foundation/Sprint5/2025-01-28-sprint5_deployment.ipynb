{
 "cells": [
  {
   "cell_type": "markdown",
   "metadata": {},
   "source": [
    "---\n",
    "comments: true\n",
    "layout: post\n",
    "title: Big Idea 4 College Board Notes\n",
    "description: Notes, key terms, and images on the college board videos for Big Idea 4\n",
    "---"
   ]
  },
  {
   "cell_type": "markdown",
   "metadata": {},
   "source": [
    "## Big Idea 4 College Board Notes"
   ]
  },
  {
   "cell_type": "markdown",
   "metadata": {},
   "source": [
    "### Video 1\n",
    "<h1> 4.1- The Internet</h1>\n",
    "- **Packet**: Small amounts of data that get carried to a source and destination, similar to a jigsaw puzzle.\n",
    "<img width=\"285\" alt=\"Image\" src=\"https://github.com/user-attachments/assets/f87ada3f-e80b-458f-abd9-0965131ba5d6\"/>\n",
    "- **Computer Network**: Allows communication between two computers/users\n",
    "    - Uses **paths** and **routing**, routing is the pathfinder that allows for data communication.\n",
    "<img width=\"353\" alt=\"Image\" src=\"https://github.com/user-attachments/assets/b9eb0fba-e671-4d62-8ef8-8760023a7d2a\"/>\n",
    "- **Bandwith**: The maximum amount of data that can be sent along ONE path.\n",
    "Summary: Computer devices are able to SEND information by breaking down data into packets, which are then routed into paths. Computer networks connect mulitple paths, allowing another user to RECEIVE the information sent."
   ]
  },
  {
   "cell_type": "markdown",
   "metadata": {},
   "source": [
    "### Video 2\n",
    "- **OSI:** Open Systems Interconnect, 1 out of the 2 main communication protocols in computers created by IETF.\n",
    "- **TCP:** Transimission Control Protocol, 2 out of the 2 main communication protcols, establishes common standard for message sending.\n",
    "There are 4 layers to internet protocol:\n",
    "<img width=\"310\" alt=\"Image\" src=\"https://github.com/user-attachments/assets/d7373f62-fc34-4030-bbab-17496d848bc1\"/>\n",
    "1. Network Access: Focuses on hardware (Ethernet--> NIC-->MAC)\n",
    "    - Every NIC card has it's own MAC address that allows us to \"hop\" from one device to another.\n",
    "<img width=\"362\" alt=\"Image\" src=\"https://github.com/user-attachments/assets/79b0b8e5-e134-45df-aa3a-0998125604b8\"/>\n",
    "2. Internet Protocol: Packets get sender IP and receiver IP, and are now ready to transfer **metadata**.\n",
    "    - Packet jumps from router to router, changing their MAC addresses as they go.\n",
    "<img width=\"874\" alt=\"Image\" src=\"https://github.com/user-attachments/assets/5670b9e5-813e-4a9a-8482-17a2d4bb931d\"/>\n",
    "3. Transport Layer: Uses either Transmision Control Protocol or User Datagram Protcol\n",
    "    - **TCP**: Checks for errors, then FIXES them.\n",
    "    - **UDP**: Checks for errors, then DISCARDS them.\n",
    "<img width=\"325\" alt=\"Image\" src=\"https://github.com/user-attachments/assets/a6458427-58e6-4f9d-add1-9828abef7f25\" />\n",
    "4. Application Layer: DNS and the World Wide Web\n",
    "    - **DNS**: Translates human URLs into IP addresses, so they can be tracked\n",
    "    - **WWW**: NOT the internet, HTTP (uses URLS to link to other data)\n",
    "*Summary*: In order to safely transmit data, there are layers to the internet. Network access sets up devices with IP addressed needed for communication, Internet protocal packages and jumps from device to device, transport checks for bugs/debugging, and application is what we see."
   ]
  },
  {
   "cell_type": "markdown",
   "metadata": {},
   "source": [
    "### Video 3\n",
    "- **Redundancy**: Having multiple paths in a computer network allows for Fault Tolerance (a working communication system even when one path shuts down.)\n",
    "<img width=\"381\" alt=\"Image\" src=\"https://github.com/user-attachments/assets/44c333fb-4136-443f-99d4-d7fe3ed4544c\"/>\n",
    "*Summary*: The internet is fault tolerant. This is crucial because it would be bad if the entire internet breaks down due to a single path. Redundancy, or having multiple paths for communication prevents this from happening."
   ]
  },
  {
   "cell_type": "markdown",
   "metadata": {},
   "source": [
    "### Video 4\n",
    "- **Fault Tolerance**: There are multiple paths data can take to get from one device to any other device on the network. When more devices are added the network becomes stronger. <br> <img width=\"413\" alt=\"Image\" src=\"https://github.com/user-attachments/assets/2fb7ff64-053a-444e-b7fc-3bf086530544\" />"
   ]
  },
  {
   "cell_type": "markdown",
   "metadata": {},
   "source": [
    "### Video 5\n",
    "- **Computer Tasks**: Tasks need to be scheduled by the operating system. Balance tasks so all CPUs are beign used evenly and fully. Sequentially, in parallel, and distibuted to other computers.\n",
    "- **Sequential** Tasks done one after another. Adds up all the individual task execution times.\n",
    "- **Parallel Computing** schedules tasks to be executed at the same time. Done on the same computer. SOlutions scale more effictively. \n",
    "- **Sppedup Time** measured in the time it took to complete the task sequentially divided by the time it took to complete the task when done in parallel.\n",
    "- **Distributed Computing** sending of tasks from on ecomputer to one or more. Multiple devices are used to run a program. Needs a network. Mixes sequential and parallel. "
   ]
  }
 ],
 "metadata": {
  "language_info": {
   "name": "python"
  }
 },
 "nbformat": 4,
 "nbformat_minor": 2
}
