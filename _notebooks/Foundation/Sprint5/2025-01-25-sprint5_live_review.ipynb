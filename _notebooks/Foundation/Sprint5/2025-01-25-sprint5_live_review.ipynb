{
 "cells": [
  {
   "cell_type": "markdown",
   "metadata": {},
   "source": [
    "---\n",
    "comments: true\n",
    "layout: post\n",
    "title: 2025 Tuesday Live Review Blog Post\n",
    "description: Purpose of groups program, and individual feature\n",
    "sticky_rank: 1\n",
    "---"
   ]
  },
  {
   "cell_type": "markdown",
   "metadata": {},
   "source": [
    "## Input/Output requests.  Demo ways to Input to your full stack feature.\n",
    "- Using frontend show  API request and  present API response. (live demo) <br>\n",
    "<img width=\"905\" alt=\"Image\" src=\"https://github.com/user-attachments/assets/b543a261-61fb-4416-8822-b89155e5880d\" />\n",
    "- Using postman to show raw API request and RESTful response (error code(s) and JSON) <br>\n",
    "<img width=\"915\" alt=\"Image\" src=\"https://github.com/user-attachments/assets/64d22dc5-024f-46cb-b89b-6963bd830ed8\" /> <br> <img width=\"490\" alt=\"Image\" src=\"https://github.com/user-attachments/assets/65008af0-bbcf-41f1-8bbb-7ba4691e8a05\" /> <br>  <img width=\"473\" alt=\"Image\" src=\"https://github.com/user-attachments/assets/1b3cfb4d-197b-49ff-855f-3e479fd49c83\" />\n",
    "- Using db_init, db_restore, db_backup to show tester data creation and data recovery. <br>\n",
    "<img width=\"745\" alt=\"Image\" src=\"https://github.com/user-attachments/assets/f0e0110c-dc79-4a01-84c4-ba29a1945a80\" /> <br> <img width=\"731\" alt=\"Image\" src=\"https://github.com/user-attachments/assets/367146db-2717-4b1a-8797-4e7ad6d042b6\" />"
   ]
  },
  {
   "cell_type": "markdown",
   "metadata": {},
   "source": [
    "## List requests.  Use of list, dictionaries and database.  Code descriptions of area where you work with list (rows) and dictionaries (columns) of the database.\n",
    "<img width=\"725\" alt=\"Image\" src=\"https://github.com/user-attachments/assets/e07f65e3-0944-4962-9ce9-7f57ae225aba\" />\n",
    "- Discuss formatting response data (JSON) from API into DOM <br>\n",
    "<img width=\"413\" alt=\"Image\" src=\"https://github.com/user-attachments/assets/6fc8ec4a-0d22-4eaf-a035-a38c94bf17a4\" /> <br>\n",
    "frontend: DOM <br> <img width=\"475\" alt=\"Image\" src=\"https://github.com/user-attachments/assets/77f850db-1a9a-4d52-91ca-c3e0327f6052\" />\n",
    "- Discuss queries from database where you extract a Python List (rows). Mention how these queries are provide by a 3rd. party library. <br> <img width=\"707\" alt=\"Image\" src=\"https://github.com/user-attachments/assets/8b02993e-0e42-4cda-93ae-0b8cc8e4e7f6\" />\n",
    "- Discuss methods in \"class\" you created to work with columns (create, read, update, delete)\n",
    "create:<br> <img width=\"646\" alt=\"Image\" src=\"https://github.com/user-attachments/assets/0427ec76-3f3c-470a-a680-a68e69b26a29\" />\n",
    "read: <br> <img width=\"716\" alt=\"Image\" src=\"https://github.com/user-attachments/assets/fc951ae8-cc7f-4ac1-9103-0860890dd49b\" />\n",
    "update:<br>  <img width=\"302\" alt=\"Image\" src=\"https://github.com/user-attachments/assets/795741c0-8155-41ec-a3b4-998bbbd69897\" />\n",
    "delete:<br> <img width=\"646\" alt=\"Image\" src=\"https://github.com/user-attachments/assets/0427ec76-3f3c-470a-a680-a68e69b26a29\" />\n"
   ]
  },
  {
   "cell_type": "markdown",
   "metadata": {},
   "source": [
    "## Algorithmic code request. Show the definition of code blocks to handle a request.\n",
    "- Discuss API class (code block) you used to perform  get, post, put, and delete methods. <br>\n",
    "<img width=\"827\" alt=\"Image\" src=\"https://github.com/user-attachments/assets/9e167ae3-7b46-43b3-9d4a-6bb9f404f1cb\" /> <br> <img width=\"628\" alt=\"Image\" src=\"https://github.com/user-attachments/assets/21185c24-7da9-41b2-aecb-ad6e9b50a4a8\" />\n",
    "- Discuss a method/procedure in class that contains sequencing, selection, and iteration. <br>\n",
    "<img width=\"959\" alt=\"Image\" src=\"https://github.com/user-attachments/assets/168658b6-21b5-44be-a8d5-3fb1ca26fecf\" />\n",
    "- Discuss the parameters (body of request) and return type (jasonify) of the function.<br>\n",
    "<img width=\"959\" alt=\"Image\" src=\"https://github.com/user-attachments/assets/685c25f4-faa4-4d78-82cc-5edfbe3377a1\" />"
   ]
  },
  {
   "cell_type": "markdown",
   "metadata": {},
   "source": [
    "## Call to Algorithm request.  Show the definition of code block to make a request.\n",
    "- Discuss the call/request to the method with Algorithm (fetch to endpoint).<br>\n",
    "<img width=\"535\" alt=\"Image\" src=\"https://github.com/user-attachments/assets/f67ecc7d-69b1-4853-be99-555c1522a751\" /> <br> Defines groupName as 'Culinary Posts', which is the name of the group of channels being requested. responseData is an object that includes the group_name field, which will be sent in the request body.\n",
    "- Discuss the return/response from the method with Algorithm (fetch) and how you handle data.<br>\n",
    "The fetch() function sends an HTTP request to the backend. The request method is POST, meaning data is sent to the server. The body is converted into JSON format (JSON.stringify(responseData)). <br>\n",
    "fetching data: The function sends { group_name: 'Culinary Posts' } to the API. After Fetching (Output from API) The API returns an array of objects, each representing a channel:\n",
    "\n",
    "- Show how changing data or method triggers a different response, specifically normal conditions and error conditions.<br>"
   ]
  },
  {
   "cell_type": "markdown",
   "metadata": {},
   "source": [
    "## Purpose of Individual Feature"
   ]
  },
  {
   "cell_type": "markdown",
   "metadata": {},
   "source": [
    "- This is what the flowchart begun:\n",
    "<img width=\"524\" alt=\"Image\" src=\"https://github.com/user-attachments/assets/160e3487-7971-47fa-8d9c-a3e10ca3e84a\" />\n",
    "- This is a screenshot of the current flowchart of the tables I have been working on\n",
    "<img width=\"503\" alt=\"Image\" src=\"https://github.com/user-attachments/assets/11f5e5d9-cd80-480c-b6d5-006a77bd2331\" />\n",
    "- In this screenshot you can see that I organized all of the countries to be connected to the groups.py\n",
    "- I noticed that all of our postings on our review pages would only show up in our channel table in the backend, so I followed the flowchart to see which tables it was connected to \n",
    "- I found that the Channel table was also the only table connected to the posts.py, so I follwed those tables to find code that would connect the countries to the posts.py\n",
    "- I successfully connected the nigerias table to the posts table, which I think is a step forward to my end goal\n"
   ]
  },
  {
   "cell_type": "markdown",
   "metadata": {},
   "source": [
    "### Areas to work on / Burn down list\n",
    "- Connect the rest of the countries to the posts table (Use same code as nigerias)\n",
    "- Allow the backend to connect to the frontend\n",
    "- Once the backend is connected to the frontend, have the frontend show the review on our website\n",
    "- Get rid of failed to fetch error\n",
    "- Here is a screenshot of my latest burndown list:\n",
    "<img width=\"658\" alt=\"Image\" src=\"https://github.com/user-attachments/assets/ede1b67a-4d7f-45cb-937e-efd06e332c31\" />\n"
   ]
  },
  {
   "cell_type": "markdown",
   "metadata": {},
   "source": [
    "## Purpose of Groups Program"
   ]
  },
  {
   "cell_type": "markdown",
   "metadata": {},
   "source": [
    "Input/Output:\n",
    "- Posting feature for API Request and response\n",
    "- to show the RESTful API, we can plug in a URL into Postman (ex: http://127.0.0.1:8887/api/food), which then displays all the information under the \"food\" class of our code under our maps.\n",
    "- We created various table in SQLite using the CRUD method. The following commands allow us to creat, save, and remake the tables. (db_init, db_restore, db_backup). First we run db_init to make, db_backup to save the table, and db_restore to re make.\n",
    "List Requests:\n",
    "- About me Page: Each of the names and role assignments are our basic JSON data, which we then convert into API by attatching it to the API URL. By then attatching this URL to the frontend, it shows up as a part of our UI.\n",
    "- Working with columns was done by using the CRUD method, as well as making different classses. For example, in our About Me Page, every memeber in our group has their own defined class. When displayed in the frontent, these classes will show up as their own induvidual columns.\n",
    "Algorithmic Code Requests:\n",
    "- Staying on our About Me Page, we have a seperate code in our Frontend that specifies the method of GET, PULL, POST, or etc. Because of the specifies path, the URL then gets fetched and displayed on our website.\n",
    "    - Therefore, we have created our body of request in the backend which them shows up as a jasonify-ed version of our data in the frontend\n",
    "    - This process of code is also know as Iteration, because of how we looped the information of everyone in this group.\n",
    "Call to Algorithm Request:\n",
    "- Call and Requesting through Postman can be done by adding a breakpoint. The error that Postman gives us after adding the breakpoint, and then the debugging process shows how we handle data.\n",
    "- Changing the data within our backend files immediatley affects other things. For example, in our code that creates SQLite tables, we can easily edit our tester data. When we remake the table, it will display with new information, ass a result of the changed data."
   ]
  },
  {
   "cell_type": "markdown",
   "metadata": {},
   "source": [
    "### Group's Plan\n",
    "- As a group we worked together to get our posting in our review page for our countries to work from backend to frontend. \n",
    "- A function that we added was changing the group name for asia to japan when posting a review, which organizes our posts into categories\n",
    "- This image shows how when we type in our review (Restarunt Name, Stars, and Description) it runs through our backed and is shown on our website through our frontend\n",
    "<img width=\"548\" alt=\"Image\" src=\"https://github.com/user-attachments/assets/ab6f7014-fec7-46d5-a3ea-5ed49694be2f\" />\n",
    "- This image shows our table in our bakend that stores the data of our review\n",
    "<img width=\"959\" alt=\"Image\" src=\"https://github.com/user-attachments/assets/27b7779c-48d5-440a-96d1-8d2f91593ea5\" />"
   ]
  }
 ],
 "metadata": {
  "language_info": {
   "name": "python"
  }
 },
 "nbformat": 4,
 "nbformat_minor": 2
}
