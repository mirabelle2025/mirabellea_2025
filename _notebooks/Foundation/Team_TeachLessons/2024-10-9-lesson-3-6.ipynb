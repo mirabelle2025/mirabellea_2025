{
 "cells": [
  {
   "cell_type": "markdown",
   "metadata": {},
   "source": [
    "---\n",
    "layout: post\n",
    "title: Homeworks and Popcorn Hacks for Lessons\n",
    "description: Homeworks and Hacks for Lesson 3.6\n",
    "courses: { csp: {week:1} }\n",
    "menu: nav/lessons.html\n",
    "permalink: /lesson/3-6\n",
    "comments: true\n",
    "---"
   ]
  },
  {
   "cell_type": "markdown",
   "metadata": {},
   "source": [
    "# Lesson 3.6 Popcorn Hacks and Homework"
   ]
  },
  {
   "cell_type": "markdown",
   "metadata": {},
   "source": [
    "## Popcorn Hack #1"
   ]
  },
  {
   "cell_type": "markdown",
   "metadata": {},
   "source": [
    "### Javascript Version"
   ]
  },
  {
   "cell_type": "code",
   "execution_count": 9,
   "metadata": {
    "vscode": {
     "languageId": "javascript"
    }
   },
   "outputs": [
    {
     "data": {
      "application/javascript": "let teamScore = 3;\nlet opponentScore = 2;\n\nif (teamScore > opponentScore) {\n    console.log(\"Your team is winning!\");\n} else {\n    console.log(\"Your team is not winning, keep pushing!\");\n}\n",
      "text/plain": [
       "<IPython.core.display.Javascript object>"
      ]
     },
     "metadata": {},
     "output_type": "display_data"
    }
   ],
   "source": [
    "%%js\n",
    "let teamScore = 3;\n",
    "let opponentScore = 2;\n",
    "\n",
    "if (teamScore > opponentScore) {\n",
    "    console.log(\"Your team is winning!\");\n",
    "} else {\n",
    "    console.log(\"Your team is not winning, keep pushing!\");\n",
    "}\n"
   ]
  },
  {
   "cell_type": "markdown",
   "metadata": {},
   "source": [
    "### Python Version"
   ]
  },
  {
   "cell_type": "code",
   "execution_count": 8,
   "metadata": {},
   "outputs": [
    {
     "name": "stdout",
     "output_type": "stream",
     "text": [
      "Your team is winning!\n"
     ]
    }
   ],
   "source": [
    "team_score = 3\n",
    "opponent_score = 2\n",
    "\n",
    "if team_score > opponent_score:\n",
    "    print(\"Your team is winning!\")\n",
    "else:\n",
    "    print(\"Your team is not winning, keep pushing!\")"
   ]
  },
  {
   "cell_type": "markdown",
   "metadata": {},
   "source": [
    "## Popcorn Hack #2"
   ]
  },
  {
   "cell_type": "markdown",
   "metadata": {},
   "source": [
    "### Javascript Version"
   ]
  },
  {
   "cell_type": "code",
   "execution_count": 11,
   "metadata": {
    "vscode": {
     "languageId": "javascript"
    }
   },
   "outputs": [
    {
     "data": {
      "application/javascript": "let userInput = prompt(\"Did your team win the soccer game? (yes/no)\").toLowerCase();\nlet teamWon = (userInput === \"yes\");\n\nif (teamWon) {\n    console.log(\"Congratulations! Your team won the game.\");\n} else {\n    console.log(\"Better luck next time. Keep working hard!\");\n}\n",
      "text/plain": [
       "<IPython.core.display.Javascript object>"
      ]
     },
     "metadata": {},
     "output_type": "display_data"
    }
   ],
   "source": [
    "%%js\n",
    "let userInput = prompt(\"Did your team win the soccer game? (yes/no)\").toLowerCase();\n",
    "let teamWon = (userInput === \"yes\");\n",
    "\n",
    "if (teamWon) {\n",
    "    console.log(\"Congratulations! Your team won the game.\");\n",
    "} else {\n",
    "    console.log(\"Better luck next time. Keep working hard!\");\n",
    "}"
   ]
  },
  {
   "cell_type": "markdown",
   "metadata": {},
   "source": [
    "### Python Version"
   ]
  },
  {
   "cell_type": "code",
   "execution_count": 12,
   "metadata": {},
   "outputs": [
    {
     "name": "stdout",
     "output_type": "stream",
     "text": [
      "Congratulations! Your team won the game.\n"
     ]
    }
   ],
   "source": [
    "user_input = input(\"Did your team win the soccer game? (yes/no): \").lower()\n",
    "team_won = (user_input == \"yes\")\n",
    "\n",
    "if team_won:\n",
    "    print(\"Congratulations! Your team won the game.\")\n",
    "else:\n",
    "    print(\"Better luck next time. Keep working hard!\")\n"
   ]
  },
  {
   "cell_type": "markdown",
   "metadata": {},
   "source": [
    "## Popcorn Hack #3"
   ]
  },
  {
   "cell_type": "markdown",
   "metadata": {},
   "source": [
    "### Javascript Version"
   ]
  },
  {
   "cell_type": "code",
   "execution_count": 16,
   "metadata": {
    "vscode": {
     "languageId": "javascript"
    }
   },
   "outputs": [
    {
     "data": {
      "application/javascript": "let prizes = [\"a brand new car\", \"a vacation trip\", \"a free meal\", \"a gift card\", \"a laptop\", \"nothing\"];\n\nlet prizeIndex = Math.floor(Math.random() * prizes.length); \n\nconsole.log(\"Spinning the wheel of fortune...\");\nlet selectedPrize = prizes[prizeIndex];\nconsole.log(`Congratulations! You won ${selectedPrize}!`);\n\nif (selectedPrize === \"nothing\") {\n    console.log(\"Oh no! Better luck next time.\");\n} else if (selectedPrize === \"a brand new car\") {\n    console.log(\"Wow! You hit the jackpot!\");\n} else if (selectedPrize === \"a vacation trip\") {\n    console.log(\"Pack your bags! You're going on a vacation!\");\n} else if (selectedPrize === \"a free meal\") {\n    console.log(\"Enjoy your free meal at a fancy restaurant.\");\n} else if (selectedPrize === \"a gift card\") {\n    console.log(\"You got a gift card! Time to go shopping.\");\n} else {\n    console.log(\"Awesome! A new laptop to boost your productivity.\");\n}\n",
      "text/plain": [
       "<IPython.core.display.Javascript object>"
      ]
     },
     "metadata": {},
     "output_type": "display_data"
    }
   ],
   "source": [
    "%%js\n",
    "let prizes = [\"a brand new car\", \"a vacation trip\", \"a free meal\", \"a gift card\", \"a laptop\", \"nothing\"];\n",
    "\n",
    "let prizeIndex = Math.floor(Math.random() * prizes.length); \n",
    "\n",
    "console.log(\"Spinning the wheel of fortune...\");\n",
    "let selectedPrize = prizes[prizeIndex];\n",
    "console.log(`Congratulations! You won ${selectedPrize}!`);\n",
    "\n",
    "if (selectedPrize === \"nothing\") {\n",
    "    console.log(\"Oh no! Better luck next time.\");\n",
    "} else if (selectedPrize === \"a brand new car\") {\n",
    "    console.log(\"Wow! You hit the jackpot!\");\n",
    "} else if (selectedPrize === \"a vacation trip\") {\n",
    "    console.log(\"Pack your bags! You're going on a vacation!\");\n",
    "} else if (selectedPrize === \"a free meal\") {\n",
    "    console.log(\"Enjoy your free meal at a fancy restaurant.\");\n",
    "} else if (selectedPrize === \"a gift card\") {\n",
    "    console.log(\"You got a gift card! Time to go shopping.\");\n",
    "} else {\n",
    "    console.log(\"Awesome! A new laptop to boost your productivity.\");\n",
    "}"
   ]
  },
  {
   "cell_type": "markdown",
   "metadata": {},
   "source": [
    "### Python Version"
   ]
  },
  {
   "cell_type": "code",
   "execution_count": 15,
   "metadata": {},
   "outputs": [
    {
     "name": "stdout",
     "output_type": "stream",
     "text": [
      "Spinning the wheel of fortune...\n",
      "Congratulations! You won a brand new car!\n",
      "Wow! You hit the jackpot!\n"
     ]
    }
   ],
   "source": [
    "import random\n",
    "\n",
    "prizes = [\"a brand new car\", \"a vacation trip\", \"a free meal\", \"a gift card\", \"a laptop\", \"nothing\"]\n",
    "\n",
    "prize_index = random.randint(0, len(prizes) - 1)\n",
    "\n",
    "print(\"Spinning the wheel of fortune...\")\n",
    "selected_prize = prizes[prize_index]\n",
    "print(f\"Congratulations! You won {selected_prize}!\")\n",
    "\n",
    "if selected_prize == \"nothing\":\n",
    "    print(\"Oh no! Better luck next time.\")\n",
    "elif selected_prize == \"a brand new car\":\n",
    "    print(\"Wow! You hit the jackpot!\")\n",
    "elif selected_prize == \"a vacation trip\":\n",
    "    print(\"Pack your bags! You're going on a vacation!\")\n",
    "elif selected_prize == \"a free meal\":\n",
    "    print(\"Enjoy your free meal at a fancy restaurant.\")\n",
    "elif selected_prize == \"a gift card\":\n",
    "    print(\"You got a gift card! Time to go shopping.\")\n",
    "else:\n",
    "    print(\"Awesome! A new laptop to boost your productivity.\")\n"
   ]
  },
  {
   "cell_type": "markdown",
   "metadata": {},
   "source": [
    "## Homeowork 3.6"
   ]
  }
 ],
 "metadata": {
  "language_info": {
   "name": "python"
  }
 },
 "nbformat": 4,
 "nbformat_minor": 2
}
