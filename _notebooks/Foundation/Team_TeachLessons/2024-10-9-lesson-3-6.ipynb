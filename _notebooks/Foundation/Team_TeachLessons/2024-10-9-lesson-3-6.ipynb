{
 "cells": [
  {
   "cell_type": "markdown",
   "metadata": {},
   "source": [
    "---\n",
    "layout: post\n",
    "title: Homeworks and Popcorn Hacks for Lessons\n",
    "description: Homeworks and Hacks for Lesson 3.6\n",
    "courses: { csp: {week:1} }\n",
    "menu: nav/lessons.html\n",
    "permalink: /lesson/3-6\n",
    "comments: true\n",
    "---"
   ]
  },
  {
   "cell_type": "markdown",
   "metadata": {},
   "source": [
    "# Lesson 3.6 Popcorn Hacks and Homework"
   ]
  },
  {
   "cell_type": "markdown",
   "metadata": {},
   "source": [
    "## Popcorn Hack #1"
   ]
  },
  {
   "cell_type": "markdown",
   "metadata": {},
   "source": [
    "### Javascript Version"
   ]
  },
  {
   "cell_type": "code",
   "execution_count": 9,
   "metadata": {
    "vscode": {
     "languageId": "javascript"
    }
   },
   "outputs": [
    {
     "data": {
      "application/javascript": "let teamScore = 3;\nlet opponentScore = 2;\n\nif (teamScore > opponentScore) {\n    console.log(\"Your team is winning!\");\n} else {\n    console.log(\"Your team is not winning, keep pushing!\");\n}\n",
      "text/plain": [
       "<IPython.core.display.Javascript object>"
      ]
     },
     "metadata": {},
     "output_type": "display_data"
    }
   ],
   "source": [
    "%%js\n",
    "let teamScore = 3;\n",
    "let opponentScore = 2;\n",
    "\n",
    "if (teamScore > opponentScore) {\n",
    "    console.log(\"Your team is winning!\");\n",
    "} else {\n",
    "    console.log(\"Your team is not winning, keep pushing!\");\n",
    "}\n"
   ]
  },
  {
   "cell_type": "markdown",
   "metadata": {},
   "source": [
    "### Python Version"
   ]
  },
  {
   "cell_type": "code",
   "execution_count": 8,
   "metadata": {},
   "outputs": [
    {
     "name": "stdout",
     "output_type": "stream",
     "text": [
      "Your team is winning!\n"
     ]
    }
   ],
   "source": [
    "team_score = 3\n",
    "opponent_score = 2\n",
    "\n",
    "if team_score > opponent_score:\n",
    "    print(\"Your team is winning!\")\n",
    "else:\n",
    "    print(\"Your team is not winning, keep pushing!\")"
   ]
  },
  {
   "cell_type": "markdown",
   "metadata": {},
   "source": [
    "## Popcorn Hack #2"
   ]
  },
  {
   "cell_type": "markdown",
   "metadata": {},
   "source": [
    "### Javascript Version"
   ]
  },
  {
   "cell_type": "code",
   "execution_count": 11,
   "metadata": {
    "vscode": {
     "languageId": "javascript"
    }
   },
   "outputs": [
    {
     "data": {
      "application/javascript": "let userInput = prompt(\"Did your team win the soccer game? (yes/no)\").toLowerCase();\nlet teamWon = (userInput === \"yes\");\n\nif (teamWon) {\n    console.log(\"Congratulations! Your team won the game.\");\n} else {\n    console.log(\"Better luck next time. Keep working hard!\");\n}\n",
      "text/plain": [
       "<IPython.core.display.Javascript object>"
      ]
     },
     "metadata": {},
     "output_type": "display_data"
    }
   ],
   "source": [
    "%%js\n",
    "let userInput = prompt(\"Did your team win the soccer game? (yes/no)\").toLowerCase();\n",
    "let teamWon = (userInput === \"yes\");\n",
    "\n",
    "if (teamWon) {\n",
    "    console.log(\"Congratulations! Your team won the game.\");\n",
    "} else {\n",
    "    console.log(\"Better luck next time. Keep working hard!\");\n",
    "}"
   ]
  },
  {
   "cell_type": "markdown",
   "metadata": {},
   "source": [
    "### Python Version"
   ]
  },
  {
   "cell_type": "code",
   "execution_count": 12,
   "metadata": {},
   "outputs": [
    {
     "name": "stdout",
     "output_type": "stream",
     "text": [
      "Congratulations! Your team won the game.\n"
     ]
    }
   ],
   "source": [
    "user_input = input(\"Did your team win the soccer game? (yes/no): \").lower()\n",
    "team_won = (user_input == \"yes\")\n",
    "\n",
    "if team_won:\n",
    "    print(\"Congratulations! Your team won the game.\")\n",
    "else:\n",
    "    print(\"Better luck next time. Keep working hard!\")\n"
   ]
  },
  {
   "cell_type": "markdown",
   "metadata": {},
   "source": [
    "## Popcorn Hack #3"
   ]
  },
  {
   "cell_type": "markdown",
   "metadata": {},
   "source": [
    "### Javascript Version"
   ]
  },
  {
   "cell_type": "code",
   "execution_count": 16,
   "metadata": {
    "vscode": {
     "languageId": "javascript"
    }
   },
   "outputs": [
    {
     "data": {
      "application/javascript": "let prizes = [\"a brand new car\", \"a vacation trip\", \"a free meal\", \"a gift card\", \"a laptop\", \"nothing\"];\n\nlet prizeIndex = Math.floor(Math.random() * prizes.length); \n\nconsole.log(\"Spinning the wheel of fortune...\");\nlet selectedPrize = prizes[prizeIndex];\nconsole.log(`Congratulations! You won ${selectedPrize}!`);\n\nif (selectedPrize === \"nothing\") {\n    console.log(\"Oh no! Better luck next time.\");\n} else if (selectedPrize === \"a brand new car\") {\n    console.log(\"Wow! You hit the jackpot!\");\n} else if (selectedPrize === \"a vacation trip\") {\n    console.log(\"Pack your bags! You're going on a vacation!\");\n} else if (selectedPrize === \"a free meal\") {\n    console.log(\"Enjoy your free meal at a fancy restaurant.\");\n} else if (selectedPrize === \"a gift card\") {\n    console.log(\"You got a gift card! Time to go shopping.\");\n} else {\n    console.log(\"Awesome! A new laptop to boost your productivity.\");\n}\n",
      "text/plain": [
       "<IPython.core.display.Javascript object>"
      ]
     },
     "metadata": {},
     "output_type": "display_data"
    }
   ],
   "source": [
    "%%js\n",
    "let prizes = [\"a brand new car\", \"a vacation trip\", \"a free meal\", \"a gift card\", \"a laptop\", \"nothing\"];\n",
    "\n",
    "let prizeIndex = Math.floor(Math.random() * prizes.length); \n",
    "\n",
    "console.log(\"Spinning the wheel of fortune...\");\n",
    "let selectedPrize = prizes[prizeIndex];\n",
    "console.log(`Congratulations! You won ${selectedPrize}!`);\n",
    "\n",
    "if (selectedPrize === \"nothing\") {\n",
    "    console.log(\"Oh no! Better luck next time.\");\n",
    "} else if (selectedPrize === \"a brand new car\") {\n",
    "    console.log(\"Wow! You hit the jackpot!\");\n",
    "} else if (selectedPrize === \"a vacation trip\") {\n",
    "    console.log(\"Pack your bags! You're going on a vacation!\");\n",
    "} else if (selectedPrize === \"a free meal\") {\n",
    "    console.log(\"Enjoy your free meal at a fancy restaurant.\");\n",
    "} else if (selectedPrize === \"a gift card\") {\n",
    "    console.log(\"You got a gift card! Time to go shopping.\");\n",
    "} else {\n",
    "    console.log(\"Awesome! A new laptop to boost your productivity.\");\n",
    "}"
   ]
  },
  {
   "cell_type": "markdown",
   "metadata": {},
   "source": [
    "### Python Version"
   ]
  },
  {
   "cell_type": "code",
   "execution_count": 15,
   "metadata": {},
   "outputs": [
    {
     "name": "stdout",
     "output_type": "stream",
     "text": [
      "Spinning the wheel of fortune...\n",
      "Congratulations! You won a brand new car!\n",
      "Wow! You hit the jackpot!\n"
     ]
    }
   ],
   "source": [
    "import random\n",
    "\n",
    "prizes = [\"a brand new car\", \"a vacation trip\", \"a free meal\", \"a gift card\", \"a laptop\", \"nothing\"]\n",
    "\n",
    "prize_index = random.randint(0, len(prizes) - 1)\n",
    "\n",
    "print(\"Spinning the wheel of fortune...\")\n",
    "selected_prize = prizes[prize_index]\n",
    "print(f\"Congratulations! You won {selected_prize}!\")\n",
    "\n",
    "if selected_prize == \"nothing\":\n",
    "    print(\"Oh no! Better luck next time.\")\n",
    "elif selected_prize == \"a brand new car\":\n",
    "    print(\"Wow! You hit the jackpot!\")\n",
    "elif selected_prize == \"a vacation trip\":\n",
    "    print(\"Pack your bags! You're going on a vacation!\")\n",
    "elif selected_prize == \"a free meal\":\n",
    "    print(\"Enjoy your free meal at a fancy restaurant.\")\n",
    "elif selected_prize == \"a gift card\":\n",
    "    print(\"You got a gift card! Time to go shopping.\")\n",
    "else:\n",
    "    print(\"Awesome! A new laptop to boost your productivity.\")\n"
   ]
  },
  {
   "cell_type": "markdown",
   "metadata": {},
   "source": [
    "## Homeowork 3.6"
   ]
  },
  {
   "cell_type": "markdown",
   "metadata": {},
   "source": [
    "### Python Version"
   ]
  },
  {
   "cell_type": "code",
   "execution_count": 18,
   "metadata": {},
   "outputs": [
    {
     "name": "stdout",
     "output_type": "stream",
     "text": [
      "Welcome to the Space and Astronomy Quiz!\n",
      "\n",
      "Which planet is known as the Red Planet?\n",
      "A) Venus\n",
      "B) Earth\n",
      "C) Mars\n",
      "D) Jupiter\n",
      "Correct!\n",
      "\n",
      "What is the name of our galaxy?\n",
      "A) Andromeda\n",
      "B) Milky Way\n",
      "C) Triangulum\n",
      "D) Whirlpool\n",
      "Correct!\n",
      "\n",
      "What is the largest planet in our solar system?\n",
      "A) Earth\n",
      "B) Jupiter\n",
      "C) Mars\n",
      "D) Saturn\n",
      "Correct!\n",
      "\n",
      "What is the closest star to Earth?\n",
      "A) Proxima Centauri\n",
      "B) Alpha Centauri\n",
      "C) Betelgeuse\n",
      "D) Sirius\n",
      "Correct!\n",
      "\n",
      "How many planets are in our solar system?\n",
      "A) 7\n",
      "B) 8\n",
      "C) 9\n",
      "D) 10\n",
      "Correct!\n",
      "\n",
      "Quiz over! Your score: 5/5\n"
     ]
    }
   ],
   "source": [
    "import random\n",
    "\n",
    "questions = [\n",
    "    {\n",
    "        \"question\": \"What is the largest planet in our solar system?\",\n",
    "        \"options\": [\"A) Earth\", \"B) Jupiter\", \"C) Mars\", \"D) Saturn\"],\n",
    "        \"answer\": \"B\"\n",
    "    },\n",
    "    {\n",
    "        \"question\": \"What is the closest star to Earth?\",\n",
    "        \"options\": [\"A) Proxima Centauri\", \"B) Alpha Centauri\", \"C) Betelgeuse\", \"D) Sirius\"],\n",
    "        \"answer\": \"A\"\n",
    "    },\n",
    "    {\n",
    "        \"question\": \"Which planet is known as the Red Planet?\",\n",
    "        \"options\": [\"A) Venus\", \"B) Earth\", \"C) Mars\", \"D) Jupiter\"],\n",
    "        \"answer\": \"C\"\n",
    "    },\n",
    "    {\n",
    "        \"question\": \"What is the name of our galaxy?\",\n",
    "        \"options\": [\"A) Andromeda\", \"B) Milky Way\", \"C) Triangulum\", \"D) Whirlpool\"],\n",
    "        \"answer\": \"B\"\n",
    "    },\n",
    "    {\n",
    "        \"question\": \"How many planets are in our solar system?\",\n",
    "        \"options\": [\"A) 7\", \"B) 8\", \"C) 9\", \"D) 10\"],\n",
    "        \"answer\": \"B\"\n",
    "    }\n",
    "]\n",
    "\n",
    "def ask_question(question_data):\n",
    "    \"\"\"Function to ask a single question and return if the answer is correct.\"\"\"\n",
    "    print(question_data[\"question\"])\n",
    "    for option in question_data[\"options\"]:\n",
    "        print(option)\n",
    "    \n",
    "    answer = input(\"Your answer (A/B/C/D): \").strip().upper()\n",
    "    \n",
    "    if answer == question_data[\"answer\"]:\n",
    "        print(\"Correct!\\n\")\n",
    "        return True\n",
    "    else:\n",
    "        print(f\"Wrong! The correct answer was {question_data['answer']}\\n\")\n",
    "        return False\n",
    "\n",
    "def quiz():\n",
    "    \"\"\"Main function to run the quiz.\"\"\"\n",
    "    print(\"Welcome to the Space and Astronomy Quiz!\\n\")\n",
    "    score = 0\n",
    "    \n",
    "    random.shuffle(questions)\n",
    "\n",
    "    for question_data in questions:\n",
    "        if ask_question(question_data):\n",
    "            score += 1\n",
    "\n",
    "    print(f\"Quiz over! Your score: {score}/{len(questions)}\")\n",
    "\n",
    "if __name__ == \"__main__\":\n",
    "    quiz()\n"
   ]
  }
 ],
 "metadata": {
  "kernelspec": {
   "display_name": "venv",
   "language": "python",
   "name": "python3"
  },
  "language_info": {
   "name": "python",
   "version": "3.12.3"
  }
 },
 "nbformat": 4,
 "nbformat_minor": 2
}
