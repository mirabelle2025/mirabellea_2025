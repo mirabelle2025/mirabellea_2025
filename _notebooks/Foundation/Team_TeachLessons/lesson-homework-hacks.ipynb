{
 "cells": [
  {
   "cell_type": "markdown",
   "metadata": {},
   "source": [
    "# Lesson 3.10 Popcorn Hacks and Homework"
   ]
  }
 ],
 "metadata": {
  "language_info": {
   "name": "python"
  }
 },
 "nbformat": 4,
 "nbformat_minor": 2
}
