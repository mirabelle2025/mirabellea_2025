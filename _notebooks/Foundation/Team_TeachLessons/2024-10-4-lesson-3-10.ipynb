{
 "cells": [
  {
   "cell_type": "raw",
   "metadata": {},
   "source": [
    "---\n",
    "layout: post\n",
    "title: Homeworks and Popcorn Hacks for Lessons\n",
    "description: All Homeworks and Hacks for Lessons\n",
    "courses: { csp: {week:1} }\n",
    "comments: true\n",
    "sticky_rank: 1\n",
    "---"
   ]
  },
  {
   "cell_type": "markdown",
   "metadata": {},
   "source": [
    "# Lesson 3.10 Popcorn Hacks and Homework"
   ]
  },
  {
   "cell_type": "markdown",
   "metadata": {},
   "source": [
    "## Popcorn Hack #1"
   ]
  },
  {
   "cell_type": "code",
   "execution_count": 1,
   "metadata": {},
   "outputs": [
    {
     "name": "stdout",
     "output_type": "stream",
     "text": [
      "Adding Numbers In List Script\n",
      "-------------------------\n",
      "Added 2 to list.\n",
      "Removed 2 from list.\n",
      "Sum of numbers in list is 0\n",
      "Added 24 to list.\n",
      "Added 12 to list.\n",
      "Added 10 to list.\n",
      "Added 8 to list.\n",
      "Added 6 to list.\n",
      "Added 4 to list.\n",
      "Added 2 to list.\n"
     ]
    }
   ],
   "source": [
    "print(\"Adding Numbers In List Script\")\n",
    "print(\"-\"*25)\n",
    "numlist = []\n",
    "while True:\n",
    "    start = input(\"Would you like to (1) enter numbers (2) add numbers (3) remove last value added or (4) exit: \")\n",
    "    if start == \"1\":\n",
    "        val = input(\"Enter a numeric value: \") # take input while storing it in a variable\n",
    "        try: \n",
    "            test = int(val) # testing to see if input is an integer (numeric)\n",
    "        except:\n",
    "            print(\"Please enter a valid number\")\n",
    "            continue # 'continue' keyword skips to next step of while loop (basically restarting the loop)\n",
    "        numlist.append(int(val)) # append method to add values\n",
    "        print(\"Added \"+val+\" to list.\")\n",
    "    elif start == \"2\":\n",
    "        sum = 0\n",
    "        for num in numlist: # loop through list and add all values to sum variable\n",
    "            sum += num\n",
    "        print(\"Sum of numbers in list is \"+str(sum))\n",
    "    elif start == \"3\":\n",
    "        if len(numlist) > 0: # Make sure there are values in list to remove\n",
    "            print(\"Removed \"+str(numlist[len(numlist)-1])+\" from list.\")\n",
    "            numlist.pop()\n",
    "        else:\n",
    "            print(\"No values to delete\")\n",
    "    elif start == \"4\":\n",
    "        break # Break out of the while loop, or it will continue running forever\n",
    "    else:\n",
    "        continue"
   ]
  },
  {
   "cell_type": "markdown",
   "metadata": {},
   "source": [
    "## Popcorn Hack #3"
   ]
  },
  {
   "cell_type": "code",
   "execution_count": 5,
   "metadata": {},
   "outputs": [
    {
     "name": "stdout",
     "output_type": "stream",
     "text": [
      "longsleeve with shorts\n"
     ]
    }
   ],
   "source": [
    "import random\n",
    "\n",
    "# Define tops and bottoms\n",
    "tops = ['tanktop', 'shortsleeve', 'longsleeve', 'sweater']\n",
    "bottoms = ['jeans', 'sweatpants', 'leggings', 'shorts']\n",
    "\n",
    "# Create outfit combinations using list comprehension\n",
    "outfit_combinations = [f\"{top} with {bottom}\" for top in tops for bottom in bottoms]\n",
    "\n",
    "# Print a random outfit combination\n",
    "print(random.choice(outfit_combinations))"
   ]
  },
  {
   "cell_type": "markdown",
   "metadata": {},
   "source": [
    "## 3.10.1 Homework (List Operations)"
   ]
  },
  {
   "cell_type": "code",
   "execution_count": 6,
   "metadata": {},
   "outputs": [
    {
     "name": "stdout",
     "output_type": "stream",
     "text": [
      "Current list: ['apple', 42, True, 3.14, 'banana', False, 100]\n",
      "Removed item: 42\n",
      "Updated list: ['apple', True, 3.14, 'banana', False, 100]\n"
     ]
    }
   ],
   "source": [
    "# Initial list with various data values\n",
    "data_list = ['apple', 42, True, 3.14, 'banana', False, 100]\n",
    "\n",
    "# Display the list to the user\n",
    "print(\"Current list:\", data_list)\n",
    "\n",
    "# Ask the user to input an index\n",
    "try:\n",
    "    index = int(input(\"Enter an index to remove: \"))\n",
    "\n",
    "    # Check if the index is within the valid range\n",
    "    if 0 <= index < len(data_list):\n",
    "        # Remove the item at the specified index\n",
    "        removed_item = data_list.pop(index)\n",
    "        print(f\"Removed item: {removed_item}\")\n",
    "    else:\n",
    "        print(\"Invalid index. Please enter a number within the list's range.\")\n",
    "    \n",
    "except ValueError:\n",
    "    print(\"Please enter a valid number.\")\n",
    "\n",
    "# Display the updated list\n",
    "print(\"Updated list:\", data_list)"
   ]
  },
  {
   "cell_type": "markdown",
   "metadata": {},
   "source": [
    "## 3.10.2 Homework (Pseudocode)"
   ]
  },
  {
   "cell_type": "raw",
   "metadata": {
    "vscode": {
     "languageId": "raw"
    }
   },
   "source": [
    "1. Initialize an empty list called numbers\n",
    "2. For i from 1 to 30:\n",
    "      a. Append i to the numbers list\n",
    "3. Initialize sum_even to 0\n",
    "4. Initialize sum_odd to 0\n",
    "5. For each number in numbers:\n",
    "      a. If the number is even:\n",
    "            i. Add the number to sum_even\n",
    "      b. Else:\n",
    "            i. Add the number to sum_odd\n",
    "6. Print sum_even\n",
    "7. Print sum_odd"
   ]
  },
  {
   "cell_type": "code",
   "execution_count": 7,
   "metadata": {},
   "outputs": [
    {
     "name": "stdout",
     "output_type": "stream",
     "text": [
      "Sum of even numbers: 240\n",
      "Sum of odd numbers: 225\n"
     ]
    }
   ],
   "source": [
    "# Initialize the list\n",
    "numbers = [i for i in range(1, 31)]\n",
    "\n",
    "# Initialize sums\n",
    "sum_even = 0\n",
    "sum_odd = 0\n",
    "\n",
    "# Calculate the sums\n",
    "for number in numbers:\n",
    "    if number % 2 == 0:\n",
    "        sum_even += number\n",
    "    else:\n",
    "        sum_odd += number\n",
    "\n",
    "# Print the results\n",
    "print(\"Sum of even numbers:\", sum_even)\n",
    "print(\"Sum of odd numbers:\", sum_odd)"
   ]
  },
  {
   "cell_type": "markdown",
   "metadata": {},
   "source": [
    "## 3.10.3 Homework (List Functions)"
   ]
  },
  {
   "cell_type": "code",
   "execution_count": 8,
   "metadata": {},
   "outputs": [
    {
     "name": "stdout",
     "output_type": "stream",
     "text": [
      "One of my favorite hobbies is: Soccer\n",
      "One of my favorite hobbies is: Snowboarding\n",
      "One of my favorite hobbies is: Surfing\n",
      "One of my favorite hobbies is: Coding\n",
      "One of my favorite hobbies is: Flag Football\n"
     ]
    }
   ],
   "source": [
    "# List of favorite hobbies\n",
    "favorite_hobbies = [\"Soccer\", \"Snowboarding\", \"Surfing\", \"Coding\", \"Flag Football\"]\n",
    "\n",
    "# Loop through the list and print each hobby\n",
    "for hobby in favorite_hobbies:\n",
    "    print(\"One of my favorite hobbies is:\", hobby)\n"
   ]
  },
  {
   "cell_type": "markdown",
   "metadata": {},
   "source": [
    "## 3.10.4 Homework (List Input)"
   ]
  },
  {
   "cell_type": "code",
   "execution_count": 1,
   "metadata": {},
   "outputs": [
    {
     "name": "stdout",
     "output_type": "stream",
     "text": [
      "Your answers to the questions are:\n",
      "Question 1: Yes\n",
      "Question 2: Yes\n"
     ]
    }
   ],
   "source": [
    "# Initialize an empty list to store answers\n",
    "answers = []\n",
    "\n",
    "# First question\n",
    "question1 = input(\"Do you like coding? (yes/no): \").strip().lower()\n",
    "answers.append(question1)\n",
    "\n",
    "# Second question\n",
    "question2 = input(\"Have you worked on projects before? (yes/no): \").strip().lower()\n",
    "answers.append(question2)\n",
    "\n",
    "# Print the answers\n",
    "print(\"Your answers to the questions are:\")\n",
    "for idx, answer in enumerate(answers, start=1):\n",
    "    print(f\"Question {idx}: {answer.capitalize()}\")"
   ]
  }
 ],
 "metadata": {
  "kernelspec": {
   "display_name": "venv",
   "language": "python",
   "name": "python3"
  },
  "language_info": {
   "codemirror_mode": {
    "name": "ipython",
    "version": 3
   },
   "file_extension": ".py",
   "mimetype": "text/x-python",
   "name": "python",
   "nbconvert_exporter": "python",
   "pygments_lexer": "ipython3",
   "version": "3.12.3"
  }
 },
 "nbformat": 4,
 "nbformat_minor": 2
}
