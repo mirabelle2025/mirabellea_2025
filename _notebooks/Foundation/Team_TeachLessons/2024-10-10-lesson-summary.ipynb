{
 "cells": [
  {
   "cell_type": "markdown",
   "metadata": {},
   "source": [
    "---\n",
    "layout: post\n",
    "title: Homework and Popcorn Hacks for Lessons\n",
    "description: Mirabelle's Popcorn Hacks and Homework Assignments with Summary Page\n",
    "courses: { csp: {week:1} }\n",
    "menu: nav/lessons.html\n",
    "permalink: /lesson/summary\n",
    "comments: true\n",
    "sticky_rank: 1\n",
    "---"
   ]
  },
  {
   "cell_type": "markdown",
   "metadata": {},
   "source": [
    "| [Lesson 3.1](/mirabellea_2025/lesson/3-1 \"Summary of Page 1\") | [Lesson 3.2](/mirabellea_2025/lesson/3-2) | [Lesson 3.3](/mirabellea_2025/lesson/3-3) |\n",
    "| [Lesson 3.4](/mirabellea_2025/lesson/3-4) | [Lesson 3.5](/mirabellea_2025/lesson/3-5) | [Lesson 3.6](/mirabellea_2025/lesson/3-6) |\n",
    "| [Lesson 3.7](/mirabellea_2025/lesson/3-7) | [Lesson 3.9](/mirabellea_2025/lesson/3-9) | [Lesson 3.10](/mirabellea_2025/lesson/3-10) |\n"
   ]
  }
 ],
 "metadata": {
  "language_info": {
   "name": "python"
  }
 },
 "nbformat": 4,
 "nbformat_minor": 2
}
