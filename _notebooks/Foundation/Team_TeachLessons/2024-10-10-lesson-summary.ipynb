{
 "cells": [
  {
   "cell_type": "markdown",
   "metadata": {},
   "source": [
    "---\n",
    "layout: post\n",
    "title: Homework and Popcorn Hacks for Lessons\n",
    "description: Mirabelle's Popcorn Hacks and Homework Assignments with Summary Page\n",
    "courses: { csp: {week:1} }\n",
    "menu: nav/lessons.html\n",
    "permalink: /lesson/summary\n",
    "comments: true\n",
    "sticky_rank: 1\n",
    "---"
   ]
  },
  {
   "cell_type": "markdown",
   "metadata": {},
   "source": [
    "<table>\n",
    "\n",
    "<tr>\n",
    "  <td><a href=\"https://github.com/mirabelle2025/mirabellea_2025/issues/6\" target=\"_blank\" title=\"GitHub Issue\"><span style=\"font-size: 18px;\">GitHub Issue</span></a></td>\n",
    "</tr>\n",
    "<tr>\n",
    "  <td><a href=\"/mirabellea_2025/lesson/3-1\" title=\"Summary of Page 1\"><span style=\"font-size: 20px;\">Lesson 3.1</span></a></td>\n",
    "  <td><a href=\"/mirabellea_2025/lesson/3-2\"><span style=\"font-size: 20px;\">Lesson 3.2</span></a></td>\n",
    "  <td><a href=\"/mirabellea_2025/lesson/3-3\"><span style=\"font-size: 20px;\">Lesson 3.3</span></a></td>\n",
    "</tr>\n",
    "<tr>\n",
    "  <td><a href=\"/mirabellea_2025/lesson/3-4\"><span style=\"font-size: 20px;\">Lesson 3.4</span></a></td>\n",
    "  <td><a href=\"/mirabellea_2025/lesson/3-5\"><span style=\"font-size: 20px;\">Lesson 3.5</span></a></td>\n",
    "  <td><a href=\"/mirabellea_2025/lesson/3-6\"><span style=\"font-size: 20px;\">Lesson 3.6</span></a></td>\n",
    "</tr>\n",
    "<tr>\n",
    "  <td><a href=\"/mirabellea_2025/lesson/3-7\"><span style=\"font-size: 20px;\">Lesson 3.7</span></a></td>\n",
    "  <td><a href=\"/mirabellea_2025/lesson/3-9\"><span style=\"font-size: 20px;\">Lesson 3.9</span></a></td>\n",
    "  <td><a href=\"/mirabellea_2025/lesson/3-10\"><span style=\"font-size: 20px;\">Lesson 3.10</span></a></td>\n",
    "</tr>\n",
    "</table>\n"
   ]
  }
 ],
 "metadata": {
  "language_info": {
   "name": "python"
  }
 },
 "nbformat": 4,
 "nbformat_minor": 2
}
