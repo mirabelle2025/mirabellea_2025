{
 "cells": [
  {
   "cell_type": "markdown",
   "metadata": {},
   "source": [
    "---\n",
    "layout: post\n",
    "title: Big Idea 3 Lesson Overview\n",
    "description: Mirabelle's Popcorn Hacks and Homework Assignments with Summary Page\n",
    "courses: { csp: {week:1} }\n",
    "menu: nav/lessons.html\n",
    "permalink: /lesson/summary\n",
    "comments: true\n",
    "sticky_rank: 1\n",
    "---"
   ]
  },
  {
   "cell_type": "markdown",
   "metadata": {},
   "source": [
    "<span style=\"color: pink; font-size: 30px; font-family: 'Roboto';\"> Short Summaries of Each Lesson </span>\n",
    "\n",
    "- hover over the lesson name in order to view the short summary of the lessons from Big Idea 3\n",
    "- click on the link to view each page of the lesson with my hacks and homework\n",
    "\n",
    "<table>\n",
    "\n",
    "<tr>\n",
    "  <td><a href=\"/mirabellea_2025/lesson/3-1\" title=\" -declare variables by giving them a name and assigning a value using = &#10;-store different data types like numbers (int), Booleans (True/False), lists, and strings (text)&#10;-update variables by reassigning new values with assignment operator.\"><span style=\"font-size: 20px;\">Lesson 3.1 - Variables and Assignments</span></a></td>\n",
    "  <td><a href=\"/mirabellea_2025/lesson/3-2\" title=\"-create and manipulate lists/strings in your code&#10;-lists created with square brackets ([]),strings with quotes&#10;-abstractions simplify code, easier to handle complex data&#10;-use built-in functions like len() to work with lists/strings, reducing complexity by using higher-level abstractions.\"><span style=\"font-size: 20px;\">Lesson 3.2 - Data Abstraction</span></a></td>\n",
    "  <td><a href=\"/mirabellea_2025/lesson/3-3\" title=\"-write algorithms using combinations of sequencing (step-by-step instructions), selection (if statements), and iteration (for or while loops)&#10;-to manipulate numbers, use arithmetic operators like +, -, *, and /, along with parentheses to enforce the order of operations.\"><span style=\"font-size: 20px;\">Lesson 3.3 - Mathematical Expressions</span></a></td>\n",
    "</tr>\n",
    "<tr>\n",
    "  <td><a href=\"/mirabellea_2025/lesson/3-4\" title=\"-strings are sequences of characterscan manipulate them by using functions like split(), replace(), and concatenation (+)&#10;-also encounter string indexing to access specific characters\"><span style=\"font-size: 20px;\">Lesson 3.4 - Strings</span></a></td>\n",
    "  <td><a href=\"/mirabellea_2025/lesson/3-5\" title=\"-use relational operators (==, !=, >, <) to compare values or variables&#10;-comparisons produce True or False (Boolean) values&#10;-can combine multiple Boolean conditions using logical operators (and, or, not) to make more complex decisions\"><span style=\"font-size: 20px;\">Lesson 3.5 - Boolean Expressions</span></a></td>\n",
    "  <td><a href=\"/mirabellea_2025/lesson/3-6\" title=\"-write if/if-else statements to control the flow of program&#10;-based on a condition (Boolean expression), the program chooses which block of code to execute\"><span style=\"font-size: 20px;\">Lesson 3.6 - Conditionals</span></a></td>\n",
    "</tr>\n",
    "<tr>\n",
    "  <td><a href=\"/mirabellea_2025/lesson/3-7\" title=\"-nested conditionals place if or if-else statements inside other conditionals&#10;-allows test on multiple conditions and control program’s behavior in more complex scenarios&#10;-indentation is key to keep track of nested logic\"><span style=\"font-size: 20px;\">Lesson 3.7 - Nested Conditionals</span></a></td>\n",
    "  <td><a href=\"/mirabellea_2025/lesson/3-10\" title=\"-lists are declared using square brackets ([1, 2, 3])&#10;-use loops to iterate through the list, and list methods like append(), remove(), and sort() to manipulate them&#10;-pseudocode can guide you when you write similar algorithms in actual code\"><span style=\"font-size: 20px;\">Lesson 3.10 - Lists</span></a></td>\n",
    "  <td><a href=\"https://github.com/mirabelle2025/mirabellea_2025/issues/6\" target=\"_blank\" title=\"GitHub Issue\"><span style=\"font-size: 18px;\">Link to GitHub Issue</span></a></td>\n",
    "</tr>\n",
    "</table>\n"
   ]
  },
  {
   "cell_type": "markdown",
   "metadata": {},
   "source": [
    "<span style=\"color: pink; font-size: 30px; font-family: 'Roboto';\"> Overall Summary </span>\n",
    "\n",
    "The core concepts of creating, analyzing, and implementing algorithms using programming. This includes:\n",
    "\n",
    "<b>Variables and Assignments:</b> Using variables to store and update data.<br/>\n",
    "<b>Data Abstraction:</b> Organizing complex data with abstractions like lists and strings.<br/>\n",
    "<b>Mathematical and Boolean Expressions:</b> Utilizing arithmetic and logical operations to make decisions.<br/>\n",
    "<b>Conditionals and Iteration:</b> Implementing decision-making with conditionals and repeating tasks using loops.<br/>\n",
    "<b>Lists and Nested Conditionals:</b> Managing data and controlling program flow with more complex logic.<br/>\n",
    "\n",
    "These concepts help students learn how to write efficient, logical, and functional code by breaking down tasks into structured algorithms."
   ]
  },
  {
   "cell_type": "markdown",
   "metadata": {},
   "source": [
    "<span style=\"color: pink; font-size: 30px; font-family: 'Roboto';\"> Presentation Memory </span>\n",
    "\n",
    "- I was able to memorize and clearly present my section of my team's lesson 3.8 of Big Idea 3\n",
    "- I taught the class a special hack in order to allow their javascript code to work, then I taught them where to find it on their console"
   ]
  },
  {
   "cell_type": "markdown",
   "metadata": {},
   "source": [
    "<span style=\"color: pink; font-size: 30px; font-family: 'Roboto';\"> Relevancy</span>\n",
    "\n",
    "I learned about the importance of Pseudocode and its function\n",
    "\"notes taken from AP Classroom of 3.10 on Big Ideas 3\"\n",
    "- Pseudocode is a simplified, informal way of writing out the steps of an algorithm using a mix of plain language and basic programming constructs without adhering to the strict syntax of any particular programming language\n",
    "- It's used to describe the logic and flow of a program in a way that’s easy to understand, focusing on what the code does rather than how it is written."
   ]
  },
  {
   "cell_type": "markdown",
   "metadata": {},
   "source": [
    "<span style=\"color: pink; font-size: 30px; font-family: 'Roboto';\"> My Accomplishments! </span>\n",
    "<img width=\"958\" alt=\"image\" src=\"https://github.com/user-attachments/assets/c58bacef-5f74-4f83-b2ee-621011e8b4fb\">\n",
    "<img width=\"887\" alt=\"image\" src=\"https://github.com/user-attachments/assets/5205318d-8c29-429e-a7fd-b960ae2693ea\">\n",
    "<img width=\"958\" alt=\"image\" src=\"https://github.com/user-attachments/assets/93468d6e-e01d-48ab-8a28-353264bf175e\">"
   ]
  }
 ],
 "metadata": {
  "language_info": {
   "name": "python"
  }
 },
 "nbformat": 4,
 "nbformat_minor": 2
}
