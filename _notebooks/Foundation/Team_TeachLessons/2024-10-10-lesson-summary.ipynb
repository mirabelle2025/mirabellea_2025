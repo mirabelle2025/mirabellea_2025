{
 "cells": [
  {
   "cell_type": "markdown",
   "metadata": {},
   "source": [
    "---\n",
    "layout: post\n",
    "title: Summary for all lessons\n",
    "description: Description of code statements\n",
    "courses: { csp: {week:1} }\n",
    "menu: nav/lessons.html\n",
    "permalink: /lesson/summary\n",
    "comments: true\n",
    "---"
   ]
  }
 ],
 "metadata": {
  "language_info": {
   "name": "python"
  }
 },
 "nbformat": 4,
 "nbformat_minor": 2
}
