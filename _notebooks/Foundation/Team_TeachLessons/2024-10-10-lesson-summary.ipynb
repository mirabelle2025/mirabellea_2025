{
 "cells": [
  {
   "cell_type": "markdown",
   "metadata": {},
   "source": [
    "---\n",
    "layout: post\n",
    "title: Lesson Overview\n",
    "description: Mirabelle's Popcorn Hacks and Homework Assignments with Summary Page\n",
    "courses: { csp: {week:1} }\n",
    "menu: nav/lessons.html\n",
    "permalink: /lesson/summary\n",
    "comments: true\n",
    "sticky_rank: 1\n",
    "---"
   ]
  },
  {
   "cell_type": "markdown",
   "metadata": {},
   "source": [
    "##"
   ]
  },
  {
   "cell_type": "markdown",
   "metadata": {},
   "source": [
    "## Short Summaries of Each Lesson\n",
    "- hover over the lesson name in order to view the short summary of the lessons\n",
    "- click on the link to view each page of the lesson with my hacks and homework\n",
    "\n",
    "<table>\n",
    "\n",
    "<tr>\n",
    "  <td><a href=\"/mirabellea_2025/lesson/3-1\" title=\" -declare variables by giving them a name and assigning a value using = &#10;-store different data types like numbers (int), Booleans (True/False), lists, and strings (text)&#10;-update variables by reassigning new values with assignment operator.\"><span style=\"font-size: 20px;\">Lesson 3.1 - Variables and Assignments</span></a></td>\n",
    "  <td><a href=\"/mirabellea_2025/lesson/3-2\" title=\"-create and manipulate lists/strings in your code&#10;-lists created with square brackets ([]),strings with quotes&#10;-abstractions simplify code, easier to handle complex data&#10;-use built-in functions like len() to work with lists/strings, reducing complexity by using higher-level abstractions.\"><span style=\"font-size: 20px;\">Lesson 3.2 - Data Abstraction</span></a></td>\n",
    "  <td><a href=\"/mirabellea_2025/lesson/3-3\" title=\"-write algorithms using combinations of sequencing (step-by-step instructions), selection (if statements), and iteration (for or while loops)&#10;-to manipulate numbers, use arithmetic operators like +, -, *, and /, along with parentheses to enforce the order of operations.\"><span style=\"font-size: 20px;\">Lesson 3.3 - Mathematical Expressions</span></a></td>\n",
    "</tr>\n",
    "<tr>\n",
    "  <td><a href=\"/mirabellea_2025/lesson/3-4\" title=\"-strings are sequences of characterscan manipulate them by using functions like split(), replace(), and concatenation (+)&#10;-also encounter string indexing to access specific characters\"><span style=\"font-size: 20px;\">Lesson 3.4 - Strings</span></a></td>\n",
    "  <td><a href=\"/mirabellea_2025/lesson/3-5\" title=\"-use relational operators (==, !=, >, <) to compare values or variables&#10;-comparisons produce True or False (Boolean) values&#10;-can combine multiple Boolean conditions using logical operators (and, or, not) to make more complex decisions\"><span style=\"font-size: 20px;\">Lesson 3.5 - Boolean Expressions</span></a></td>\n",
    "  <td><a href=\"/mirabellea_2025/lesson/3-6\" title=\"-write if/if-else statements to control the flow of program&#10;-based on a condition (Boolean expression), the program chooses which block of code to execute\"><span style=\"font-size: 20px;\">Lesson 3.6 - Conditionals</span></a></td>\n",
    "</tr>\n",
    "<tr>\n",
    "  <td><a href=\"/mirabellea_2025/lesson/3-7\" title=\"-nested conditionals place if or if-else statements inside other conditionals&#10;-allows test on multiple conditions and control program’s behavior in more complex scenarios&#10;-indentation is key to keep track of nested logic\"><span style=\"font-size: 20px;\">Lesson 3.7 - Nested Conditionals</span></a></td>\n",
    "  <td><a href=\"/mirabellea_2025/lesson/3-10\" title=\"-lists are declared using square brackets ([1, 2, 3])&#10;-use loops to iterate through the list, and list methods like append(), remove(), and sort() to manipulate them&#10;-pseudocode can guide you when you write similar algorithms in actual code\"><span style=\"font-size: 20px;\">Lesson 3.10 - Lists</span></a></td>\n",
    "  <td><a href=\"https://github.com/mirabelle2025/mirabellea_2025/issues/6\" target=\"_blank\" title=\"GitHub Issue\"><span style=\"font-size: 18px;\">Link to GitHub Issue</span></a></td>\n",
    "</tr>\n",
    "</table>\n"
   ]
  },
  {
   "cell_type": "markdown",
   "metadata": {},
   "source": [
    "## Overall Summary"
   ]
  },
  {
   "cell_type": "markdown",
   "metadata": {},
   "source": [
    "## Presentation Memory\n"
   ]
  },
  {
   "cell_type": "markdown",
   "metadata": {},
   "source": [
    "## Relevancy "
   ]
  },
  {
   "cell_type": "markdown",
   "metadata": {},
   "source": [
    "## My Accomplishments!\n",
    "<img width=\"958\" alt=\"image\" src=\"https://github.com/user-attachments/assets/c58bacef-5f74-4f83-b2ee-621011e8b4fb\">"
   ]
  }
 ],
 "metadata": {
  "language_info": {
   "name": "python"
  }
 },
 "nbformat": 4,
 "nbformat_minor": 2
}
