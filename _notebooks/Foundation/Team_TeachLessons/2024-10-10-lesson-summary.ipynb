{
 "cells": [
  {
   "cell_type": "markdown",
   "metadata": {},
   "source": [
    "---\n",
    "layout: post\n",
    "title: Homework and Popcorn Hacks for Lessons\n",
    "description: Mirabelle's Popcorn Hacks and Homework Assignments with Summary Page\n",
    "courses: { csp: {week:1} }\n",
    "menu: nav/lessons.html\n",
    "permalink: /lesson/summary\n",
    "comments: true\n",
    "sticky_rank: 1\n",
    "---"
   ]
  },
  {
   "cell_type": "markdown",
   "metadata": {},
   "source": [
    "<table>\n",
    "\n",
    "<tr>\n",
    "  <td><a href=\"/mirabellea_2025/lesson/3-1\" title=\"Summary of Page 1\"><span style=\"font-size: 20px;\">Lesson 3.1 - Variables and Assignments</span></a></td>\n",
    "  <td><a href=\"/mirabellea_2025/lesson/3-2\" title=\"Summary of Page 1\"><span style=\"font-size: 20px;\">Lesson 3.2 - Data Abstraction</span></a></td>\n",
    "  <td><a href=\"/mirabellea_2025/lesson/3-3\" title=\"Summary of Page 1\"><span style=\"font-size: 20px;\">Lesson 3.3 - Mathematical Expressions</span></a></td>\n",
    "</tr>\n",
    "<tr>\n",
    "  <td><a href=\"/mirabellea_2025/lesson/3-4\" title=\"Summary of Page 1\"><span style=\"font-size: 20px;\">Lesson 3.4 - Strings</span></a></td>\n",
    "  <td><a href=\"/mirabellea_2025/lesson/3-5\" title=\"Summary of Page 1\"><span style=\"font-size: 20px;\">Lesson 3.5 - Boolean Expressions</span></a></td>\n",
    "  <td><a href=\"/mirabellea_2025/lesson/3-6\" title=\"Summary of Page 1\"><span style=\"font-size: 20px;\">Lesson 3.6 - Conditionals</span></a></td>\n",
    "</tr>\n",
    "<tr>\n",
    "  <td><a href=\"/mirabellea_2025/lesson/3-7\" title=\"Summary of Page 1\"><span style=\"font-size: 20px;\">Lesson 3.7 - Nested Conditionals</span></a></td>\n",
    "  <td><a href=\"/mirabellea_2025/lesson/3-10\" title=\"Summary of Page 1\"><span style=\"font-size: 20px;\">Lesson 3.10 - Lists</span></a></td>\n",
    "  <td><a href=\"https://github.com/mirabelle2025/mirabellea_2025/issues/6\" target=\"_blank\" title=\"GitHub Issue\"><span style=\"font-size: 18px;\">Link to GitHub Issue</span></a></td>\n",
    "</tr>\n",
    "</table>\n"
   ]
  }
 ],
 "metadata": {
  "language_info": {
   "name": "python"
  }
 },
 "nbformat": 4,
 "nbformat_minor": 2
}
