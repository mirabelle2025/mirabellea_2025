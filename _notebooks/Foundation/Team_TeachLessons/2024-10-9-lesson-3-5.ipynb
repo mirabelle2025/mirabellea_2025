{
 "cells": [
  {
   "cell_type": "markdown",
   "metadata": {},
   "source": [
    "---\n",
    "layout: post\n",
    "title: Homeworks and Popcorn Hacks for Lessons\n",
    "description: Homeworks and Hacks for Lesson 3.5\n",
    "courses: { csp: {week:1} }\n",
    "menu: nav/lessons.html\n",
    "permalink: /lesson/3-5\n",
    "comments: true\n",
    "---"
   ]
  },
  {
   "cell_type": "markdown",
   "metadata": {},
   "source": [
    "# Lesson 3.5 Popcorn Hacks and Homework"
   ]
  },
  {
   "cell_type": "markdown",
   "metadata": {},
   "source": [
    "## Popcorn Hack #1"
   ]
  },
  {
   "cell_type": "markdown",
   "metadata": {},
   "source": [
    "### Javascript Version"
   ]
  },
  {
   "cell_type": "code",
   "execution_count": 3,
   "metadata": {
    "vscode": {
     "languageId": "javascript"
    }
   },
   "outputs": [
    {
     "data": {
      "application/javascript": "function A() {\n    return true;  \n}\n\nfunction B() {\n    return true;  \n}\n\nif (A()) {\n    console.log(\"It's raining, so I must have taken an umbrella:\", B());\n} else {\n    console.log(\"It's not raining, we cannot conclude anything about the umbrella.\");\n}\n\nif (!B()) {\n    console.log(\"I didn't take an umbrella, therefore it must not be raining:\", !A());\n} else {\n    console.log(\"I took an umbrella, we cannot conclude anything about the rain.\");\n",
      "text/plain": [
       "<IPython.core.display.Javascript object>"
      ]
     },
     "metadata": {},
     "output_type": "display_data"
    }
   ],
   "source": [
    "%%js\n",
    "function A() {\n",
    "    return true;  \n",
    "}\n",
    "\n",
    "function B() {\n",
    "    return true;  \n",
    "}\n",
    "\n",
    "if (A()) {\n",
    "    console.log(\"It's raining, so I must have taken an umbrella:\", B());\n",
    "} else {\n",
    "    console.log(\"It's not raining, we cannot conclude anything about the umbrella.\");\n",
    "}\n",
    "\n",
    "if (!B()) {\n",
    "    console.log(\"I didn't take an umbrella, therefore it must not be raining:\", !A());\n",
    "} else {\n",
    "    console.log(\"I took an umbrella, we cannot conclude anything about the rain.\");\n"
   ]
  },
  {
   "cell_type": "markdown",
   "metadata": {},
   "source": [
    "### Python version"
   ]
  },
  {
   "cell_type": "code",
   "execution_count": 1,
   "metadata": {},
   "outputs": [
    {
     "name": "stdout",
     "output_type": "stream",
     "text": [
      "It's raining, so I must have taken an umbrella: True\n",
      "I took an umbrella, we cannot conclude anything about the rain.\n"
     ]
    }
   ],
   "source": [
    "def A():\n",
    "    return True  \n",
    "\n",
    "def B():\n",
    "    return True \n",
    "\n",
    "if A():\n",
    "    print(\"It's raining, so I must have taken an umbrella:\", B())\n",
    "else:\n",
    "    print(\"It's not raining, we cannot conclude anything about the umbrella.\")\n",
    "\n",
    "if not B():\n",
    "    print(\"I didn't take an umbrella, therefore it must not be raining:\", not A())\n",
    "else:\n",
    "    print(\"I took an umbrella, we cannot conclude anything about the rain.\")\n"
   ]
  },
  {
   "cell_type": "markdown",
   "metadata": {},
   "source": [
    "## Hoemwork 3.5"
   ]
  },
  {
   "cell_type": "markdown",
   "metadata": {},
   "source": [
    "### Javascript Version"
   ]
  },
  {
   "cell_type": "code",
   "execution_count": 7,
   "metadata": {
    "vscode": {
     "languageId": "javascript"
    }
   },
   "outputs": [
    {
     "data": {
      "application/javascript": "import java.util.Scanner;\n\npublic class LogicGatesSimulator {\n\n    public static void main(String[] args) {\n        Scanner scanner = new Scanner(System.in);\n\n        System.out.print(\"Did Player A score? (true/false): \");\n        boolean playerAScore = scanner.nextBoolean();\n        System.out.print(\"Did Player B score? (true/false): \");\n        boolean playerBScore = scanner.nextBoolean();\n\n        System.out.println(\"Logic Gates Simulation Results:\");\n        System.out.println(\"AND Gate: \" + (playerAScore && playerBScore));\n        System.out.println(\"OR Gate: \" + (playerAScore || playerBScore));\n        System.out.println(\"NOT Gate A: \" + (!playerAScore));\n        System.out.println(\"NOT Gate B: \" + (!playerBScore));\n        System.out.println(\"NAND Gate: \" + !(playerAScore && playerBScore));\n        System.out.println(\"NOR Gate: \" + !(playerAScore || playerBScore));\n        System.out.println(\"XOR Gate: \" + (playerAScore ^ playerBScore));\n\n        System.out.println(\"\\nTruth Table:\");\n        System.out.println(\"A     B     AND     OR      NOT A   NOT B   NAND    NOR     XOR\");\n        System.out.println(\"---------------------------------------------------------------\");\n\n        for (boolean a : new boolean[]{true, false}) {\n            for (boolean b : new boolean[]{true, false}) {\n                System.out.printf(\"%d   %d   %d   %d   %d    %d   %d   %d   %d%n\",\n                        (a ? 1 : 0), (b ? 1 : 0),\n                        (a && b ? 1 : 0), (a || b ? 1 : 0),\n                        (a\n",
      "text/plain": [
       "<IPython.core.display.Javascript object>"
      ]
     },
     "metadata": {},
     "output_type": "display_data"
    }
   ],
   "source": [
    "%%js\n",
    "import java.util.Scanner;\n",
    "\n",
    "public class LogicGatesSimulator {\n",
    "\n",
    "    public static void main(String[] args) {\n",
    "        Scanner scanner = new Scanner(System.in);\n",
    "\n",
    "        System.out.print(\"Did Player A score? (true/false): \");\n",
    "        boolean playerAScore = scanner.nextBoolean();\n",
    "        System.out.print(\"Did Player B score? (true/false): \");\n",
    "        boolean playerBScore = scanner.nextBoolean();\n",
    "\n",
    "        System.out.println(\"Logic Gates Simulation Results:\");\n",
    "        System.out.println(\"AND Gate: \" + (playerAScore && playerBScore));\n",
    "        System.out.println(\"OR Gate: \" + (playerAScore || playerBScore));\n",
    "        System.out.println(\"NOT Gate A: \" + (!playerAScore));\n",
    "        System.out.println(\"NOT Gate B: \" + (!playerBScore));\n",
    "        System.out.println(\"NAND Gate: \" + !(playerAScore && playerBScore));\n",
    "        System.out.println(\"NOR Gate: \" + !(playerAScore || playerBScore));\n",
    "        System.out.println(\"XOR Gate: \" + (playerAScore ^ playerBScore));\n",
    "\n",
    "        System.out.println(\"\\nTruth Table:\");\n",
    "        System.out.println(\"A     B     AND     OR      NOT A   NOT B   NAND    NOR     XOR\");\n",
    "        System.out.println(\"---------------------------------------------------------------\");\n",
    "\n",
    "        for (boolean a : new boolean[]{true, false}) {\n",
    "            for (boolean b : new boolean[]{true, false}) {\n",
    "                System.out.printf(\"%d   %d   %d   %d   %d    %d   %d   %d   %d%n\",\n",
    "                        (a ? 1 : 0), (b ? 1 : 0),\n",
    "                        (a && b ? 1 : 0), (a || b ? 1 : 0),\n",
    "                        (a\n"
   ]
  },
  {
   "cell_type": "markdown",
   "metadata": {},
   "source": [
    "### Python Version"
   ]
  },
  {
   "cell_type": "code",
   "execution_count": 4,
   "metadata": {},
   "outputs": [
    {
     "name": "stdout",
     "output_type": "stream",
     "text": [
      "Player A: True\n",
      "Player B: False\n",
      "Logic Gates Simulation Results:\n",
      "AND Gate:          False\n",
      "OR Gate:           True\n",
      "NOT Gate A:       False\n",
      "NOT Gate B:       True\n",
      "NAND Gate:        True\n",
      "NOR Gate:         False\n",
      "XOR Gate:         True\n",
      "\n",
      "Truth Table:\n",
      "A     B     AND     OR      NOT A   NOT B   NAND    NOR     XOR\n",
      "---------------------------------------------------------------\n",
      "1   1   1   1   0    0   0   0   0\n",
      "1   0   0   1   0    1   1   0   1\n",
      "0   1   0   1   1    0   1   0   1\n",
      "0   0   0   0   1    1   1   1   0\n"
     ]
    }
   ],
   "source": [
    "def logic_gates_simulator(player_a, player_b):\n",
    "    print(\"Player A:\", player_a)\n",
    "    print(\"Player B:\", player_b)\n",
    "    print(\"Logic Gates Simulation Results:\")\n",
    "    print(\"AND Gate:         \", player_a and player_b)\n",
    "    print(\"OR Gate:          \", player_a or player_b)\n",
    "    print(\"NOT Gate A:      \", not player_a)\n",
    "    print(\"NOT Gate B:      \", not player_b)\n",
    "    print(\"NAND Gate:       \", not (player_a and player_b))\n",
    "    print(\"NOR Gate:        \", not (player_a or player_b))\n",
    "    print(\"XOR Gate:        \", player_a ^ player_b)\n",
    "    \n",
    "    print(\"\\nTruth Table:\")\n",
    "    print(\"A     B     AND     OR      NOT A   NOT B   NAND    NOR     XOR\")\n",
    "    print(\"---------------------------------------------------------------\")\n",
    "    for a in [True, False]:\n",
    "        for b in [True, False]:\n",
    "            print(f\"{int(a)}   {int(b)}   {int(a and b)}   {int(a or b)}   {int(not a)}    {int(not b)}   {int(not (a and b))}   {int(not (a or b))}   {int(a ^ b)}\")\n",
    "\n",
    "player_a_score = True  \n",
    "player_b_score = False  \n",
    "\n",
    "logic_gates_simulator(player_a_score, player_b_score)"
   ]
  }
 ],
 "metadata": {
  "kernelspec": {
   "display_name": "venv",
   "language": "python",
   "name": "python3"
  },
  "language_info": {
   "codemirror_mode": {
    "name": "ipython",
    "version": 3
   },
   "file_extension": ".py",
   "mimetype": "text/x-python",
   "name": "python",
   "nbconvert_exporter": "python",
   "pygments_lexer": "ipython3",
   "version": "3.12.3"
  }
 },
 "nbformat": 4,
 "nbformat_minor": 2
}
