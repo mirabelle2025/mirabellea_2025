{
 "cells": [
  {
   "cell_type": "markdown",
   "metadata": {},
   "source": [
    "---\n",
    "layout: post\n",
    "title: Homeworks and Popcorn Hacks for Lessons\n",
    "description: Homeworks and Hacks for Lesson 3.5\n",
    "courses: { csp: {week:1} }\n",
    "menu: nav/lessons.html\n",
    "permalink: /lesson/3-5\n",
    "comments: true\n",
    "---"
   ]
  },
  {
   "cell_type": "markdown",
   "metadata": {},
   "source": [
    "# Lesson 3.5 Popcorn Hacks and Homework"
   ]
  },
  {
   "cell_type": "markdown",
   "metadata": {},
   "source": [
    "## Popcorn Hack #1"
   ]
  },
  {
   "cell_type": "markdown",
   "metadata": {},
   "source": [
    "### Javascript Version"
   ]
  },
  {
   "cell_type": "code",
   "execution_count": 3,
   "metadata": {
    "vscode": {
     "languageId": "javascript"
    }
   },
   "outputs": [
    {
     "data": {
      "application/javascript": "function A() {\n    return true;  \n}\n\nfunction B() {\n    return true;  \n}\n\nif (A()) {\n    console.log(\"It's raining, so I must have taken an umbrella:\", B());\n} else {\n    console.log(\"It's not raining, we cannot conclude anything about the umbrella.\");\n}\n\nif (!B()) {\n    console.log(\"I didn't take an umbrella, therefore it must not be raining:\", !A());\n} else {\n    console.log(\"I took an umbrella, we cannot conclude anything about the rain.\");\n",
      "text/plain": [
       "<IPython.core.display.Javascript object>"
      ]
     },
     "metadata": {},
     "output_type": "display_data"
    }
   ],
   "source": [
    "%%js\n",
    "function A() {\n",
    "    return true;  \n",
    "}\n",
    "\n",
    "function B() {\n",
    "    return true;  \n",
    "}\n",
    "\n",
    "if (A()) {\n",
    "    console.log(\"It's raining, so I must have taken an umbrella:\", B());\n",
    "} else {\n",
    "    console.log(\"It's not raining, we cannot conclude anything about the umbrella.\");\n",
    "}\n",
    "\n",
    "if (!B()) {\n",
    "    console.log(\"I didn't take an umbrella, therefore it must not be raining:\", !A());\n",
    "} else {\n",
    "    console.log(\"I took an umbrella, we cannot conclude anything about the rain.\");\n"
   ]
  },
  {
   "cell_type": "markdown",
   "metadata": {},
   "source": [
    "### Python version"
   ]
  },
  {
   "cell_type": "code",
   "execution_count": 1,
   "metadata": {},
   "outputs": [
    {
     "name": "stdout",
     "output_type": "stream",
     "text": [
      "It's raining, so I must have taken an umbrella: True\n",
      "I took an umbrella, we cannot conclude anything about the rain.\n"
     ]
    }
   ],
   "source": [
    "def A():\n",
    "    return True  \n",
    "\n",
    "def B():\n",
    "    return True \n",
    "\n",
    "if A():\n",
    "    print(\"It's raining, so I must have taken an umbrella:\", B())\n",
    "else:\n",
    "    print(\"It's not raining, we cannot conclude anything about the umbrella.\")\n",
    "\n",
    "if not B():\n",
    "    print(\"I didn't take an umbrella, therefore it must not be raining:\", not A())\n",
    "else:\n",
    "    print(\"I took an umbrella, we cannot conclude anything about the rain.\")\n"
   ]
  },
  {
   "cell_type": "markdown",
   "metadata": {},
   "source": [
    "## Popcorn Hack #2"
   ]
  }
 ],
 "metadata": {
  "kernelspec": {
   "display_name": "venv",
   "language": "python",
   "name": "python3"
  },
  "language_info": {
   "codemirror_mode": {
    "name": "ipython",
    "version": 3
   },
   "file_extension": ".py",
   "mimetype": "text/x-python",
   "name": "python",
   "nbconvert_exporter": "python",
   "pygments_lexer": "ipython3",
   "version": "3.12.3"
  }
 },
 "nbformat": 4,
 "nbformat_minor": 2
}
