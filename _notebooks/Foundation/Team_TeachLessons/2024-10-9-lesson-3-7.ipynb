{
 "cells": [
  {
   "cell_type": "markdown",
   "metadata": {},
   "source": [
    "---\n",
    "layout: post\n",
    "title: Homeworks and Popcorn Hacks for Lessons\n",
    "description: Homeworks and Hacks for Lesson 3.7\n",
    "courses: { csp: {week:1} }\n",
    "menu: nav/lessons.html\n",
    "permalink: /lesson/3-7\n",
    "comments: true\n",
    "---"
   ]
  },
  {
   "cell_type": "markdown",
   "metadata": {},
   "source": [
    "# Lesson 3.7 Popcorn Hacks and Homework"
   ]
  },
  {
   "cell_type": "markdown",
   "metadata": {},
   "source": [
    "## Popcorn Hack #1"
   ]
  },
  {
   "cell_type": "markdown",
   "metadata": {},
   "source": [
    "### Javascript Version"
   ]
  },
  {
   "cell_type": "code",
   "execution_count": 3,
   "metadata": {
    "vscode": {
     "languageId": "javascript"
    }
   },
   "outputs": [
    {
     "data": {
      "application/javascript": "let age = parseInt(prompt(\"Enter your age:\"));\nlet likesDrive = prompt(\"Can you legally drive? (yes/no):\").toLowerCase();\n\nif (age >= 16) {\n    if (likesDrive === \"yes\") {\n        console.log(\"You can legally drive!\");\n    } else {\n        console.log(\"You cannot legally drive.\");\n    }\n} else {\n    console.log(\"You get to be a passenger.\");\n}\n",
      "text/plain": [
       "<IPython.core.display.Javascript object>"
      ]
     },
     "metadata": {},
     "output_type": "display_data"
    }
   ],
   "source": [
    "%%js\n",
    "let age = parseInt(prompt(\"Enter your age:\"));\n",
    "let likesDrive = prompt(\"Can you legally drive? (yes/no):\").toLowerCase();\n",
    "\n",
    "if (age >= 16) {\n",
    "    if (likesDrive === \"yes\") {\n",
    "        console.log(\"You can legally drive!\");\n",
    "    } else {\n",
    "        console.log(\"You cannot legally drive.\");\n",
    "    }\n",
    "} else {\n",
    "    console.log(\"You get to be a passenger.\");\n",
    "}\n"
   ]
  },
  {
   "cell_type": "markdown",
   "metadata": {},
   "source": [
    "### Python Version"
   ]
  },
  {
   "cell_type": "code",
   "execution_count": 2,
   "metadata": {},
   "outputs": [
    {
     "name": "stdout",
     "output_type": "stream",
     "text": [
      "You can not legally drive.\n"
     ]
    }
   ],
   "source": [
    "age = int(input(\"Enter your age: \"))\n",
    "likes_drive = input(\"Can you legally drive? (yes/no): \").lower()\n",
    "\n",
    "if age >= 16:\n",
    "    if likes_drive == \"yes\":\n",
    "        print(\"You can legally drive!\")\n",
    "    else:\n",
    "        print(\"You can not legally drive.\")\n",
    "else:\n",
    "    print(\"You get to be a passenger.\")"
   ]
  },
  {
   "cell_type": "markdown",
   "metadata": {},
   "source": [
    "## Popcorn Hack #2"
   ]
  },
  {
   "cell_type": "markdown",
   "metadata": {},
   "source": [
    "### Python Version"
   ]
  },
  {
   "cell_type": "code",
   "execution_count": 4,
   "metadata": {},
   "outputs": [
    {
     "name": "stdout",
     "output_type": "stream",
     "text": [
      "You can afford the following laptops:\n",
      "- Dell XPS 13\n",
      "- MacBook Air\n",
      "- HP Spectre x360\n",
      "- Lenovo ThinkPad X1\n",
      "- Acer Swift 3\n"
     ]
    }
   ],
   "source": [
    "laptops = {\n",
    "    \"Dell XPS 13\": 1200,\n",
    "    \"MacBook Air\": 999,\n",
    "    \"HP Spectre x360\": 1100,\n",
    "    \"Lenovo ThinkPad X1\": 1300,\n",
    "    \"Acer Swift 3\": 650\n",
    "}\n",
    "\n",
    "savings = float(input(\"Enter your total savings: $\"))\n",
    "\n",
    "affordable_laptops = []\n",
    "\n",
    "for laptop, price in laptops.items():\n",
    "    if savings >= price:\n",
    "        affordable_laptops.append(laptop)\n",
    "\n",
    "if affordable_laptops:\n",
    "    print(\"You can afford the following laptops:\")\n",
    "    for laptop in affordable_laptops:\n",
    "        print(f\"- {laptop}\")\n",
    "else:\n",
    "    print(\"Unfortunately, you cannot afford any of these laptops with your current savings.\")\n"
   ]
  },
  {
   "cell_type": "markdown",
   "metadata": {},
   "source": [
    "## Popcorn Hack #3"
   ]
  },
  {
   "cell_type": "markdown",
   "metadata": {},
   "source": [
    "### Javascript Version"
   ]
  },
  {
   "cell_type": "code",
   "execution_count": 5,
   "metadata": {
    "vscode": {
     "languageId": "javascript"
    }
   },
   "outputs": [
    {
     "data": {
      "application/javascript": "let teamWinning = true; \nlet scoredGoal = true; \n\nif (teamWinning) {\n    console.log(\"Your team is winning!\");\n\n    if (scoredGoal) {\n        console.log(\"Great job! Your team has scored a goal!\");\n    } else {\n        console.log(\"Your team is winning, but they haven't scored yet. Keep it up!\");\n    }\n} else {\n    console.log(\"Your team is not winning.\");\n\n    if (scoredGoal) {\n        console.log(\"At least your team has scored a goal. Keep fighting!\");\n    } else {\n        console.log(\"Unfortunately, your team has not scored yet. Better luck next time!\");\n    }\n}\n",
      "text/plain": [
       "<IPython.core.display.Javascript object>"
      ]
     },
     "metadata": {},
     "output_type": "display_data"
    }
   ],
   "source": [
    "%%js\n",
    "let teamWinning = true; \n",
    "let scoredGoal = true; \n",
    "\n",
    "if (teamWinning) {\n",
    "    console.log(\"Your team is winning!\");\n",
    "\n",
    "    if (scoredGoal) {\n",
    "        console.log(\"Great job! Your team has scored a goal!\");\n",
    "    } else {\n",
    "        console.log(\"Your team is winning, but they haven't scored yet. Keep it up!\");\n",
    "    }\n",
    "} else {\n",
    "    console.log(\"Your team is not winning.\");\n",
    "\n",
    "    if (scoredGoal) {\n",
    "        console.log(\"At least your team has scored a goal. Keep fighting!\");\n",
    "    } else {\n",
    "        console.log(\"Unfortunately, your team has not scored yet. Better luck next time!\");\n",
    "    }\n",
    "}"
   ]
  },
  {
   "cell_type": "markdown",
   "metadata": {},
   "source": [
    "## Homework 3.7"
   ]
  },
  {
   "cell_type": "markdown",
   "metadata": {},
   "source": [
    "### Python Version"
   ]
  },
  {
   "cell_type": "code",
   "execution_count": 8,
   "metadata": {},
   "outputs": [
    {
     "name": "stdout",
     "output_type": "stream",
     "text": [
      "You can join the game! You are in the group: 8 years old or older.\n"
     ]
    }
   ],
   "source": [
    "def check_eligibility():\n",
    "    age = input(\"Please enter your age: \")\n",
    "\n",
    "    try:\n",
    "        age = int(age)\n",
    "        if age < 0:\n",
    "            print(\"Please enter a valid age.\")\n",
    "            return \n",
    "    except ValueError:\n",
    "        print(\"Please enter a valid age.\")\n",
    "        return \n",
    "\n",
    "    has_ball = input(\"Do you have a ball? (yes/no): \").strip().lower()\n",
    "\n",
    "    if age >= 5 and has_ball == \"yes\":\n",
    "        if age < 8:\n",
    "            group = \"under 8 years old\"\n",
    "        else:\n",
    "            group = \"8 years old or older\"\n",
    "\n",
    "        print(f\"You can join the game! You are in the group: {group}.\")\n",
    "    else:\n",
    "        print(\"Sorry, you cannot join the game.\")\n",
    "\n",
    "check_eligibility()"
   ]
  }
 ],
 "metadata": {
  "kernelspec": {
   "display_name": "venv",
   "language": "python",
   "name": "python3"
  },
  "language_info": {
   "codemirror_mode": {
    "name": "ipython",
    "version": 3
   },
   "file_extension": ".py",
   "mimetype": "text/x-python",
   "name": "python",
   "nbconvert_exporter": "python",
   "pygments_lexer": "ipython3",
   "version": "3.12.3"
  }
 },
 "nbformat": 4,
 "nbformat_minor": 2
}
