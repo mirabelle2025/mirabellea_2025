{
 "cells": [
  {
   "cell_type": "markdown",
   "metadata": {},
   "source": [
    "---\n",
    "layout: post\n",
    "title: Relevancy Checklist Presentation\n",
    "description: Executive Summary of Sprint 2\n",
    "courses: { csp: {week:1} }\n",
    "menu: nav/lessons.html\n",
    "permalink: /lesson/Relevancy\n",
    "comments: true\n",
    "sticky_rank: 1\n",
    "---"
   ]
  },
  {
   "cell_type": "markdown",
   "metadata": {},
   "source": [
    "## My Personal Grades for the Lessons\n",
    "- received 0.9 or above in all the lesons (0.9,0.91,0.92,0.91,0.9)\n",
    "<img width=\"812\" alt=\"image\" src=\"https://github.com/user-attachments/assets/5bc2b161-7189-4188-90f8-b35e465c9ac5\">\n",
    "<img width=\"946\" alt=\"image\" src=\"https://github.com/user-attachments/assets/6f13acc8-1227-4d2e-9240-372211db088e\">\n",
    "<img width=\"718\" alt=\"image\" src=\"https://github.com/user-attachments/assets/8ba8e3db-8b7a-42ee-9ae0-a947e88252e2\">\n",
    "<img width=\"914\" alt=\"image\" src=\"https://github.com/user-attachments/assets/31fc6724-28d4-45c5-90eb-416a567dca71\">"
   ]
  },
  {
   "cell_type": "markdown",
   "metadata": {},
   "source": [
    "## Sprint 2 Objectives Grading Checklist\n",
    "| **Assignment**             | **Points**    | **Grade** | **Evidence** |\n",
    "|----------------------------|---------------|-----------|--------------|\n",
    "| Baseline Grade             | 55%           |           |              |\n",
    "| Max Grade                  | 90%           |           |              |\n",
    "| Pull Request (Integration) | 1             |  1         |      <img width=\"959\" alt=\"image\" src=\"https://github.com/user-attachments/assets/577e6562-ab56-4b30-8d68-86abfbc95f95\">        |\n",
    "| Relevancy Checklist (Peer) | 2             |    2       |    <img width=\"937\" alt=\"image\" src=\"https://github.com/user-attachments/assets/50ad0127-e0aa-424c-b940-f693482917c4\">          |\n",
    "| Lesson Style (Period)      | 1             |  0         |  I did not contribute much to the overall lesson style of the period, and I think most of it was done by the class Scrum Master.          |\n",
    "| Homework, Popcorn Hacks    | 1 x 5         |   5        |   <img width=\"528\" alt=\"image\" src=\"https://github.com/user-attachments/assets/4f6647d5-5eaa-4fbb-b59e-963f90082882\"><img width=\"527\" alt=\"image\" src=\"https://github.com/user-attachments/assets/16300ae9-9b41-42a4-b6cf-e68630b8618c\">     <img width=\"525\" alt=\"image\" src=\"https://github.com/user-attachments/assets/d4653381-ee8d-49f5-8162-93737d73f95f\">       These are all of my popcorn hacks and homework that was implemented into my lesson.          |\n",
    "| Individual Contribution    | 1             |   1        |    <img width=\"958\" alt=\"image\" src=\"https://github.com/user-attachments/assets/2467b8a1-73b6-4f0b-aa14-482f6bfec94e\">     I presented the whole 3.8.2 lesson of WHile and Do-while loops.     |\n",
    "| Personal Notebooks / Blogs | 1             |  1         |   <img width=\"293\" alt=\"image\" src=\"https://github.com/user-attachments/assets/94947beb-7503-4b2b-8279-b39da555f572\">           |\n",
    "| Total                      | 11            |   10        |              |\n",
    "\n",
    "\n",
    "| **Skill**                  | **Points**    | **Grade** | **Evidence** |\n",
    "|----------------------------|---------------|-----------|--------------|\n",
    "| Work Habits (Analytics)    |   1           |   1        |  <img width=\"956\" alt=\"image\" src=\"https://github.com/user-attachments/assets/30855b4b-c41d-4ea3-b84c-6e287f0e549f\">            |\n",
    "| Team Planning (Issue)      |   1           |   1        |   <img width=\"709\" alt=\"image\" src=\"https://github.com/user-attachments/assets/52f00404-9095-4866-9a0f-0d659870f7a9\">           |\n",
    "| Presentation Memories      |   1           |   1        |  I don't have a screenshot or picture of my live presentation, but when I presented I walked around the class to help with Popcorn Hacks and projected my voice as much as possible.       |\n",
    "| Grading and Feedback       |   1           |   1        |     <img width=\"937\" alt=\"image\" src=\"https://github.com/user-attachments/assets/50ad0127-e0aa-424c-b940-f693482917c4\">         |\n",
    "| Beyond Perfunctory         |   1           |    0       |   Our website was mostly simple and conformed to the standards, 5there wasn't a lot that we did to go above and beyond. However, we were able to change the font colors and sizes without messing up the config.yml, these alterations also stayed after Mr. Mortensen changed the theme of all the pages. | \n",
    "\n",
    "Mirabelle's Personal Lesson and Grading Rubric\n",
    "\n",
    " | **Assignment**          | **Weightage** | **Grade** | **Comments** |\n",
    "|-------------------------|---------------|-----------|--------------|\n",
    "| College Board Coverage  | 20            | 20       | College Board states: Iteration is a repetitive portion of an algorithm. Iteration repeats until a given condition is met or for a specified number of times. The use of recursion is a form of iteration. I taught the While and Do-while loops for my portion of the Iteration lesson that my group taught. Teaching the while and do-while loops fits this definition of iteration because both are examples of repetitive control structures that execute a block of code multiple times until a specific condition is met. Both while and do-while loops allow a section of code to run repeatedly, forming the core of iterative processes.  |\n",
    "| Python Examples         | 15            | 15       | <img width=\"535\" alt=\"image\" src=\"https://github.com/user-attachments/assets/f9102c3a-2a5c-403b-a780-759e683766b0\"><img width=\"529\" alt=\"image\" src=\"https://github.com/user-attachments/assets/0999325e-5e1c-4d56-8fd1-fa75cbae69b1\">          |\n",
    "| JavaScript Examples     | 15            | 15       |<img width=\"529\" alt=\"image\" src=\"https://github.com/user-attachments/assets/2fb085d5-e224-4a90-890d-49ee186717d4\"> <img width=\"529\" alt=\"image\" src=\"https://github.com/user-attachments/assets/e9b8c2bc-aea5-4dbf-bc05-dddf75431da8\">      |\n",
    "| Popcorn Hack Usage      | 10            | 10       |<img width=\"528\" alt=\"image\" src=\"https://github.com/user-attachments/assets/4f6647d5-5eaa-4fbb-b59e-963f90082882\"><img width=\"527\" alt=\"image\" src=\"https://github.com/user-attachments/assets/16300ae9-9b41-42a4-b6cf-e68630b8618c\">          |\n",
    "| Homework                | 10            | 10       | <img width=\"525\" alt=\"image\" src=\"https://github.com/user-attachments/assets/d4653381-ee8d-49f5-8162-93737d73f95f\">       |\n",
    "| Grading Plan            | 10            | 10     | <img width=\"943\" alt=\"image\" src=\"https://github.com/user-attachments/assets/cf988ea3-4254-4292-8a50-51b4acd3759e\">          |\n",
    "| Original and Creative    | 10            | 10       | <img width=\"958\" alt=\"image\" src=\"https://github.com/user-attachments/assets/c58bacef-5f74-4f83-b2ee-621011e8b4fb\"><img width=\"887\" alt=\"image\" src=\"https://github.com/user-attachments/assets/5205318d-8c29-429e-a7fd-b960ae2693ea\"><img width=\"958\" alt=\"image\" src=\"https://github.com/user-attachments/assets/93468d6e-e01d-48ab-8a28-353264bf175e\">    In order to be Original and Creative I created a submenu that has each lesson individually organized and linked with all my separate homework and hacks. I came up with that and coded it for extra work.    |\n",
    "| **Total**               | **90**        |     90      |              |"
   ]
  }
 ],
 "metadata": {
  "language_info": {
   "name": "python"
  }
 },
 "nbformat": 4,
 "nbformat_minor": 2
}
