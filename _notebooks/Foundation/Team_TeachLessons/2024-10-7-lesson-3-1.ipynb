{
 "cells": [
  {
   "cell_type": "markdown",
   "metadata": {},
   "source": [
    "---\n",
    "layout: post\n",
    "title: Homeworks and Popcorn Hacks for Lessons\n",
    "description: Homeworks and Hacks for Lesson 3.1\n",
    "courses: { csp: {week:1} }\n",
    "menu: nav/lessons.html\n",
    "permalink: /lesson/3-1\n",
    "comments: true\n",
    "---"
   ]
  },
  {
   "cell_type": "markdown",
   "metadata": {
    "vscode": {
     "languageId": "javascript"
    }
   },
   "source": [
    "# Lesson 3.1 Popcorn Hacks and Homework"
   ]
  },
  {
   "cell_type": "markdown",
   "metadata": {},
   "source": [
    "## Popcorn Hack #1"
   ]
  },
  {
   "cell_type": "markdown",
   "metadata": {},
   "source": [
    "### Javascript Version"
   ]
  },
  {
   "cell_type": "code",
   "execution_count": 9,
   "metadata": {
    "vscode": {
     "languageId": "javascript"
    }
   },
   "outputs": [
    {
     "data": {
      "application/javascript": "\nvar myDictionary = {\n    1: \"grape\",\n    2: \"strawberry\",\n    3: \"pineapple\"\n};\n\nconsole.log(\"Fruit with key 2:\", myDictionary[2]);\n",
      "text/plain": [
       "<IPython.core.display.Javascript object>"
      ]
     },
     "metadata": {},
     "output_type": "display_data"
    }
   ],
   "source": [
    "%%js\n",
    "\n",
    "var myDictionary = {\n",
    "    1: \"grape\",\n",
    "    2: \"strawberry\",\n",
    "    3: \"pineapple\"\n",
    "};\n",
    "\n",
    "console.log(\"Fruit with key 2:\", myDictionary[2]);"
   ]
  },
  {
   "cell_type": "markdown",
   "metadata": {},
   "source": [
    "### Python Version"
   ]
  },
  {
   "cell_type": "code",
   "execution_count": 10,
   "metadata": {},
   "outputs": [
    {
     "name": "stdout",
     "output_type": "stream",
     "text": [
      "Fruit with key 2: raspberry\n"
     ]
    }
   ],
   "source": [
    "myDictionary = {\n",
    "    1: \"blueberry\",\n",
    "    2: \"raspberry\",\n",
    "    3: \"apple\"\n",
    "}\n",
    "\n",
    "print(\"Fruit with key 2:\", myDictionary[2])"
   ]
  },
  {
   "cell_type": "markdown",
   "metadata": {},
   "source": [
    "## Popcorn Hack #2"
   ]
  },
  {
   "cell_type": "markdown",
   "metadata": {},
   "source": [
    "### Python Version"
   ]
  },
  {
   "cell_type": "code",
   "execution_count": 11,
   "metadata": {},
   "outputs": [
    {
     "name": "stdout",
     "output_type": "stream",
     "text": [
      "Welcome to the Math Quiz Game!\n",
      "Answer as many questions as you can. Type 'q' to quit anytime.\n",
      "\n",
      "What is 13 + 2?\n",
      "Correct!\n",
      "What is 9 * 15?\n",
      "Thanks for playing! Your final score is 1.\n"
     ]
    }
   ],
   "source": [
    "import random\n",
    "\n",
    "def play_game():\n",
    "    score = 0\n",
    "    operators = ['+', '-', '*']\n",
    "\n",
    "    print(\"Welcome to the Math Quiz Game!\")\n",
    "    print(\"Answer as many questions as you can. Type 'q' to quit anytime.\\n\")\n",
    "\n",
    "    while True:\n",
    "        num1 = random.randint(1, 20)\n",
    "        num2 = random.randint(1, 20)\n",
    "        op = random.choice(operators)\n",
    "\n",
    "        if op == '+':\n",
    "            answer = num1 + num2\n",
    "        elif op == '-':\n",
    "            answer = num1 - num2\n",
    "        elif op == '*':\n",
    "            answer = num1 * num2\n",
    "        else:\n",
    "            answer = num1 / num2\n",
    "\n",
    "        print(f\"What is {num1} {op} {num2}?\")\n",
    "        player_input = input(\"Your answer (or type 'q' to quit): \")\n",
    "\n",
    "        if player_input.lower() == 'q':\n",
    "            break\n",
    "\n",
    "        try:\n",
    "            player_answer = int(player_input)\n",
    "            if player_answer == answer:\n",
    "                print(\"Correct!\")\n",
    "                score += 1\n",
    "            else:\n",
    "                print(f\"Oops! The correct answer was {answer}.\")\n",
    "        except ValueError:\n",
    "            print(\"Invalid input, please enter a number or 'q' to quit.\")\n",
    "\n",
    "    print(f\"Thanks for playing! Your final score is {score}.\")\n",
    "\n",
    "play_game()"
   ]
  },
  {
   "cell_type": "markdown",
   "metadata": {},
   "source": [
    "## Popcorn Hack #3"
   ]
  },
  {
   "cell_type": "markdown",
   "metadata": {},
   "source": [
    "### Javascript Version"
   ]
  },
  {
   "cell_type": "code",
   "execution_count": 6,
   "metadata": {
    "vscode": {
     "languageId": "javascript"
    }
   },
   "outputs": [
    {
     "data": {
      "application/javascript": "\nlet temperature = parseFloat(prompt(\"Enter the temperature:\"));\nlet conversionType = prompt(\"Convert to (C)elsius or (F)ahrenheit?\").toUpperCase();\n\nif (conversionType === \"C\") {\n    let celsius = (temperature - 32) * (5 / 9);\n    console.log(`${temperature}°F is equal to ${celsius.toFixed(2)}°C`);\n} else if (conversionType === \"F\") {\n    let fahrenheit = (temperature * (9 / 5)) + 32;\n    console.log(`${temperature}°C is equal to ${fahrenheit.toFixed(2)}°F`);\n} else {\n    console.log(\"Invalid conversion type entered.\");\n}\n",
      "text/plain": [
       "<IPython.core.display.Javascript object>"
      ]
     },
     "metadata": {},
     "output_type": "display_data"
    }
   ],
   "source": [
    "%%js\n",
    "\n",
    "let temperature = parseFloat(prompt(\"Enter the temperature:\"));\n",
    "let conversionType = prompt(\"Convert to (C)elsius or (F)ahrenheit?\").toUpperCase();\n",
    "\n",
    "if (conversionType === \"C\") {\n",
    "    let celsius = (temperature - 32) * (5 / 9);\n",
    "    console.log(`${temperature}°F is equal to ${celsius.toFixed(2)}°C`);\n",
    "} else if (conversionType === \"F\") {\n",
    "    let fahrenheit = (temperature * (9 / 5)) + 32;\n",
    "    console.log(`${temperature}°C is equal to ${fahrenheit.toFixed(2)}°F`);\n",
    "} else {\n",
    "    console.log(\"Invalid conversion type entered.\");\n",
    "}"
   ]
  },
  {
   "cell_type": "markdown",
   "metadata": {},
   "source": [
    "### Python Version"
   ]
  },
  {
   "cell_type": "code",
   "execution_count": 8,
   "metadata": {},
   "outputs": [],
   "source": [
    "def temperature_converter():\n",
    "    try:\n",
    "        temperature = float(input(\"Enter the temperature: \"))\n",
    "        \n",
    "        conversion_type = input(\"Convert to Celsius or Fahrenheit? \").strip().upper()\n",
    "\n",
    "        if conversion_type == \"C\":\n",
    "            pass\n",
    "            # TODO: Convert Fahrenheit to Celsius\n",
    "            # celsius = (temperature - 32) * (5 / 9)\n",
    "            # print(f\"{temperature}°F is equal to {celsius:.2f}°C\")\n",
    "\n",
    "        elif conversion_type == \"F\":\n",
    "            pass\n",
    "            # TODO: Convert Celsius to Fahrenheit\n",
    "            # fahrenheit = (temperature * (9 / 5)) + 32\n",
    "            # print(f\"{temperature}°C is equal to {fahrenheit:.2f}°F\")\n",
    "\n",
    "        else:\n",
    "            print(\"Invalid conversion type entered. Please enter 'C' or 'F'.\")\n",
    "\n",
    "    except ValueError:\n",
    "        print(\"Invalid input. Please enter a numeric temperature value.\")\n",
    "\n",
    "temperature_converter()"
   ]
  },
  {
   "cell_type": "markdown",
   "metadata": {},
   "source": [
    "## Homework Lesson 3.1"
   ]
  },
  {
   "cell_type": "markdown",
   "metadata": {},
   "source": [
    "### Python Homework: Shooping List Calculator"
   ]
  },
  {
   "cell_type": "code",
   "execution_count": 13,
   "metadata": {},
   "outputs": [
    {
     "name": "stdout",
     "output_type": "stream",
     "text": [
      "\n",
      "--- Shopping List ---\n",
      "cake: $3.00\n",
      "\n",
      "Total cost: $3.00\n"
     ]
    }
   ],
   "source": [
    "def shopping_list_calculator():\n",
    "    shopping_list = []  \n",
    "    total_cost = 0.0   \n",
    "    \n",
    "    while True:\n",
    "        item = input(\"Enter item name (or type 'done' to finish): \").strip()\n",
    "        if item.lower() == 'done':\n",
    "            break \n",
    "        \n",
    "        try:\n",
    "            price = float(input(f\"Enter the price of {item}: $\").strip())\n",
    "            shopping_list.append((item, price))\n",
    "        except ValueError:\n",
    "            print(\"Invalid input. Please enter a valid price.\")\n",
    "    \n",
    "    for item, price in shopping_list:\n",
    "        total_cost += price\n",
    "\n",
    "    print(\"\\n--- Shopping List ---\")\n",
    "    for item, price in shopping_list:\n",
    "        print(f\"{item}: ${price:.2f}\")\n",
    "    \n",
    "    print(f\"\\nTotal cost: ${total_cost:.2f}\")\n",
    "\n",
    "shopping_list_calculator()\n"
   ]
  },
  {
   "cell_type": "markdown",
   "metadata": {},
   "source": [
    "### Javascript Homework: Recipe Ingredient Converter"
   ]
  },
  {
   "cell_type": "code",
   "execution_count": 14,
   "metadata": {
    "vscode": {
     "languageId": "javascript"
    }
   },
   "outputs": [
    {
     "data": {
      "application/javascript": "const conversionRates = {\n    \"cupsToTablespoons\": 16,\n    \"tablespoonsToTeaspoons\": 3,\n    \"cupsToTeaspoons\": 48\n};\n\nfunction recipeConverter() {\n    let ingredients = []; \n    \n    while (true) {\n        let ingredient = prompt(\"Enter the ingredient name (or type 'done' to finish): \");\n        if (ingredient.toLowerCase() === 'done') break;\n\n        let quantity = parseFloat(prompt(`Enter the quantity of ${ingredient}: `));\n        let currentUnit = prompt(`Enter the current unit (cups, tablespoons, teaspoons): `).toLowerCase();\n        let desiredUnit = prompt(`Convert ${ingredient} to (cups, tablespoons, teaspoons): `).toLowerCase();\n\n        let convertedQuantity;\n        if (currentUnit === \"cups\" && desiredUnit === \"tablespoons\") {\n            convertedQuantity = quantity * conversionRates.cupsToTablespoons;\n        } else if (currentUnit === \"tablespoons\" && desiredUnit === \"teaspoons\") {\n            convertedQuantity = quantity * conversionRates.tablespoonsToTeaspoons;\n        } else if (currentUnit === \"cups\" && desiredUnit === \"teaspoons\") {\n            convertedQuantity = quantity * conversionRates.cupsToTeaspoons;\n        } else if (currentUnit === desiredUnit) {\n            convertedQuantity = quantity;\n        } else {\n            alert(\"Invalid conversion units! Please try again.\");\n            continue;\n        }\n\n        ingredients.push({\n            name: ingredient,\n            originalQuantity: `${quantity} ${currentUnit}`,\n            convertedQuantity: `${convertedQuantity} ${desiredUnit}`\n        });\n    }\n\n    console.log(\"\\n--- Recipe Ingredient Conversions ---\");\n    ingredients.forEach(item => {\n        console.log(`${item.name}: ${item.originalQuantity} -> ${item.convertedQuantity}`);\n    });\n}\n\nrecipeConverter();\n",
      "text/plain": [
       "<IPython.core.display.Javascript object>"
      ]
     },
     "metadata": {},
     "output_type": "display_data"
    }
   ],
   "source": [
    "%%js\n",
    "const conversionRates = {\n",
    "    \"cupsToTablespoons\": 16,\n",
    "    \"tablespoonsToTeaspoons\": 3,\n",
    "    \"cupsToTeaspoons\": 48\n",
    "};\n",
    "\n",
    "function recipeConverter() {\n",
    "    let ingredients = []; \n",
    "    \n",
    "    while (true) {\n",
    "        let ingredient = prompt(\"Enter the ingredient name (or type 'done' to finish): \");\n",
    "        if (ingredient.toLowerCase() === 'done') break;\n",
    "\n",
    "        let quantity = parseFloat(prompt(`Enter the quantity of ${ingredient}: `));\n",
    "        let currentUnit = prompt(`Enter the current unit (cups, tablespoons, teaspoons): `).toLowerCase();\n",
    "        let desiredUnit = prompt(`Convert ${ingredient} to (cups, tablespoons, teaspoons): `).toLowerCase();\n",
    "\n",
    "        let convertedQuantity;\n",
    "        if (currentUnit === \"cups\" && desiredUnit === \"tablespoons\") {\n",
    "            convertedQuantity = quantity * conversionRates.cupsToTablespoons;\n",
    "        } else if (currentUnit === \"tablespoons\" && desiredUnit === \"teaspoons\") {\n",
    "            convertedQuantity = quantity * conversionRates.tablespoonsToTeaspoons;\n",
    "        } else if (currentUnit === \"cups\" && desiredUnit === \"teaspoons\") {\n",
    "            convertedQuantity = quantity * conversionRates.cupsToTeaspoons;\n",
    "        } else if (currentUnit === desiredUnit) {\n",
    "            convertedQuantity = quantity;\n",
    "        } else {\n",
    "            alert(\"Invalid conversion units! Please try again.\");\n",
    "            continue;\n",
    "        }\n",
    "\n",
    "        ingredients.push({\n",
    "            name: ingredient,\n",
    "            originalQuantity: `${quantity} ${currentUnit}`,\n",
    "            convertedQuantity: `${convertedQuantity} ${desiredUnit}`\n",
    "        });\n",
    "    }\n",
    "\n",
    "    console.log(\"\\n--- Recipe Ingredient Conversions ---\");\n",
    "    ingredients.forEach(item => {\n",
    "        console.log(`${item.name}: ${item.originalQuantity} -> ${item.convertedQuantity}`);\n",
    "    });\n",
    "}\n",
    "\n",
    "recipeConverter();\n"
   ]
  }
 ],
 "metadata": {
  "kernelspec": {
   "display_name": "venv",
   "language": "python",
   "name": "python3"
  },
  "language_info": {
   "codemirror_mode": {
    "name": "ipython",
    "version": 3
   },
   "file_extension": ".py",
   "mimetype": "text/x-python",
   "name": "python",
   "nbconvert_exporter": "python",
   "pygments_lexer": "ipython3",
   "version": "3.12.3"
  }
 },
 "nbformat": 4,
 "nbformat_minor": 2
}
