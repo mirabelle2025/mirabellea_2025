{
 "cells": [
  {
   "cell_type": "markdown",
   "metadata": {
    "vscode": {
     "languageId": "raw"
    }
   },
   "source": [
    "---\n",
    "layout: post\n",
    "title: Homeworks and Popcorn Hacks for Lessons\n",
    "description: Homeworks and Hacks for Lesson 3.2\n",
    "courses: { csp: {week:1} }\n",
    "menu: nav/lessons.html\n",
    "permalink: /lesson/3-2\n",
    "comments: true\n",
    "---"
   ]
  },
  {
   "cell_type": "markdown",
   "metadata": {},
   "source": [
    "# Lesson 3.2 Popcorn Hacks and Homework"
   ]
  },
  {
   "cell_type": "markdown",
   "metadata": {},
   "source": [
    "## Completed Quizziz (100%!!)"
   ]
  },
  {
   "cell_type": "markdown",
   "metadata": {},
   "source": [
    "![Quizziz Screenshot]({{site.baseurl}}/images/notebooks/about-personal/quizziz3-2.png)"
   ]
  },
  {
   "cell_type": "markdown",
   "metadata": {
    "vscode": {
     "languageId": "plaintext"
    }
   },
   "source": [
    "## Popcorn Hack #1"
   ]
  },
  {
   "cell_type": "markdown",
   "metadata": {},
   "source": [
    "### Javascript Version"
   ]
  },
  {
   "cell_type": "code",
   "execution_count": 10,
   "metadata": {
    "vscode": {
     "languageId": "javascript"
    }
   },
   "outputs": [
    {
     "data": {
      "application/javascript": "const fruitKeys = { 1: \"bananas\", 2: \"apples\", 3: \"pears\" };\n\nconst bestDictionaryEver = { \"bananas\": 1, \"apples\": 2, \"pears\": 3 };\n\nfunction accessFruitByNumber(number) {\n    const fruit = fruitKeys[number];\n    if (fruit) {\n        console.log(`The count of ${fruit} is ${bestDictionaryEver[fruit]}`);\n    } else {\n        console.log(`Key ${number} does not correspond to a valid fruit.`);\n    }\n}\n\n// Example usage\naccessFruitByNumber(3);  // Access value using number 3, which corresponds to 'pears'\n",
      "text/plain": [
       "<IPython.core.display.Javascript object>"
      ]
     },
     "metadata": {},
     "output_type": "display_data"
    }
   ],
   "source": [
    "%%js\n",
    "const fruitKeys = { 1: \"bananas\", 2: \"apples\", 3: \"pears\" };\n",
    "\n",
    "const bestDictionaryEver = { \"bananas\": 1, \"apples\": 2, \"pears\": 3 };\n",
    "\n",
    "function accessFruitByNumber(number) {\n",
    "    const fruit = fruitKeys[number];\n",
    "    if (fruit) {\n",
    "        console.log(`The count of ${fruit} is ${bestDictionaryEver[fruit]}`);\n",
    "    } else {\n",
    "        console.log(`Key ${number} does not correspond to a valid fruit.`);\n",
    "    }\n",
    "}\n",
    "\n",
    "// Example usage\n",
    "accessFruitByNumber(3);  // Access value using number 3, which corresponds to 'pears'"
   ]
  },
  {
   "cell_type": "markdown",
   "metadata": {},
   "source": [
    "### Python Version"
   ]
  },
  {
   "cell_type": "code",
   "execution_count": 19,
   "metadata": {},
   "outputs": [
    {
     "name": "stdout",
     "output_type": "stream",
     "text": [
      "The count of pears is 3\n"
     ]
    }
   ],
   "source": [
    "fruit_keys = {1: \"bananas\", 2: \"apples\", 3: \"pears\"}\n",
    "\n",
    "bestDictionaryEver = {\"bananas\": 1, \"apples\": 2, \"pears\": 3}\n",
    "\n",
    "def access_fruit_by_number(number):\n",
    "    fruit = fruit_keys.get(number)\n",
    "    if fruit:\n",
    "        print(f\"The count of {fruit} is {bestDictionaryEver[fruit]}\")\n",
    "    else:\n",
    "        print(f\"Key {number} does not correspond to a valid fruit.\")\n",
    "\n",
    "access_fruit_by_number(3)  \n"
   ]
  },
  {
   "cell_type": "markdown",
   "metadata": {},
   "source": [
    "## Popcorn Hack #2"
   ]
  },
  {
   "cell_type": "markdown",
   "metadata": {},
   "source": [
    "### Javascript Version"
   ]
  },
  {
   "cell_type": "code",
   "execution_count": 20,
   "metadata": {
    "vscode": {
     "languageId": "javascript"
    }
   },
   "outputs": [
    {
     "data": {
      "application/javascript": "function calculator(num1, operator, num2) {\n    switch(operator) {\n        case '+':\n            return num1 + num2;\n        case '-':\n            return num1 - num2;\n        case '*':\n            return num1 * num2;\n        case '/':\n            return num1 / num2;\n        default:\n            return \"Invalid operator\";\n    }\n}\n\nlet num1 = 10;\nlet num2 = 5;\nlet operator = '+';\nconsole.log(`${num1} ${operator} ${num2} = ${calculator(num1, operator, num2)}`);\n",
      "text/plain": [
       "<IPython.core.display.Javascript object>"
      ]
     },
     "metadata": {},
     "output_type": "display_data"
    }
   ],
   "source": [
    "%%js\n",
    "function calculator(num1, operator, num2) {\n",
    "    switch(operator) {\n",
    "        case '+':\n",
    "            return num1 + num2;\n",
    "        case '-':\n",
    "            return num1 - num2;\n",
    "        case '*':\n",
    "            return num1 * num2;\n",
    "        case '/':\n",
    "            return num1 / num2;\n",
    "        default:\n",
    "            return \"Invalid operator\";\n",
    "    }\n",
    "}\n",
    "\n",
    "let num1 = 10;\n",
    "let num2 = 5;\n",
    "let operator = '+';\n",
    "console.log(`${num1} ${operator} ${num2} = ${calculator(num1, operator, num2)}`);\n"
   ]
  },
  {
   "cell_type": "markdown",
   "metadata": {},
   "source": [
    "### Python Version"
   ]
  },
  {
   "cell_type": "code",
   "execution_count": 21,
   "metadata": {},
   "outputs": [],
   "source": [
    "def calculator(num1, operator, num2):\n",
    "    if operator == '+':\n",
    "        return num1 + num2\n",
    "    elif operator == '-':\n",
    "        return num1 - num2\n",
    "    elif operator == '*':\n",
    "        return num1 * num2\n",
    "    elif operator == '/':\n",
    "        return num1 / num2\n",
    "    else:\n",
    "        return \"Invalid operator\""
   ]
  },
  {
   "cell_type": "markdown",
   "metadata": {},
   "source": [
    "## Popcorn Hack #3"
   ]
  },
  {
   "cell_type": "markdown",
   "metadata": {},
   "source": [
    "### Javascript Version"
   ]
  },
  {
   "cell_type": "code",
   "execution_count": 22,
   "metadata": {
    "vscode": {
     "languageId": "javascript"
    }
   },
   "outputs": [
    {
     "data": {
      "application/javascript": "function repeatStrings(stringList, n) {\n    return stringList.map(string => string.repeat(n));\n}\n\nconst strings = [\"soccer\", \"football\", \"baseball\"];\nconst n = 3;\nconst result = repeatStrings(strings, n);\nconsole.log(result);\n",
      "text/plain": [
       "<IPython.core.display.Javascript object>"
      ]
     },
     "metadata": {},
     "output_type": "display_data"
    }
   ],
   "source": [
    "%%js\n",
    "function repeatStrings(stringList, n) {\n",
    "    return stringList.map(string => string.repeat(n));\n",
    "}\n",
    "\n",
    "const strings = [\"soccer\", \"football\", \"baseball\"];\n",
    "const n = 3;\n",
    "const result = repeatStrings(strings, n);\n",
    "console.log(result);"
   ]
  },
  {
   "cell_type": "markdown",
   "metadata": {},
   "source": [
    "### Python Version"
   ]
  },
  {
   "cell_type": "code",
   "execution_count": 23,
   "metadata": {},
   "outputs": [
    {
     "name": "stdout",
     "output_type": "stream",
     "text": [
      "['soccersoccersoccer', 'footballfootballfootball', 'baseballbaseballbaseball']\n"
     ]
    }
   ],
   "source": [
    "def repeat_strings(string_list, n):\n",
    "    return [string * n for string in string_list]\n",
    "\n",
    "strings = [\"soccer\", \"football\", \"baseball\"]\n",
    "n = 3\n",
    "result = repeat_strings(strings, n)\n",
    "print(result)  "
   ]
  },
  {
   "cell_type": "markdown",
   "metadata": {},
   "source": [
    "## Popcorn Hack #4"
   ]
  },
  {
   "cell_type": "markdown",
   "metadata": {},
   "source": [
    "### Javascript Version"
   ]
  },
  {
   "cell_type": "code",
   "execution_count": 16,
   "metadata": {
    "vscode": {
     "languageId": "javascript"
    }
   },
   "outputs": [
    {
     "data": {
      "application/javascript": "function compareSets(set1, set2) {\n    for (let value of set2) {\n        if (set1.has(value)) {\n            return true;\n        }\n    }\n    return false;\n}\n\n// Example usage\nconst set1 = new Set([1, 2, 3, 4, 5]);\nconst set2 = new Set([6, 7, 3]);\n\nconst result = compareSets(set1, set2);\nconsole.log(result); \n",
      "text/plain": [
       "<IPython.core.display.Javascript object>"
      ]
     },
     "metadata": {},
     "output_type": "display_data"
    }
   ],
   "source": [
    "%%js\n",
    "function compareSets(set1, set2) {\n",
    "    for (let value of set2) {\n",
    "        if (set1.has(value)) {\n",
    "            return true;\n",
    "        }\n",
    "    }\n",
    "    return false;\n",
    "}\n",
    "\n",
    "const set1 = new Set([1, 2, 3, 4, 5]);\n",
    "const set2 = new Set([6, 7, 3]);\n",
    "\n",
    "const result = compareSets(set1, set2);\n",
    "console.log(result); "
   ]
  },
  {
   "cell_type": "markdown",
   "metadata": {},
   "source": [
    "### Python Version"
   ]
  },
  {
   "cell_type": "code",
   "execution_count": 25,
   "metadata": {},
   "outputs": [
    {
     "name": "stdout",
     "output_type": "stream",
     "text": [
      "True\n"
     ]
    }
   ],
   "source": [
    "def compare_sets(set1, set2):\n",
    "    return any(value in set1 for value in set2)\n",
    "\n",
    "set1 = {1, 2, 3, 4, 5}\n",
    "set2 = {6, 7, 3}\n",
    "\n",
    "result = compare_sets(set1, set2)\n",
    "print(result) "
   ]
  },
  {
   "cell_type": "markdown",
   "metadata": {},
   "source": [
    "## Homework for 3.2"
   ]
  },
  {
   "cell_type": "markdown",
   "metadata": {},
   "source": [
    "### Python Homework: Profile Information"
   ]
  },
  {
   "cell_type": "code",
   "execution_count": 28,
   "metadata": {},
   "outputs": [
    {
     "name": "stdout",
     "output_type": "stream",
     "text": [
      "Hobbies List: ['flag football', 'soccer', 'coding', 'snowboarding']\n",
      "Updated Profile: {'name': 'Mirabelle Anderson', 'age': 16, 'city': 'San Diego', 'favorite_color': 'Pink', 'hobbies': ['flag football', 'soccer', 'coding', 'snowboarding']}\n",
      "Is \"soccer\" available today? True\n",
      "I have 4 hobbies.\n",
      "Favorite Hobbies Tuple: ('soccer', 'snowboarding')\n",
      "Skills Set: {'Communication', 'Leadership', 'Teamwork'}\n",
      "New Skill: None\n",
      "Total cost to develop hobbies and skills: $50.00\n"
     ]
    }
   ],
   "source": [
    "name = \"Mirabelle Anderson\"\n",
    "age = 16\n",
    "city = \"San Diego\"\n",
    "favorite_color = \"Pink\"\n",
    "\n",
    "profile = {\n",
    "    \"name\": name,\n",
    "    \"age\": age,\n",
    "    \"city\": city,\n",
    "    \"favorite_color\": favorite_color\n",
    "}\n",
    "\n",
    "hobbies = [\"flag football\", \"soccer\", \"coding\" , \"snowboarding\"]\n",
    "print(\"Hobbies List:\", hobbies)\n",
    "\n",
    "profile[\"hobbies\"] = hobbies\n",
    "print(\"Updated Profile:\", profile)\n",
    "\n",
    "chosen_hobby = \"soccer\"\n",
    "has_hobby = True \n",
    "print(f'Is \"{chosen_hobby}\" available today? {has_hobby}')\n",
    "\n",
    "total_hobbies = len(hobbies)\n",
    "print(f\"I have {total_hobbies} hobbies.\")\n",
    "\n",
    "favorite_hobbies = (\"soccer\", \"snowboarding\")\n",
    "print(\"Favorite Hobbies Tuple:\", favorite_hobbies)\n",
    "\n",
    "skills = {\"Leadership\", \"Communication\", \"Teamwork\"}\n",
    "print(\"Skills Set:\", skills)\n",
    "\n",
    "new_skill = None\n",
    "print(\"New Skill:\", new_skill)\n",
    "\n",
    "hobby_cost = 5.0\n",
    "skill_cost = 10.0\n",
    "total_cost = (total_hobbies * hobby_cost) + (len(skills) * skill_cost)\n",
    "print(f\"Total cost to develop hobbies and skills: ${total_cost:.2f}\")\n"
   ]
  },
  {
   "cell_type": "markdown",
   "metadata": {},
   "source": [
    "### BONUS: Javascript Version"
   ]
  },
  {
   "cell_type": "code",
   "execution_count": 31,
   "metadata": {
    "vscode": {
     "languageId": "javascript"
    }
   },
   "outputs": [
    {
     "data": {
      "application/javascript": "let name = \"Mirabelle Anderson\";\nlet age = 16;\nlet city = \"San Diego\";\nlet favorite_color = \"Pink\";\n\nlet profile = {\n    name: name,\n    age: age,\n    city: city,\n    favorite_color: favorite_color\n};\n\nlet hobbies = [\"flag football\", \"soccer\", \"coding\", \"snowboarding\"];\nconsole.log(\"Hobbies List:\", hobbies);\n\nprofile.hobbies = hobbies;\nconsole.log(\"Updated Profile:\", profile);\n\nlet chosen_hobby = \"soccer\";\nlet has_hobby = true;\nconsole.log(`Is \"${chosen_hobby}\" available today? ${has_hobby}`);\n\nlet total_hobbies = hobbies.length;\nconsole.log(`I have ${total_hobbies} hobbies.`);\n\nlet favorite_hobbies = [\"soccer\", \"snowboarding\"];\nconsole.log(\"Favorite Hobbies Array:\", favorite_hobbies);\n\nlet skills = new Set([\"Leadership\", \"Communication\", \"Teamwork\"]);\nconsole.log(\"Skills Set:\", skills);\n\nlet new_skill = null;\nconsole.log(\"New Skill:\", new_skill);\n\nlet hobby_cost = 5.0;\nlet skill_cost = 10.0;\nlet total_cost = (total_hobbies * hobby_cost) + (skills.size * skill_cost);\nconsole.log(`Total cost to develop hobbies and skills: $${total_cost.toFixed(2)}`);\n",
      "text/plain": [
       "<IPython.core.display.Javascript object>"
      ]
     },
     "metadata": {},
     "output_type": "display_data"
    }
   ],
   "source": [
    "%%js\n",
    "let name = \"Mirabelle Anderson\";\n",
    "let age = 16;\n",
    "let city = \"San Diego\";\n",
    "let favorite_color = \"Pink\";\n",
    "\n",
    "let profile = {\n",
    "    name: name,\n",
    "    age: age,\n",
    "    city: city,\n",
    "    favorite_color: favorite_color\n",
    "};\n",
    "\n",
    "let hobbies = [\"flag football\", \"soccer\", \"coding\", \"snowboarding\"];\n",
    "console.log(\"Hobbies List:\", hobbies);\n",
    "\n",
    "profile.hobbies = hobbies;\n",
    "console.log(\"Updated Profile:\", profile);\n",
    "\n",
    "let chosen_hobby = \"soccer\";\n",
    "let has_hobby = true;\n",
    "console.log(`Is \"${chosen_hobby}\" available today? ${has_hobby}`);\n",
    "\n",
    "let total_hobbies = hobbies.length;\n",
    "console.log(`I have ${total_hobbies} hobbies.`);\n",
    "\n",
    "let favorite_hobbies = [\"soccer\", \"snowboarding\"];\n",
    "console.log(\"Favorite Hobbies Array:\", favorite_hobbies);\n",
    "\n",
    "let skills = new Set([\"Leadership\", \"Communication\", \"Teamwork\"]);\n",
    "console.log(\"Skills Set:\", skills);\n",
    "\n",
    "let new_skill = null;\n",
    "console.log(\"New Skill:\", new_skill);\n",
    "\n",
    "let hobby_cost = 5.0;\n",
    "let skill_cost = 10.0;\n",
    "let total_cost = (total_hobbies * hobby_cost) + (skills.size * skill_cost);\n",
    "console.log(`Total cost to develop hobbies and skills: $${total_cost.toFixed(2)}`);\n"
   ]
  }
 ],
 "metadata": {
  "kernelspec": {
   "display_name": "venv",
   "language": "python",
   "name": "python3"
  },
  "language_info": {
   "codemirror_mode": {
    "name": "ipython",
    "version": 3
   },
   "file_extension": ".py",
   "mimetype": "text/x-python",
   "name": "python",
   "nbconvert_exporter": "python",
   "pygments_lexer": "ipython3",
   "version": "3.12.3"
  }
 },
 "nbformat": 4,
 "nbformat_minor": 2
}
