{
 "cells": [
  {
   "cell_type": "markdown",
   "metadata": {
    "vscode": {
     "languageId": "raw"
    }
   },
   "source": [
    "---\n",
    "layout: post\n",
    "title: Homeworks and Popcorn Hacks for Lessons\n",
    "description: Homeworks and Hacks for Lesson 3.2\n",
    "courses: { csp: {week:1} }\n",
    "menu: nav/lessons.html\n",
    "permalink: /lesson/3-2\n",
    "comments: true\n",
    "---"
   ]
  },
  {
   "cell_type": "markdown",
   "metadata": {},
   "source": [
    "# Lesson 3.2 Popcorn Hacks and Homework"
   ]
  },
  {
   "cell_type": "markdown",
   "metadata": {
    "vscode": {
     "languageId": "plaintext"
    }
   },
   "source": [
    "## Popcorn Hack #1"
   ]
  },
  {
   "cell_type": "code",
   "execution_count": 9,
   "metadata": {},
   "outputs": [
    {
     "name": "stdout",
     "output_type": "stream",
     "text": [
      "The count of pears is 3\n"
     ]
    }
   ],
   "source": [
    "fruit_keys = {1: \"bananas\", 2: \"apples\", 3: \"pears\"}\n",
    "\n",
    "bestDictionaryEver = {\"bananas\": 1, \"apples\": 2, \"pears\": 3}\n",
    "\n",
    "def access_fruit_by_number(number):\n",
    "    fruit = fruit_keys.get(number)\n",
    "    if fruit:\n",
    "        print(f\"The count of {fruit} is {bestDictionaryEver[fruit]}\")\n",
    "    else:\n",
    "        print(f\"Key {number} does not correspond to a valid fruit.\")\n",
    "\n",
    "# Example usage\n",
    "access_fruit_by_number(3)  # Access value using number 3, which corresponds to 'pears'\n"
   ]
  },
  {
   "cell_type": "code",
   "execution_count": 10,
   "metadata": {
    "vscode": {
     "languageId": "javascript"
    }
   },
   "outputs": [
    {
     "data": {
      "application/javascript": "const fruitKeys = { 1: \"bananas\", 2: \"apples\", 3: \"pears\" };\n\nconst bestDictionaryEver = { \"bananas\": 1, \"apples\": 2, \"pears\": 3 };\n\nfunction accessFruitByNumber(number) {\n    const fruit = fruitKeys[number];\n    if (fruit) {\n        console.log(`The count of ${fruit} is ${bestDictionaryEver[fruit]}`);\n    } else {\n        console.log(`Key ${number} does not correspond to a valid fruit.`);\n    }\n}\n\n// Example usage\naccessFruitByNumber(3);  // Access value using number 3, which corresponds to 'pears'\n",
      "text/plain": [
       "<IPython.core.display.Javascript object>"
      ]
     },
     "metadata": {},
     "output_type": "display_data"
    }
   ],
   "source": [
    "%%js\n",
    "const fruitKeys = { 1: \"bananas\", 2: \"apples\", 3: \"pears\" };\n",
    "\n",
    "const bestDictionaryEver = { \"bananas\": 1, \"apples\": 2, \"pears\": 3 };\n",
    "\n",
    "function accessFruitByNumber(number) {\n",
    "    const fruit = fruitKeys[number];\n",
    "    if (fruit) {\n",
    "        console.log(`The count of ${fruit} is ${bestDictionaryEver[fruit]}`);\n",
    "    } else {\n",
    "        console.log(`Key ${number} does not correspond to a valid fruit.`);\n",
    "    }\n",
    "}\n",
    "\n",
    "// Example usage\n",
    "accessFruitByNumber(3);  // Access value using number 3, which corresponds to 'pears'"
   ]
  },
  {
   "cell_type": "markdown",
   "metadata": {},
   "source": [
    "## Popcorn Hack #2"
   ]
  },
  {
   "cell_type": "code",
   "execution_count": 8,
   "metadata": {
    "vscode": {
     "languageId": "javascript"
    }
   },
   "outputs": [
    {
     "data": {
      "application/javascript": "function calculator(num1, operator, num2) {\n    switch(operator) {\n        case '+':\n            return num1 + num2;\n        case '-':\n            return num1 - num2;\n        case '*':\n            return num1 * num2;\n        case '/':\n            return num1 / num2;\n        default:\n            return \"Invalid operator\";\n    }\n}\n\n// Example usage\nlet num1 = 10;\nlet num2 = 5;\nlet operator = '+';\nconsole.log(`${num1} ${operator} ${num2} = ${calculator(num1, operator, num2)}`);\n",
      "text/plain": [
       "<IPython.core.display.Javascript object>"
      ]
     },
     "metadata": {},
     "output_type": "display_data"
    }
   ],
   "source": [
    "%%js\n",
    "function calculator(num1, operator, num2) {\n",
    "    switch(operator) {\n",
    "        case '+':\n",
    "            return num1 + num2;\n",
    "        case '-':\n",
    "            return num1 - num2;\n",
    "        case '*':\n",
    "            return num1 * num2;\n",
    "        case '/':\n",
    "            return num1 / num2;\n",
    "        default:\n",
    "            return \"Invalid operator\";\n",
    "    }\n",
    "}\n",
    "\n",
    "// Example usage\n",
    "let num1 = 10;\n",
    "let num2 = 5;\n",
    "let operator = '+';\n",
    "console.log(`${num1} ${operator} ${num2} = ${calculator(num1, operator, num2)}`);\n"
   ]
  },
  {
   "cell_type": "code",
   "execution_count": 7,
   "metadata": {},
   "outputs": [],
   "source": [
    "def calculator(num1, operator, num2):\n",
    "    if operator == '+':\n",
    "        return num1 + num2\n",
    "    elif operator == '-':\n",
    "        return num1 - num2\n",
    "    elif operator == '*':\n",
    "        return num1 * num2\n",
    "    elif operator == '/':\n",
    "        return num1 / num2\n",
    "    else:\n",
    "        return \"Invalid operator\""
   ]
  },
  {
   "cell_type": "markdown",
   "metadata": {},
   "source": [
    "## Popcorn Hack 3"
   ]
  },
  {
   "cell_type": "code",
   "execution_count": 13,
   "metadata": {},
   "outputs": [
    {
     "name": "stdout",
     "output_type": "stream",
     "text": [
      "['soccersoccersoccer', 'footballfootballfootball', 'baseballbaseballbaseball']\n"
     ]
    }
   ],
   "source": [
    "def repeat_strings(string_list, n):\n",
    "    return [string * n for string in string_list]\n",
    "\n",
    "# Example usage\n",
    "strings = [\"soccer\", \"football\", \"baseball\"]\n",
    "n = 3\n",
    "result = repeat_strings(strings, n)\n",
    "print(result)  "
   ]
  },
  {
   "cell_type": "code",
   "execution_count": 14,
   "metadata": {
    "vscode": {
     "languageId": "javascript"
    }
   },
   "outputs": [
    {
     "data": {
      "application/javascript": "function repeatStrings(stringList, n) {\n    return stringList.map(string => string.repeat(n));\n}\n\n// Example usage\nconst strings = [\"soccer\", \"football\", \"baseball\"];\nconst n = 3;\nconst result = repeatStrings(strings, n);\nconsole.log(result);\n",
      "text/plain": [
       "<IPython.core.display.Javascript object>"
      ]
     },
     "metadata": {},
     "output_type": "display_data"
    }
   ],
   "source": [
    "%%js\n",
    "function repeatStrings(stringList, n) {\n",
    "    return stringList.map(string => string.repeat(n));\n",
    "}\n",
    "\n",
    "// Example usage\n",
    "const strings = [\"soccer\", \"football\", \"baseball\"];\n",
    "const n = 3;\n",
    "const result = repeatStrings(strings, n);\n",
    "console.log(result);"
   ]
  },
  {
   "cell_type": "markdown",
   "metadata": {},
   "source": [
    "## Popcorn Hack #4"
   ]
  },
  {
   "cell_type": "code",
   "execution_count": 17,
   "metadata": {
    "vscode": {
     "languageId": "javascript"
    }
   },
   "outputs": [
    {
     "name": "stdout",
     "output_type": "stream",
     "text": [
      "True\n"
     ]
    }
   ],
   "source": [
    "def compare_sets(set1, set2):\n",
    "    return any(value in set1 for value in set2)\n",
    "\n",
    "# Example usage\n",
    "set1 = {1, 2, 3, 4, 5}\n",
    "set2 = {6, 7, 3}\n",
    "\n",
    "result = compare_sets(set1, set2)\n",
    "print(result)  # Output: True (because 3 is in both sets)\n"
   ]
  },
  {
   "cell_type": "code",
   "execution_count": 16,
   "metadata": {
    "vscode": {
     "languageId": "javascript"
    }
   },
   "outputs": [
    {
     "data": {
      "application/javascript": "function compareSets(set1, set2) {\n    for (let value of set2) {\n        if (set1.has(value)) {\n            return true;\n        }\n    }\n    return false;\n}\n\n// Example usage\nconst set1 = new Set([1, 2, 3, 4, 5]);\nconst set2 = new Set([6, 7, 3]);\n\nconst result = compareSets(set1, set2);\nconsole.log(result); \n",
      "text/plain": [
       "<IPython.core.display.Javascript object>"
      ]
     },
     "metadata": {},
     "output_type": "display_data"
    }
   ],
   "source": [
    "%%js\n",
    "function compareSets(set1, set2) {\n",
    "    for (let value of set2) {\n",
    "        if (set1.has(value)) {\n",
    "            return true;\n",
    "        }\n",
    "    }\n",
    "    return false;\n",
    "}\n",
    "\n",
    "// Example usage\n",
    "const set1 = new Set([1, 2, 3, 4, 5]);\n",
    "const set2 = new Set([6, 7, 3]);\n",
    "\n",
    "const result = compareSets(set1, set2);\n",
    "console.log(result); "
   ]
  },
  {
   "cell_type": "markdown",
   "metadata": {},
   "source": [
    "## Homework for 3.2"
   ]
  }
 ],
 "metadata": {
  "kernelspec": {
   "display_name": "venv",
   "language": "python",
   "name": "python3"
  },
  "language_info": {
   "codemirror_mode": {
    "name": "ipython",
    "version": 3
   },
   "file_extension": ".py",
   "mimetype": "text/x-python",
   "name": "python",
   "nbconvert_exporter": "python",
   "pygments_lexer": "ipython3",
   "version": "3.12.3"
  }
 },
 "nbformat": 4,
 "nbformat_minor": 2
}
