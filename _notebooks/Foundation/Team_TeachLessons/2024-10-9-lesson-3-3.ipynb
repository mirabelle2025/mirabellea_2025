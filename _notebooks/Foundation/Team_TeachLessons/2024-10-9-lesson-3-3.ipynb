{
 "cells": [
  {
   "cell_type": "markdown",
   "metadata": {},
   "source": [
    "---\n",
    "layout: post\n",
    "title: Homeworks and Popcorn Hacks for Lessons\n",
    "description: Homeworks and Hacks for Lesson 3.3\n",
    "courses: { csp: {week:1} }\n",
    "menu: nav/lessons.html\n",
    "permalink: /lesson/3-3\n",
    "comments: true\n",
    "---"
   ]
  },
  {
   "cell_type": "markdown",
   "metadata": {},
   "source": [
    "# Lesson 3.3 Popcorn Hacks and Homework"
   ]
  },
  {
   "cell_type": "markdown",
   "metadata": {},
   "source": [
    "## Popcorn Hack #1"
   ]
  },
  {
   "cell_type": "markdown",
   "metadata": {},
   "source": [
    "### Javascript Version"
   ]
  },
  {
   "cell_type": "code",
   "execution_count": 4,
   "metadata": {
    "vscode": {
     "languageId": "javascript"
    }
   },
   "outputs": [
    {
     "data": {
      "application/javascript": "function arithmeticOperations(a, b) {\n    let addition = a + b;\n    let subtraction = a - b;\n    let multiplication = a * b;\n    let division = b !== 0 ? a / b : 'Undefined (Division by zero)';\n    let modulus = b !== 0 ? a % b : 'Undefined (Modulo by zero)';\n    \n    return {\n        Addition: addition,\n        Subtraction: subtraction,\n        Multiplication: multiplication,\n        Division: division,\n        Modulus: modulus\n    };\n}\n\nlet result = arithmeticOperations(10, 2);\nconsole.log(result);\n",
      "text/plain": [
       "<IPython.core.display.Javascript object>"
      ]
     },
     "metadata": {},
     "output_type": "display_data"
    }
   ],
   "source": [
    "%%js\n",
    "function arithmeticOperations(a, b) {\n",
    "    let addition = a + b;\n",
    "    let subtraction = a - b;\n",
    "    let multiplication = a * b;\n",
    "    let division = b !== 0 ? a / b : 'Undefined (Division by zero)';\n",
    "    let modulus = b !== 0 ? a % b : 'Undefined (Modulo by zero)';\n",
    "    \n",
    "    return {\n",
    "        Addition: addition,\n",
    "        Subtraction: subtraction,\n",
    "        Multiplication: multiplication,\n",
    "        Division: division,\n",
    "        Modulus: modulus\n",
    "    };\n",
    "}\n",
    "\n",
    "let result = arithmeticOperations(10, 2);\n",
    "console.log(result);"
   ]
  },
  {
   "cell_type": "markdown",
   "metadata": {},
   "source": [
    "### Python Version"
   ]
  },
  {
   "cell_type": "code",
   "execution_count": 1,
   "metadata": {},
   "outputs": [
    {
     "name": "stdout",
     "output_type": "stream",
     "text": [
      "{'Addition': 12, 'Subtraction': 8, 'Multiplication': 20, 'Division': 5.0, 'Modulus': 0}\n"
     ]
    }
   ],
   "source": [
    "def arithmetic_operations(a, b):\n",
    "    addition = a + b\n",
    "    subtraction = a - b\n",
    "    multiplication = a * b\n",
    "    division = a / b if b != 0 else 'Undefined (Division by zero)'\n",
    "    modulus = a % b if b != 0 else 'Undefined (Modulo by zero)'\n",
    "    \n",
    "    return {\n",
    "        'Addition': addition,\n",
    "        'Subtraction': subtraction,\n",
    "        'Multiplication': multiplication,\n",
    "        'Division': division,\n",
    "        'Modulus': modulus\n",
    "    }\n",
    "\n",
    "result = arithmetic_operations(10, 2)\n",
    "print(result)"
   ]
  },
  {
   "cell_type": "markdown",
   "metadata": {},
   "source": [
    "## Popcorn Hack #2"
   ]
  },
  {
   "cell_type": "markdown",
   "metadata": {},
   "source": [
    "## Javascript Version"
   ]
  },
  {
   "cell_type": "code",
   "execution_count": 6,
   "metadata": {
    "vscode": {
     "languageId": "javascript"
    }
   },
   "outputs": [
    {
     "data": {
      "application/javascript": "function fibonacci(n) {\n    if (n <= 0) {\n        return \"Input should be a positive integer.\";\n    } else if (n === 1) {\n        return 0;\n    } else if (n === 2) {\n        return 1;\n    } else {\n        let a = 0, b = 1;\n        for (let i = 2; i < n; i++) {\n            let next = a + b;\n            a = b;\n            b = next;\n        }\n        return b;\n    }\n}\n\nlet n = 7;\nlet nthFibonacci = fibonacci(n);\nconsole.log(`The ${n}th Fibonacci number is: ${nthFibonacci}`);\n",
      "text/plain": [
       "<IPython.core.display.Javascript object>"
      ]
     },
     "metadata": {},
     "output_type": "display_data"
    }
   ],
   "source": [
    "%%js\n",
    "function fibonacci(n) {\n",
    "    if (n <= 0) {\n",
    "        return \"Input should be a positive integer.\";\n",
    "    } else if (n === 1) {\n",
    "        return 0;\n",
    "    } else if (n === 2) {\n",
    "        return 1;\n",
    "    } else {\n",
    "        let a = 0, b = 1;\n",
    "        for (let i = 2; i < n; i++) {\n",
    "            let next = a + b;\n",
    "            a = b;\n",
    "            b = next;\n",
    "        }\n",
    "        return b;\n",
    "    }\n",
    "}\n",
    "\n",
    "let n = 7;\n",
    "let nthFibonacci = fibonacci(n);\n",
    "console.log(`The ${n}th Fibonacci number is: ${nthFibonacci}`);"
   ]
  },
  {
   "cell_type": "markdown",
   "metadata": {},
   "source": [
    "## Python Version"
   ]
  },
  {
   "cell_type": "code",
   "execution_count": 2,
   "metadata": {},
   "outputs": [
    {
     "name": "stdout",
     "output_type": "stream",
     "text": [
      "The 7th Fibonacci number is: 8\n"
     ]
    }
   ],
   "source": [
    "def fibonacci(n):\n",
    "    if n <= 0:\n",
    "        return \"Input should be a positive integer.\"\n",
    "    elif n == 1:\n",
    "        return 0\n",
    "    elif n == 2:\n",
    "        return 1\n",
    "    else:\n",
    "        a, b = 0, 1\n",
    "        for _ in range(2, n):\n",
    "            a, b = b, a + b\n",
    "        return b\n",
    "\n",
    "n = 7\n",
    "nth_fibonacci = fibonacci(n)\n",
    "print(f\"The {n}th Fibonacci number is: {nth_fibonacci}\")"
   ]
  },
  {
   "cell_type": "markdown",
   "metadata": {},
   "source": [
    "## Homework Lesson 3.3"
   ]
  },
  {
   "cell_type": "markdown",
   "metadata": {},
   "source": [
    "### Python Version"
   ]
  }
 ],
 "metadata": {
  "kernelspec": {
   "display_name": "venv",
   "language": "python",
   "name": "python3"
  },
  "language_info": {
   "codemirror_mode": {
    "name": "ipython",
    "version": 3
   },
   "file_extension": ".py",
   "mimetype": "text/x-python",
   "name": "python",
   "nbconvert_exporter": "python",
   "pygments_lexer": "ipython3",
   "version": "3.12.3"
  }
 },
 "nbformat": 4,
 "nbformat_minor": 2
}
