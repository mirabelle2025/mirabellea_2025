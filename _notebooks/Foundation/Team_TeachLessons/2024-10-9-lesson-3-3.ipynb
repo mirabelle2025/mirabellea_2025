{
 "cells": [
  {
   "cell_type": "markdown",
   "metadata": {},
   "source": [
    "---\n",
    "layout: post\n",
    "title: Homeworks and Popcorn Hacks for Lessons\n",
    "description: Homeworks and Hacks for Lesson 3.3\n",
    "courses: { csp: {week:1} }\n",
    "menu: nav/lessons.html\n",
    "permalink: /lesson/3-3\n",
    "comments: true\n",
    "---"
   ]
  },
  {
   "cell_type": "markdown",
   "metadata": {},
   "source": [
    "# Lesson 3.3 Popcorn Hacks and Homework"
   ]
  },
  {
   "cell_type": "markdown",
   "metadata": {},
   "source": [
    "## Popcorn Hack #1"
   ]
  },
  {
   "cell_type": "markdown",
   "metadata": {},
   "source": [
    "### Javascript Version"
   ]
  },
  {
   "cell_type": "code",
   "execution_count": 4,
   "metadata": {
    "vscode": {
     "languageId": "javascript"
    }
   },
   "outputs": [
    {
     "data": {
      "application/javascript": "function arithmeticOperations(a, b) {\n    let addition = a + b;\n    let subtraction = a - b;\n    let multiplication = a * b;\n    let division = b !== 0 ? a / b : 'Undefined (Division by zero)';\n    let modulus = b !== 0 ? a % b : 'Undefined (Modulo by zero)';\n    \n    return {\n        Addition: addition,\n        Subtraction: subtraction,\n        Multiplication: multiplication,\n        Division: division,\n        Modulus: modulus\n    };\n}\n\nlet result = arithmeticOperations(10, 2);\nconsole.log(result);\n",
      "text/plain": [
       "<IPython.core.display.Javascript object>"
      ]
     },
     "metadata": {},
     "output_type": "display_data"
    }
   ],
   "source": [
    "%%js\n",
    "function arithmeticOperations(a, b) {\n",
    "    let addition = a + b;\n",
    "    let subtraction = a - b;\n",
    "    let multiplication = a * b;\n",
    "    let division = b !== 0 ? a / b : 'Undefined (Division by zero)';\n",
    "    let modulus = b !== 0 ? a % b : 'Undefined (Modulo by zero)';\n",
    "    \n",
    "    return {\n",
    "        Addition: addition,\n",
    "        Subtraction: subtraction,\n",
    "        Multiplication: multiplication,\n",
    "        Division: division,\n",
    "        Modulus: modulus\n",
    "    };\n",
    "}\n",
    "\n",
    "let result = arithmeticOperations(10, 2);\n",
    "console.log(result);"
   ]
  },
  {
   "cell_type": "markdown",
   "metadata": {},
   "source": [
    "### Python Version"
   ]
  },
  {
   "cell_type": "code",
   "execution_count": 1,
   "metadata": {},
   "outputs": [
    {
     "name": "stdout",
     "output_type": "stream",
     "text": [
      "{'Addition': 12, 'Subtraction': 8, 'Multiplication': 20, 'Division': 5.0, 'Modulus': 0}\n"
     ]
    }
   ],
   "source": [
    "def arithmetic_operations(a, b):\n",
    "    addition = a + b\n",
    "    subtraction = a - b\n",
    "    multiplication = a * b\n",
    "    division = a / b if b != 0 else 'Undefined (Division by zero)'\n",
    "    modulus = a % b if b != 0 else 'Undefined (Modulo by zero)'\n",
    "    \n",
    "    return {\n",
    "        'Addition': addition,\n",
    "        'Subtraction': subtraction,\n",
    "        'Multiplication': multiplication,\n",
    "        'Division': division,\n",
    "        'Modulus': modulus\n",
    "    }\n",
    "\n",
    "result = arithmetic_operations(10, 2)\n",
    "print(result)"
   ]
  },
  {
   "cell_type": "markdown",
   "metadata": {},
   "source": [
    "## Popcorn Hack #2"
   ]
  },
  {
   "cell_type": "markdown",
   "metadata": {},
   "source": [
    "## Javascript Version"
   ]
  },
  {
   "cell_type": "code",
   "execution_count": 6,
   "metadata": {
    "vscode": {
     "languageId": "javascript"
    }
   },
   "outputs": [
    {
     "data": {
      "application/javascript": "function fibonacci(n) {\n    if (n <= 0) {\n        return \"Input should be a positive integer.\";\n    } else if (n === 1) {\n        return 0;\n    } else if (n === 2) {\n        return 1;\n    } else {\n        let a = 0, b = 1;\n        for (let i = 2; i < n; i++) {\n            let next = a + b;\n            a = b;\n            b = next;\n        }\n        return b;\n    }\n}\n\nlet n = 7;\nlet nthFibonacci = fibonacci(n);\nconsole.log(`The ${n}th Fibonacci number is: ${nthFibonacci}`);\n",
      "text/plain": [
       "<IPython.core.display.Javascript object>"
      ]
     },
     "metadata": {},
     "output_type": "display_data"
    }
   ],
   "source": [
    "%%js\n",
    "function fibonacci(n) {\n",
    "    if (n <= 0) {\n",
    "        return \"Input should be a positive integer.\";\n",
    "    } else if (n === 1) {\n",
    "        return 0;\n",
    "    } else if (n === 2) {\n",
    "        return 1;\n",
    "    } else {\n",
    "        let a = 0, b = 1;\n",
    "        for (let i = 2; i < n; i++) {\n",
    "            let next = a + b;\n",
    "            a = b;\n",
    "            b = next;\n",
    "        }\n",
    "        return b;\n",
    "    }\n",
    "}\n",
    "\n",
    "let n = 7;\n",
    "let nthFibonacci = fibonacci(n);\n",
    "console.log(`The ${n}th Fibonacci number is: ${nthFibonacci}`);"
   ]
  },
  {
   "cell_type": "markdown",
   "metadata": {},
   "source": [
    "## Python Version"
   ]
  },
  {
   "cell_type": "code",
   "execution_count": 2,
   "metadata": {},
   "outputs": [
    {
     "name": "stdout",
     "output_type": "stream",
     "text": [
      "The 7th Fibonacci number is: 8\n"
     ]
    }
   ],
   "source": [
    "def fibonacci(n):\n",
    "    if n <= 0:\n",
    "        return \"Input should be a positive integer.\"\n",
    "    elif n == 1:\n",
    "        return 0\n",
    "    elif n == 2:\n",
    "        return 1\n",
    "    else:\n",
    "        a, b = 0, 1\n",
    "        for _ in range(2, n):\n",
    "            a, b = b, a + b\n",
    "        return b\n",
    "\n",
    "n = 7\n",
    "nth_fibonacci = fibonacci(n)\n",
    "print(f\"The {n}th Fibonacci number is: {nth_fibonacci}\")"
   ]
  },
  {
   "cell_type": "markdown",
   "metadata": {},
   "source": [
    "## Homework Lesson 3.3"
   ]
  },
  {
   "cell_type": "markdown",
   "metadata": {},
   "source": [
    "### Javascript Version"
   ]
  },
  {
   "cell_type": "code",
   "execution_count": 5,
   "metadata": {
    "vscode": {
     "languageId": "javascript"
    }
   },
   "outputs": [
    {
     "data": {
      "application/javascript": "function matrixMultiply(A, B) {\n    return [\n        [A[0][0] * B[0][0] + A[0][1] * B[1][0], A[0][0] * B[0][1] + A[0][1] * B[1][1]],\n        [A[1][0] * B[0][0] + A[1][1] * B[1][0], A[1][0] * B[0][1] + A[1][1] * B[1][1]]\n    ];\n}\n\nfunction matrixPower(M, power) {\n    if (power < 0) throw new Error(\"Power must be a non-negative integer.\");\n\n    let result = [[1, 0], [0, 1]]; // Identity matrix\n    while (power > 0) {\n        if (power % 2 === 1) {\n            result = matrixMultiply(result, M);\n        }\n        M = matrixMultiply(M, M);\n        power = Math.floor(power / 2);\n    }\n    return result;\n}\n\nfunction fibonacciMatrix(n) {\n    if (n < 0) throw new Error(\"Fibonacci number is not defined for negative integers.\");\n    if (n === 0) return 0;\n    if (n === 1) return 1;\n\n    const F = [[1, 1], [1, 0\n",
      "text/plain": [
       "<IPython.core.display.Javascript object>"
      ]
     },
     "metadata": {},
     "output_type": "display_data"
    }
   ],
   "source": [
    "%%js\n",
    "function matrixMultiply(A, B) {\n",
    "    return [\n",
    "        [A[0][0] * B[0][0] + A[0][1] * B[1][0], A[0][0] * B[0][1] + A[0][1] * B[1][1]],\n",
    "        [A[1][0] * B[0][0] + A[1][1] * B[1][0], A[1][0] * B[0][1] + A[1][1] * B[1][1]]\n",
    "    ];\n",
    "}\n",
    "\n",
    "function matrixPower(M, power) {\n",
    "    if (power < 0) throw new Error(\"Power must be a non-negative integer.\");\n",
    "\n",
    "    let result = [[1, 0], [0, 1]]; // Identity matrix\n",
    "    while (power > 0) {\n",
    "        if (power % 2 === 1) {\n",
    "            result = matrixMultiply(result, M);\n",
    "        }\n",
    "        M = matrixMultiply(M, M);\n",
    "        power = Math.floor(power / 2);\n",
    "    }\n",
    "    return result;\n",
    "}\n",
    "\n",
    "function fibonacciMatrix(n) {\n",
    "    if (n < 0) throw new Error(\"Fibonacci number is not defined for negative integers.\");\n",
    "    if (n === 0) return 0;\n",
    "    if (n === 1) return 1;\n",
    "\n",
    "    const F = [[1, 1], [1, 0\n"
   ]
  },
  {
   "cell_type": "markdown",
   "metadata": {},
   "source": [
    "### Python Version"
   ]
  },
  {
   "cell_type": "code",
   "execution_count": 4,
   "metadata": {},
   "outputs": [
    {
     "name": "stdout",
     "output_type": "stream",
     "text": [
      "\n",
      "Choose the algorithm:\n",
      "1. Matrix Exponentiation\n",
      "2. Dynamic Programming\n",
      "3. Recursion\n"
     ]
    },
    {
     "name": "stderr",
     "output_type": "stream",
     "text": [
      "INFO:Matrix raised to power 3:\n",
      "[[3, 2], [2, 1]]\n"
     ]
    },
    {
     "name": "stdout",
     "output_type": "stream",
     "text": [
      "Fibonacci number at position 4 is: 3\n"
     ]
    }
   ],
   "source": [
    "import logging\n",
    "import sys\n",
    "\n",
    "# Configure logging\n",
    "logging.basicConfig(level=logging.INFO, format='%(levelname)s:%(message)s')\n",
    "\n",
    "def matrix_multiply(A, B):\n",
    "    return [[A[0][0] * B[0][0] + A[0][1] * B[1][0],\n",
    "             A[0][0] * B[0][1] + A[0][1] * B[1][1]],\n",
    "            [A[1][0] * B[0][0] + A[1][1] * B[1][0],\n",
    "             A[1][0] * B[0][1] + A[1][1] * B[1][1]]]\n",
    "\n",
    "def matrix_power(M, power):\n",
    "    if power < 0:\n",
    "        raise ValueError(\"Power must be a non-negative integer.\")\n",
    "    \n",
    "    result = [[1, 0],\n",
    "              [0, 1]]\n",
    "    \n",
    "    while power > 0:\n",
    "        if power % 2 == 1:\n",
    "            result = matrix_multiply(result, M)\n",
    "        M = matrix_multiply(M, M)\n",
    "        power //= 2\n",
    "    \n",
    "    return result\n",
    "\n",
    "def fibonacci_matrix(n):\n",
    "    if not isinstance(n, int):\n",
    "        raise TypeError(\"Input must be an integer.\")\n",
    "    if n < 0:\n",
    "        raise ValueError(\"Fibonacci number is not defined for negative integers.\")\n",
    "    elif n == 0:\n",
    "        return 0\n",
    "    elif n == 1:\n",
    "        return 1\n",
    "    \n",
    "    F = [[1, 1],\n",
    "         [1, 0]]\n",
    "    \n",
    "    result = matrix_power(F, n-1)\n",
    "    \n",
    "    logging.info(f\"Matrix raised to power {n-1}:\\n{result}\")\n",
    "    \n",
    "    return result[0][0]\n",
    "\n",
    "def fibonacci_dp(n):\n",
    "    if n < 0:\n",
    "        raise ValueError(\"Fibonacci number is not defined for negative integers.\")\n",
    "    elif n == 0:\n",
    "        return 0\n",
    "    elif n == 1:\n",
    "        return 1\n",
    "\n",
    "    fib = [0] * (n + 1)\n",
    "    fib[0] = 0\n",
    "    fib[1] = 1\n",
    "\n",
    "    for i in range(2, n + 1):\n",
    "        fib[i] = fib[i - 1] + fib[i - 2]\n",
    "        logging.debug(f\"Fibonacci[{i}] = {fib[i]}\")\n",
    "\n",
    "    return fib[n]\n",
    "\n",
    "def fibonacci_recursive(n):\n",
    "    if n < 0:\n",
    "        raise ValueError(\"Fibonacci number is not defined for negative integers.\")\n",
    "    elif n == 0:\n",
    "        return 0\n",
    "    elif n == 1:\n",
    "        return 1\n",
    "    \n",
    "    logging.debug(f\"Calculating Fibonacci({n}) recursively.\")\n",
    "    return fibonacci_recursive(n - 1) + fibonacci_recursive(n - 2)\n",
    "\n",
    "def validate_input(user_input):\n",
    "    try:\n",
    "        value = int(user_input)\n",
    "        if value < 0:\n",
    "            raise ValueError\n",
    "        return value\n",
    "    except ValueError:\n",
    "        raise ValueError(\"Please enter a valid non-negative integer.\")\n",
    "\n",
    "def main():\n",
    "    try:\n",
    "        user_input = input(\"Enter the position of the Fibonacci number you want to calculate: \")\n",
    "        n = validate_input(user_input)\n",
    "\n",
    "        print(\"\\nChoose the algorithm:\")\n",
    "        print(\"1. Matrix Exponentiation\")\n",
    "        print(\"2. Dynamic Programming\")\n",
    "        print(\"3. Recursion\")\n",
    "        choice = input(\"Enter your choice (1/2/3): \")\n",
    "\n",
    "        if choice == '1':\n",
    "            fib_n = fibonacci_matrix(n)\n",
    "        elif choice == '2':\n",
    "            fib_n = fibonacci_dp(n)\n",
    "        elif choice == '3':\n",
    "            fib_n = fibonacci_recursive(n)\n",
    "        else:\n",
    "            raise ValueError(\"Invalid choice. Please select 1, 2, or 3.\")\n",
    "\n",
    "        print(f\"Fibonacci number at position {n} is: {fib_n}\")\n",
    "    except ValueError as ve:\n",
    "        logging.error(ve)\n",
    "    except Exception as e:\n",
    "        logging.error(f\"An unexpected error occurred: {e}\")\n",
    "        sys.exit(1)\n",
    "\n",
    "if __name__ == \"__main__\":\n",
    "    main()\n"
   ]
  }
 ],
 "metadata": {
  "kernelspec": {
   "display_name": "venv",
   "language": "python",
   "name": "python3"
  },
  "language_info": {
   "codemirror_mode": {
    "name": "ipython",
    "version": 3
   },
   "file_extension": ".py",
   "mimetype": "text/x-python",
   "name": "python",
   "nbconvert_exporter": "python",
   "pygments_lexer": "ipython3",
   "version": "3.12.3"
  }
 },
 "nbformat": 4,
 "nbformat_minor": 2
}
