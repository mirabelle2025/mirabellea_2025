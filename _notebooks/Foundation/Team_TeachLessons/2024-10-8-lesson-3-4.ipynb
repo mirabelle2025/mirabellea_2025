{
 "cells": [
  {
   "cell_type": "raw",
   "metadata": {
    "vscode": {
     "languageId": "raw"
    }
   },
   "source": [
    "---\n",
    "layout: post\n",
    "title: Homeworks and Popcorn Hacks for Lessons\n",
    "description: Homeworks and Hacks for Lesson 3.4\n",
    "courses: { csp: {week:1} }\n",
    "menu: nav/lessons.html\n",
    "permalink: /lesson/3-4\n",
    "comments: true\n",
    "---"
   ]
  },
  {
   "cell_type": "markdown",
   "metadata": {},
   "source": [
    "# Lesson 3.4 Popcorn Hacks and Homework"
   ]
  },
  {
   "cell_type": "markdown",
   "metadata": {},
   "source": [
    "## Popcorn Hack #1"
   ]
  },
  {
   "cell_type": "code",
   "execution_count": 2,
   "metadata": {
    "vscode": {
     "languageId": "javascript"
    }
   },
   "outputs": [
    {
     "data": {
      "application/javascript": "\nlet favoriteMovie = \"Notebook\";\nlet favoriteSport = \"Soccer\";\nlet petName = \"Powder\";\n\nlet concatenatedMessage = \"My favorite movie is \" + favoriteMovie + \". I love playing \" + favoriteSport + \" and my pet's name is \" + petName + \".\";\n\nlet interpolatedMessage = `My favorite movie is ${favoriteMovie}. I love playing ${favoriteSport} and my pet's name is ${petName}.`;\n",
      "text/plain": [
       "<IPython.core.display.Javascript object>"
      ]
     },
     "metadata": {},
     "output_type": "display_data"
    }
   ],
   "source": [
    "%%js\n",
    "\n",
    "let favoriteMovie = \"Notebook\";\n",
    "let favoriteSport = \"Soccer\";\n",
    "let petName = \"Powder\";\n",
    "\n",
    "let concatenatedMessage = \"My favorite movie is \" + favoriteMovie + \". I love playing \" + favoriteSport + \" and my pet's name is \" + petName + \".\";\n",
    "\n",
    "let interpolatedMessage = `My favorite movie is ${favoriteMovie}. I love playing ${favoriteSport} and my pet's name is ${petName}.`;\n"
   ]
  },
  {
   "cell_type": "markdown",
   "metadata": {},
   "source": [
    "## Popcorn Hack #2"
   ]
  },
  {
   "cell_type": "code",
   "execution_count": 5,
   "metadata": {
    "vscode": {
     "languageId": "javascript"
    }
   },
   "outputs": [
    {
     "data": {
      "application/javascript": "\nlet phrase = \"Hard work beats talent when talent does not work hard\";\n\nlet partOne = phrase.slice(2, 8);\nlet partTwo = phrase.slice(-18, -12);\nlet remainder = phrase.slice(20);\n\nconsole.log(partOne); \nconsole.log(partTwo); \nconsole.log(remainder); \n",
      "text/plain": [
       "<IPython.core.display.Javascript object>"
      ]
     },
     "metadata": {},
     "output_type": "display_data"
    }
   ],
   "source": [
    "%%js\n",
    "\n",
    "let phrase = \"Hard work beats talent when talent does not work hard\";\n",
    "\n",
    "let partOne = phrase.slice(2, 8);\n",
    "let partTwo = phrase.slice(-18, -12);\n",
    "let remainder = phrase.slice(20);\n",
    "\n",
    "console.log(partOne); \n",
    "console.log(partTwo); \n",
    "console.log(remainder); "
   ]
  },
  {
   "cell_type": "markdown",
   "metadata": {},
   "source": [
    "## Popcorn Hack #3"
   ]
  },
  {
   "cell_type": "code",
   "execution_count": 8,
   "metadata": {},
   "outputs": [
    {
     "name": "stdout",
     "output_type": "stream",
     "text": [
      " vs t py scc!\n"
     ]
    }
   ],
   "source": [
    "def remove_vowels(input_str):\n",
    "    vowels = \"aeiourbllMAEIOU\"\n",
    "    result = ''.join([char for char in input_str if char not in vowels])\n",
    "    return result\n",
    "\n",
    "sentence = \"Mirabelle loves to play soccer!\"\n",
    "print(remove_vowels(sentence))"
   ]
  },
  {
   "cell_type": "markdown",
   "metadata": {},
   "source": [
    "## Popcorn Hack #4"
   ]
  },
  {
   "cell_type": "code",
   "execution_count": 9,
   "metadata": {},
   "outputs": [
    {
     "name": "stdout",
     "output_type": "stream",
     "text": [
      "today! game a have I\n"
     ]
    }
   ],
   "source": [
    "def reverse_words(input_str):\n",
    "    words = input_str.split()\n",
    "    reversed_words = \" \".join(words[::-1])\n",
    "    return reversed_words\n",
    "\n",
    "sentence = \"I have a game today!\"\n",
    "print(reverse_words(sentence))"
   ]
  },
  {
   "cell_type": "markdown",
   "metadata": {},
   "source": [
    "## Homework for 3.4"
   ]
  },
  {
   "cell_type": "code",
   "execution_count": null,
   "metadata": {},
   "outputs": [],
   "source": []
  }
 ],
 "metadata": {
  "kernelspec": {
   "display_name": "venv",
   "language": "python",
   "name": "python3"
  },
  "language_info": {
   "codemirror_mode": {
    "name": "ipython",
    "version": 3
   },
   "file_extension": ".py",
   "mimetype": "text/x-python",
   "name": "python",
   "nbconvert_exporter": "python",
   "pygments_lexer": "ipython3",
   "version": "3.12.3"
  }
 },
 "nbformat": 4,
 "nbformat_minor": 2
}
