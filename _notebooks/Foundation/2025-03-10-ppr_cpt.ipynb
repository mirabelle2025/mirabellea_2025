{
 "cells": [
  {
   "cell_type": "markdown",
   "metadata": {},
   "source": [
    "---\n",
    "comments: true\n",
    "layout: post\n",
    "title: 2025 Trimester 3 CPT and PPR requirements\n",
    "description: College Board requirements\n",
    "sticky rank: 1\n",
    "---"
   ]
  },
  {
   "cell_type": "markdown",
   "metadata": {},
   "source": [
    "<h1 style=\"color: black;\">Component A: Program Code</h1>"
   ]
  },
  {
   "cell_type": "code",
   "execution_count": null,
   "metadata": {
    "vscode": {
     "languageId": "javascript"
    }
   },
   "outputs": [],
   "source": [
    "from flask import request, jsonify, Blueprint\n",
    "from model.factsbase import db, Facts\n",
    "\n",
    "# Blueprint for handling user-submitted facts via API endpoints\n",
    "user_facts = Blueprint('user_facts', __name__)\n",
    "\n",
    "@user_facts.route('/api/userfacts', methods=['POST'])\n",
    "def add_user_fact():\n",
    "    \"\"\"\n",
    "    Adds a new fact to the database.\n",
    "    - Extracts JSON data from the request.\n",
    "    - Validates required fields ('name' and 'fact').\n",
    "    - Creates a new database entry and commits it.\n",
    "    - Returns a success message if successful.\n",
    "    \"\"\"\n",
    "    data = request.get_json()\n",
    "    name = data.get('name')\n",
    "    fact = data.get('fact')\n",
    "\n",
    "    if not all([name, fact]):\n",
    "        return jsonify({'error': 'Missing data'}), 400\n",
    "\n",
    "    new_fact = Facts(name=name, fact=fact)\n",
    "    db.session.add(new_fact)\n",
    "    db.session.commit()\n",
    "\n",
    "    return jsonify({'message': 'Fact added successfully'}), 201\n",
    "\n",
    "@user_facts.route('/api/userfacts', methods=['GET'])\n",
    "def get_facts():\n",
    "    \"\"\"\n",
    "    Retrieves all stored facts.\n",
    "    - Queries the database.\n",
    "    - Formats and returns structured JSON data.\n",
    "    \"\"\"\n",
    "    facts = Facts.query.all()\n",
    "    result = [{'id': fact.id, 'name': fact.name, 'fact': fact.fact} for fact in facts]\n",
    "    return jsonify(result), 200\n",
    "\n",
    "@user_facts.route('/api/userfacts/<int:id>', methods=['DELETE'])\n",
    "def delete_fact(id):\n",
    "    \"\"\"\n",
    "    Deletes a fact from the database by ID.\n",
    "    \"\"\"\n",
    "    fact = Facts.query.get(id)\n",
    "    if not fact:\n",
    "        return jsonify({'error': 'Fact not found'}), 404\n",
    "\n",
    "    db.session.delete(fact)\n",
    "    db.session.commit()\n",
    "    return jsonify({'message': 'Fact deleted successfully'}), 200\n",
    "\n",
    "@user_facts.route('/api/userfacts/<int:id>', methods=['PUT'])\n",
    "def update_fact(id):\n",
    "    \"\"\"\n",
    "    Updates an existing fact in the database.\n",
    "    \"\"\"\n",
    "    data = request.get_json()\n",
    "    name = data.get('name')\n",
    "    fact = data.get('fact')\n",
    "\n",
    "    if not all([name, fact]):\n",
    "        return jsonify({'error': 'Missing data'}), 400\n",
    "\n",
    "    existing_fact = Facts.query.get(id)\n",
    "    if not existing_fact:\n",
    "        return jsonify({'error': 'Fact not found'}), 404\n",
    "\n",
    "    existing_fact.name = name\n",
    "    existing_fact.fact = fact\n",
    "    db.session.commit()\n",
    "    return jsonify({'message': 'Fact updated successfully'}), 200"
   ]
  },
  {
   "cell_type": "markdown",
   "metadata": {},
   "source": [
    "### How This Code Represents Component A\n",
    "Program Functionality <br/>\n",
    "- Implements a RESTful API in Flask to manage user-submitted facts.<br/>\n",
    "- Supports CRUD (Create, Read, Update, Delete) operations using SQLAlchemy.<br/>\n",
    "\n",
    "Algorithm Implementation\n",
    "- ```add_user_fact()```: Processes input, validates, and stores data.\n",
    "- ```get_facts()```: Retrieves and formats database entries.\n",
    "- ```update_fact()```: Modifies stored data.\n",
    "- ```delete_fact()```: Removes a record.\n",
    "\n",
    "Data Abstraction\n",
    "- The ```Facts``` class (from ```model/factsbase.py```) abstracts the database structure.\n",
    "- The SQLAlchemy ORM handles data persistence."
   ]
  },
  {
   "cell_type": "markdown",
   "metadata": {},
   "source": [
    "<h4 style=\"color: darkblue;\">1.Input from User</h4>\n"
   ]
  },
  {
   "cell_type": "code",
   "execution_count": null,
   "metadata": {
    "vscode": {
     "languageId": "javascript"
    }
   },
   "outputs": [],
   "source": [
    "\n",
    "data = request.get_json()  # The user sends input as a JSON object.\n",
    "name = data.get('name')\n",
    "fact = data.get('fact')\n"
   ]
  },
  {
   "cell_type": "markdown",
   "metadata": {},
   "source": [
    "<h4 style=\"color: darkblue;\">2.Use of list to Represent Data</h4>\n"
   ]
  },
  {
   "cell_type": "code",
   "execution_count": null,
   "metadata": {
    "vscode": {
     "languageId": "javascript"
    }
   },
   "outputs": [],
   "source": [
    "facts = Facts.query.all()  # Querying all facts from the database\n",
    "result = [\n",
    "    {\n",
    "        'id': fact.id,\n",
    "        'name': fact._name,\n",
    "        'fact': fact._fact,\n",
    "    }\n",
    "    for fact in facts\n",
    "]\n"
   ]
  },
  {
   "cell_type": "markdown",
   "metadata": {},
   "source": [
    "<h4 style=\"color: darkblue;\">3.Student-Dveloped Procedure</h4>\n"
   ]
  },
  {
   "cell_type": "code",
   "execution_count": null,
   "metadata": {
    "vscode": {
     "languageId": "javascript"
    }
   },
   "outputs": [],
   "source": [
    "def add_user():\n",
    "    data = request.get_json()\n",
    "    name = data.get('name')\n",
    "    fact = data.get('fact')\n",
    "\n",
    "    if not all([name, fact]):\n",
    "        return jsonify({'error': 'Missing data'}), 400\n",
    "\n",
    "    new_user = Facts(name=name, fact=fact)\n",
    "    db.session.add(new_user)\n",
    "    db.session.commit()\n",
    "\n",
    "    return jsonify({'message': 'Fact added successfully'}), 201\n",
    "    \n"
   ]
  },
  {
   "cell_type": "markdown",
   "metadata": {},
   "source": [
    "<h4 style=\"color: darkblue;\">4.Algorithm with sequencing, selction, and iteration</h4>\n"
   ]
  },
  {
   "cell_type": "code",
   "execution_count": null,
   "metadata": {
    "vscode": {
     "languageId": "javascript"
    }
   },
   "outputs": [],
   "source": [
    "def add_user():\n",
    "    data = request.get_json()\n",
    "    name = data.get('name')\n",
    "    fact = data.get('fact')\n",
    "\n",
    "    if not all([name, fact]):\n",
    "        return jsonify({'error': 'Missing data'}), 400\n",
    "\n",
    "    new_user = Facts(name=name, fact=fact)\n",
    "    db.session.add(new_user)\n",
    "    db.session.commit()\n",
    "\n",
    "    return jsonify({'message': 'Fact added successfully'}), 201\n",
    "    \n"
   ]
  },
  {
   "cell_type": "markdown",
   "metadata": {},
   "source": [
    "<h4 style=\"color: darkblue;\">5.Calls to Procedure</h4>\n"
   ]
  },
  {
   "cell_type": "code",
   "execution_count": null,
   "metadata": {
    "vscode": {
     "languageId": "javascript"
    }
   },
   "outputs": [],
   "source": [
    "@userfacts.route('/api/userfacts', methods=['POST'])\n",
    "def add_user_route():\n",
    "    return add_user()  # Calling the procedure defined above\n",
    "    "
   ]
  },
  {
   "cell_type": "markdown",
   "metadata": {},
   "source": [
    "<h4 style=\"color: darkblue;\">6. Output Based on Input</h4>\n"
   ]
  },
  {
   "cell_type": "code",
   "execution_count": null,
   "metadata": {
    "vscode": {
     "languageId": "javascript"
    }
   },
   "outputs": [],
   "source": [
    "return jsonify({'message': 'Fact added successfully'}), 201"
   ]
  },
  {
   "cell_type": "markdown",
   "metadata": {},
   "source": [
    "<h1 style=\"color: black;\">Component B: Video</h1>"
   ]
  },
  {
   "cell_type": "markdown",
   "metadata": {},
   "source": [
    "Demonstrates:\n",
    "- Input into the program\n",
    "- Functionality of CRUD operations\n",
    "- Output of the API responses\n",
    "\n",
    "Requirements Followed:\n",
    "- Format: ```.mp4, .webm, .wmv, .avi, or .mov```\n",
    "- Max Length: 1 minute\n",
    "- Max File Size: 30MB"
   ]
  },
  {
   "cell_type": "markdown",
   "metadata": {},
   "source": [
    "<h1 style=\"color: black;\">Component C: {Personalized Project Reference (PPR)}</h1>"
   ]
  },
  {
   "cell_type": "markdown",
   "metadata": {},
   "source": [
    "\n",
    "<h3 style=\"color: darkblue;\">1.Student-Developed Procedure:</h3>\n",
    "This procedure is a core algorithm in the program, containing:\n",
    "- A procedure name ```(add_user_fact)```\n",
    "- Parameters that affect its functionality\n",
    "- Algorithm with sequencing, selection, and iteration"
   ]
  },
  {
   "cell_type": "code",
   "execution_count": null,
   "metadata": {
    "vscode": {
     "languageId": "javascript"
    }
   },
   "outputs": [],
   "source": [
    "# Student-developed procedure\n",
    "def add_user_fact(data):\n",
    "    \"\"\"\n",
    "    Adds a fact to the database after validation.\n",
    "    \"\"\"\n",
    "    name = data.get('name')\n",
    "    fact = data.get('fact')\n",
    "    \n",
    "    if not all([name, fact]):\n",
    "        return {'error': 'Missing data'}, 400\n",
    "    \n",
    "    new_fact = Facts(name=name, fact=fact)\n",
    "    db.session.add(new_fact)\n",
    "    db.session.commit()\n",
    "    \n",
    "    return {'message': 'Fact added successfully'}, 201"
   ]
  },
  {
   "cell_type": "markdown",
   "metadata": {},
   "source": [
    "Key Aspects:\n",
    "- Procedure Name: ```add_user_fact```\n",
    "- Parameters: ```data``` (dictionary containing ```name``` and ```fact```)\n",
    "\n",
    "Algorithm Features:\n",
    "- Sequencing: Checks data, creates a new entry, and commits it.\n",
    "- Selection: Ensures both ```name``` and ```fact``` are provided.\n",
    "- Iteration: Used in other parts of the program where multiple facts are processed."
   ]
  },
  {
   "cell_type": "markdown",
   "metadata": {},
   "source": [
    "\n",
    "<h3 style=\"color: darkblue;\">2.Calling the Procedure: </h3>\n"
   ]
  },
  {
   "cell_type": "code",
   "execution_count": null,
   "metadata": {
    "vscode": {
     "languageId": "javascript"
    }
   },
   "outputs": [],
   "source": [
    "@user_facts.route('/api/userfacts', methods=['POST'])\n",
    "def add_user_fact_route():\n",
    "    data = request.get_json()\n",
    "    response = add_user_fact(data)\n",
    "    return jsonify(response)"
   ]
  },
  {
   "cell_type": "markdown",
   "metadata": {},
   "source": [
    "- Calls ```add_user_fact``` inside the POST ```/api/userfacts``` route.\n",
    "- Passes user input as ```data```.\n",
    "- Returns the response as JSON."
   ]
  },
  {
   "cell_type": "markdown",
   "metadata": {},
   "source": [
    "<h3 style=\"color: darkblue;\">3.Using a List to Manage Complexity</h3>\n"
   ]
  },
  {
   "cell_type": "code",
   "execution_count": null,
   "metadata": {
    "vscode": {
     "languageId": "javascript"
    }
   },
   "outputs": [],
   "source": [
    "nigerias = [\n",
    "    Nigeria(title='Kilimanjaro', comment='It was ok! The enviornment was great though.', content={'type': 'announcement'}, user_id=1, group_id=1),\n",
    "    Nigeria(title='McFestine', comment='Enjoyed the diverse food options!', content={'type': 'announcement'}, user_id=2, group_id=2),\n",
    "    Nigeria(title='Unity', comment='Amazing staff, liked the food!', content={'type': 'announcement'}, user_id=3, group_id=3),\n",
    "]"
   ]
  },
  {
   "cell_type": "markdown",
   "metadata": {},
   "source": [
    "- List of Dictionaries stores multiple facts efficiently.\n",
    "- Purpose: Manages multiple data entries for retrieval and manipulation."
   ]
  },
  {
   "cell_type": "markdown",
   "metadata": {},
   "source": [
    "\n",
    "<h3 style=\"color: darkblue;\">4.Accessing Data in the List:</h3>\n"
   ]
  },
  {
   "cell_type": "code",
   "execution_count": null,
   "metadata": {
    "vscode": {
     "languageId": "javascript"
    }
   },
   "outputs": [],
   "source": [
    "@user_facts.route('/api/userfacts', methods=['GET'])\n",
    "def get_fact():\n",
    "    return jsonify([{'id': fact['id'], 'name': fact['name'], 'fact': fact['fact']} for fact in facts_list]), 200"
   ]
  },
  {
   "cell_type": "markdown",
   "metadata": {},
   "source": [
    "- Iteration: Loops through ```facts_list``` to retrieve data.\n",
    "- Purpose: Enables easy fact retrieval for users."
   ]
  },
  {
   "cell_type": "markdown",
   "metadata": {},
   "source": [
    "<h3 style=\"color: darkblue;\">Summary of Component C</h3>\n",
    "\n",
    "- Student-Developed Procedure: Defines an algorithm with sequencing, selection, and iteration.\n",
    "- Calling the Procedure: The function is invoked in the program, passing user data.\n",
    "- Using a List for Data Management: A structured collection is used for organizing facts.\n",
    "- Accessing Data in the List: The list is utilized to fulfill the program’s purpose.\n"
   ]
  },
  {
   "cell_type": "markdown",
   "metadata": {},
   "source": [
    "<h1 style=\"color: black;\">Final Thoughts</h1>\n",
    "This project reflects my problem-solving skills, use of APIs, and data management. It showcases real-world programming concepts and how user data can be efficiently processed!"
   ]
  },
  {
   "cell_type": "markdown",
   "metadata": {},
   "source": []
  }
 ],
 "metadata": {
  "language_info": {
   "name": "python"
  }
 },
 "nbformat": 4,
 "nbformat_minor": 2
}
