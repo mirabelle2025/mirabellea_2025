{
 "cells": [
  {
   "cell_type": "markdown",
   "metadata": {},
   "source": [
    "---\n",
    "layout: post\n",
    "title: Simulation/Games and Random Algorithms\n",
    "description: Simulation/Games and Random Algorithms Notes and Homework\n",
    "courses: { csp: {week:1} }\n",
    "menu: nav/tri3lesson.html\n",
    "permalink: /tri3lesson/3-9\n",
    "comments: true\n",
    "---"
   ]
  },
  {
   "cell_type": "markdown",
   "metadata": {},
   "source": [
    "## Popcorn Hack #1: Real World Applications\n",
    "1. Cybersecurity (e.g., Encryption Keys) <br/>\n",
    "Random numbers are used to generate cryptographic keys in secure systems. These keys must be unpredictable to prevent hackers from guessing or reproducing them. True randomness helps ensure secure communication, password protection, and online transactions.<br/>\n",
    "\n",
    "\n",
    "2. Gaming (e.g., Video Games or Gambling)<br/>\n",
    "In video games and gambling (like slot machines or online poker), random number generation ensures fairness and unpredictability. It determines events like loot drops, enemy behavior, or dice rolls, making the experience engaging and fair for players.<br/>"
   ]
  },
  {
   "cell_type": "markdown",
   "metadata": {},
   "source": [
    "## Popcorn Hack 2: Magic 8-Ball\n"
   ]
  },
  {
   "cell_type": "code",
   "execution_count": 1,
   "metadata": {},
   "outputs": [
    {
     "name": "stdout",
     "output_type": "stream",
     "text": [
      "Magic 8-Ball says: Yes\n",
      "Magic 8-Ball says: No\n",
      "Magic 8-Ball says: Yes\n",
      "Magic 8-Ball says: Yes\n",
      "Magic 8-Ball says: Ask again later\n",
      "Magic 8-Ball says: Yes\n",
      "Magic 8-Ball says: Ask again later\n",
      "Magic 8-Ball says: No\n",
      "Magic 8-Ball says: Yes\n",
      "Magic 8-Ball says: Yes\n"
     ]
    }
   ],
   "source": [
    "import random\n",
    "\n",
    "def magic_8_ball():\n",
    "    \"\"\"Return a random Magic 8-Ball response based on set probabilities.\"\"\"\n",
    "    roll = random.random()  # random float from 0.0 to 1.0\n",
    "\n",
    "    if roll < 0.5:\n",
    "        return \"Yes\"  # 50%\n",
    "    elif roll < 0.75:\n",
    "        return \"No\"   # 25%\n",
    "    else:\n",
    "        return \"Ask again later\"  # 25%\n",
    "\n",
    "# Example usage\n",
    "for _ in range(10):\n",
    "    print(\"Magic 8-Ball says:\", magic_8_ball())\n"
   ]
  },
  {
   "cell_type": "markdown",
   "metadata": {},
   "source": [
    "## Popcorn Hack 3"
   ]
  },
  {
   "cell_type": "code",
   "execution_count": null,
   "metadata": {},
   "outputs": [],
   "source": [
    "def traffic_light_simulation(steps=20):\n",
    "    cycle = [(\"Green\", 5), (\"Yellow\", 2), (\"Red\", 4)]\n",
    "    current_step = 0\n",
    "    cycle_index = 0\n",
    "    time_in_state = 0\n",
    "\n",
    "    for t in range(1, steps + 1):\n",
    "        light, duration = cycle[cycle_index]\n",
    "        print(f\"Time Step {t}: {light}\")\n",
    "        time_in_state += 1\n",
    "\n",
    "        if time_in_state == duration:\n",
    "            cycle_index = (cycle_index + 1) % len(cycle)\n",
    "            time_in_state = 0\n",
    "\n",
    "traffic_light_simulation()\n"
   ]
  },
  {
   "cell_type": "markdown",
   "metadata": {},
   "source": [
    "### How is this a simulation?\n",
    "This is a simulation because it models how a traffic light behaves over time, using logical rules and time steps to mimic real-world traffic control. It helps us understand and predict traffic flow patterns, which is crucial for designing safer and more efficient intersections."
   ]
  },
  {
   "cell_type": "markdown",
   "metadata": {},
   "source": [
    "## Homework Hack 1: Create a Simple Dice Game (Randomness AND Simulation)\n"
   ]
  },
  {
   "cell_type": "code",
   "execution_count": null,
   "metadata": {},
   "outputs": [],
   "source": [
    "import random\n",
    "\n",
    "def roll_dice():\n",
    "    \"\"\"Roll two dice and return their values and sum.\"\"\"\n",
    "    die1 = random.randint(1, 6)\n",
    "    die2 = random.randint(1, 6)\n",
    "    total = die1 + die2\n",
    "    print(f\"You rolled: {die1} + {die2} = {total}\")\n",
    "    return total\n",
    "\n",
    "def play_dice_game():\n",
    "    \"\"\"\n",
    "    Play one round of the dice game.\n",
    "    Returns True if player wins, False if player loses.\n",
    "    \"\"\"\n",
    "    first_roll = roll_dice()\n",
    "\n",
    "    # Check immediate win or loss conditions\n",
    "    if first_roll in [7, 11]:\n",
    "        print(\"You win!\")\n",
    "        return True\n",
    "    elif first_roll in [2, 3, 12]:\n",
    "        print(\"Craps! You lose.\")\n",
    "        return False\n",
    "    else:\n",
    "        point = first_roll\n",
    "        print(f\"Your point is {point}. Keep rolling until you roll {point} (win) or 7 (lose).\")\n",
    "        \n",
    "        while True:\n",
    "            roll = roll_dice()\n",
    "            if roll == point:\n",
    "                print(\"You rolled your point! You win!\")\n",
    "                return True\n",
    "            elif roll == 7:\n",
    "                print(\"You rolled a 7. You lose.\")\n",
    "                return False\n",
    "\n",
    "def main():\n",
    "    \"\"\"Main game function with game loop and statistics.\"\"\"\n",
    "    wins = 0\n",
    "    losses = 0\n",
    "\n",
    "    while True:\n",
    "        play = input(\"\\nDo you want to play a round? (yes/no): \").strip().lower()\n",
    "        if play in ['yes', 'y']:\n",
    "            if play_dice_game():\n",
    "                wins += 1\n",
    "            else:\n",
    "                losses += 1\n",
    "            print(f\"Current Stats -> Wins: {wins}, Losses: {losses}\")\n",
    "        elif play in ['no', 'n']:\n",
    "            print(f\"\\nThanks for playing! Final Stats -> Wins: {wins}, Losses: {losses}\")\n",
    "            break\n",
    "        else:\n",
    "            print(\"Please enter 'yes' or 'no'.\")\n",
    "\n",
    "if __name__ == \"__main__\":\n",
    "    print(\"Welcome to the Dice Game!\")\n",
    "    main()\n"
   ]
  }
 ],
 "metadata": {
  "kernelspec": {
   "display_name": "venv",
   "language": "python",
   "name": "python3"
  },
  "language_info": {
   "codemirror_mode": {
    "name": "ipython",
    "version": 3
   },
   "file_extension": ".py",
   "mimetype": "text/x-python",
   "name": "python",
   "nbconvert_exporter": "python",
   "pygments_lexer": "ipython3",
   "version": "3.12.3"
  }
 },
 "nbformat": 4,
 "nbformat_minor": 2
}
