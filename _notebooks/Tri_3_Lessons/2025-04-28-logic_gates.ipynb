{
 "cells": [
  {
   "cell_type": "markdown",
   "metadata": {},
   "source": [
    "---\n",
    "layout: post\n",
    "title: Binary Base 2 Math and Logic Gates\n",
    "description: Binary Base 2 Math and Logic Gates Notes and Homework\n",
    "courses: { csp: {week:1} }\n",
    "menu: nav/tri3lesson.html\n",
    "permalink: /tri3lesson/3-11\n",
    "comments: true\n",
    "---"
   ]
  }
 ],
 "metadata": {
  "language_info": {
   "name": "python"
  }
 },
 "nbformat": 4,
 "nbformat_minor": 2
}
