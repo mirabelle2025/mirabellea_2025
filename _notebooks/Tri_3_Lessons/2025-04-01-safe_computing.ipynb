{
 "cells": [
  {
   "cell_type": "markdown",
   "metadata": {},
   "source": [
    "---\n",
    "layout: post\n",
    "title: Safe Computing\n",
    "description: Safe Computing Notes and Homework\n",
    "courses: { csp: {week:1} }\n",
    "menu: nav/tri3lesson.html\n",
    "permalink: /tri3lesson/3-6\n",
    "comments: true\n",
    "---"
   ]
  }
 ],
 "metadata": {
  "language_info": {
   "name": "python"
  }
 },
 "nbformat": 4,
 "nbformat_minor": 2
}
