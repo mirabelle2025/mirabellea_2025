{
 "cells": [
  {
   "cell_type": "markdown",
   "metadata": {},
   "source": [
    "---\n",
    "layout: post\n",
    "title: Safe Computing\n",
    "description: Safe Computing Notes and Homework\n",
    "courses: { csp: {week:1} }\n",
    "menu: nav/tri3lesson.html\n",
    "permalink: /tri3lesson/3-6\n",
    "comments: true\n",
    "---"
   ]
  },
  {
   "cell_type": "markdown",
   "metadata": {},
   "source": [
    "**Popcorn Hack 1: Cookies** <br/>\n",
    "Open Developer Tools(fn + F12 -> Application -> Cookies)<br/>\n",
    "Find cookie from one site and find:<br/>\n",
    "Name, Value, Expiration Date<br/>\n",
    "Where the cookie came from(See if you can figure out which category that is)<br/>\n",
    "<img width=\"958\" alt=\"Image\" src=\"https://github.com/user-attachments/assets/12de27fe-3f63-4ba5-b1ad-39a59e050f5c\" />\n",
    "**Popcorn Hack 2: CAPTCHA** <br/>\n",
    "row 1, column 3 <br/>\n",
    "row 2, column 2 <br/>\n",
    "row 2, column 3 <br/>\n",
    "**Homework Hack 1: MCQ** See Google form submission\n",
    "**Homework Hack 2**\n",
    "Here is a simple code for encrypting characters or words (run in notebook to show output) <br/>\n"
   ]
  },
  {
   "cell_type": "code",
   "execution_count": null,
   "metadata": {
    "vscode": {
     "languageId": "javascript"
    }
   },
   "outputs": [],
   "source": [
    "import random\n",
    "\n",
    "def caesar_cipher(text, shift, mode):\n",
    "    result = \"\"\n",
    "    for char in text:\n",
    "        if char.isalpha():  # Encrypts only letters\n",
    "            shift_amount = shift if mode == \"encrypt\" else -shift\n",
    "            new_char = chr(((ord(char.lower()) - 97 + shift_amount) % 26) + 97)\n",
    "            result += new_char.upper() if char.isupper() else new_char\n",
    "        else:\n",
    "            result += char  # Keeps spaces and punctuation unchanged\n",
    "    return result\n",
    "\n",
    "# Get user input\n",
    "mode = input(\"Do you want to encrypt or decrypt? \").strip().lower()\n",
    "message = input(\"Enter your message: \")\n",
    "shift_input = input(\"Enter shift value (or type 'random'): \").strip().lower()\n",
    "\n",
    "# Generate a random shift if \"random\" is entered\n",
    "shift = random.randint(1, 25) if shift_input == \"random\" else int(shift_input)\n",
    "\n",
    "print(f\"Using shift value: {shift}\")  # Display the shift used\n",
    "output = caesar_cipher(message, shift, mode)\n",
    "print(f\"Result: {output}\")"
   ]
  }
 ],
 "metadata": {
  "language_info": {
   "name": "python"
  }
 },
 "nbformat": 4,
 "nbformat_minor": 2
}
