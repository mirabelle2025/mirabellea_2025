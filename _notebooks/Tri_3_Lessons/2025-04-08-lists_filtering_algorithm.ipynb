{
 "cells": [
  {
   "cell_type": "markdown",
   "metadata": {},
   "source": [
    "---\n",
    "layout: post\n",
    "title: Lists and Filtering Algorithm\n",
    "description: Lists and Filtering Algorithm Notes and Homework\n",
    "courses: { csp: {week:1} }\n",
    "menu: nav/tri3lesson.html\n",
    "permalink: /tri3lesson/3-8\n",
    "comments: true\n",
    "---"
   ]
  },
  {
   "cell_type": "markdown",
   "metadata": {},
   "source": [
    "## Popcorn Hack 1\n",
    "What are some possible benefits of using lists? What are some real world examples of lists being used in code ?\n",
    "\n",
    "Answer: Store lots of data in one place, Access each item individually, Filter, sort, and organize that data"
   ]
  },
  {
   "cell_type": "markdown",
   "metadata": {},
   "source": [
    "## Popcorn Hack 2\n",
    "What does this code output? eraser\n",
    "items = [\"pen\", \"pencil\", \"marker\", \"eraser\"]\n",
    "items.remove(\"pencil\")\n",
    "items.append(\"sharpener\")\n",
    "print(items[2])"
   ]
  },
  {
   "cell_type": "markdown",
   "metadata": {},
   "source": [
    "## Popcorn Hack 3: What are some real world examples of filtering algorithms?\n",
    "Inbox → email is unread → Unread emails only (new list)\n",
    "Online Shopping → price < $20 → Discounted items (new list)\n",
    "Spotify → Artist == \"Singer A\" → Only songs by Singer A (new list)\n"
   ]
  },
  {
   "cell_type": "code",
   "execution_count": null,
   "metadata": {},
   "outputs": [],
   "source": [
    "# Creating a list of five favorite fruits\n",
    "fruits = [\"apple\", \"banana\", \"cherry\", \"mango\", \"kiwi\"]\n",
    "\n",
    "# List Procedure 1: Append a new item to the list\n",
    "# This adds a new fruit to the end of the list\n",
    "fruits.append(\"pineapple\")\n",
    "print(\"After append:\", fruits)\n",
    "\n",
    "# List Procedure 2: Remove an item from the list\n",
    "# This removes \"banana\" from the list\n",
    "fruits.remove(\"banana\")\n",
    "print(\"After remove:\", fruits)\n",
    "\n",
    "# List Procedure 3: Sort the list alphabetically\n",
    "# This arranges the list in alphabetical order\n",
    "fruits.sort()\n",
    "print(\"After sort:\", fruits)"
   ]
  },
  {
   "cell_type": "code",
   "execution_count": null,
   "metadata": {},
   "outputs": [],
   "source": [
    "# Traversing a list using a for loop\n",
    "\n",
    "print(\"Traversing the fruits list:\")\n",
    "for fruit in fruits:\n",
    "    print(\"Fruit:\", fruit)\n",
    "\n",
    "# 🔍 Traversal Explanation:\n",
    "# We use a `for` loop to go through each item in the 'fruits' list.\n",
    "# The loop picks one fruit at a time and executes the print statement for each.\n"
   ]
  },
  {
   "cell_type": "code",
   "execution_count": null,
   "metadata": {},
   "outputs": [],
   "source": [
    "import pandas as pd\n",
    "\n",
    "# Step 1: Start with a list of fruits with calorie values\n",
    "fruit_data = {\n",
    "    \"Fruit\": [\"apple\", \"banana\", \"cherry\", \"mango\", \"kiwi\", \"pineapple\"],\n",
    "    \"Calories\": [95, 105, 50, 99, 42, 82]\n",
    "}\n",
    "\n",
    "# Convert to a pandas DataFrame\n",
    "df = pd.DataFrame(fruit_data)\n",
    "print(\"Original Data:\")\n",
    "print(df)\n",
    "\n",
    "# Step 2: Apply a condition – let's say we want fruits under 100 calories\n",
    "# This filters the DataFrame for only fruits with fewer than 100 calories\n",
    "low_cal_fruits = df[df[\"Calories\"] < 100]\n",
    "\n",
    "print(\"\\nFiltered Fruits (Calories < 100):\")\n",
    "print(low_cal_fruits)\n"
   ]
  },
  {
   "cell_type": "markdown",
   "metadata": {},
   "source": [
    "## Final Reflection\n",
    "Filtering algorithms and lists are used in real life to sort and select specific data, like filtering low-calorie foods or finding affordable products online. They help make decisions faster by narrowing down large sets of information based on certain conditions."
   ]
  }
 ],
 "metadata": {
  "language_info": {
   "name": "python"
  }
 },
 "nbformat": 4,
 "nbformat_minor": 2
}
