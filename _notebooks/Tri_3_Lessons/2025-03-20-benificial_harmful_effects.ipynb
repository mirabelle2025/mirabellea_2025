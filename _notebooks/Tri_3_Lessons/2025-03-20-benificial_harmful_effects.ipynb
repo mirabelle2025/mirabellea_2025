{
 "cells": [
  {
   "cell_type": "markdown",
   "metadata": {},
   "source": [
    "---\n",
    "layout: post\n",
    "title: Benificial and Harmful Effects\n",
    "description: Benificial and Harmful Effects Notes and Homework\n",
    "courses: { csp: {week:1} }\n",
    "menu: nav/tri3lesson.html\n",
    "permalink: /tri3lesson/3-1\n",
    "comments: true\n",
    "---"
   ]
  },
  {
   "cell_type": "markdown",
   "metadata": {},
   "source": [
    "## MCQ Completion\n",
    "<img width=\"503\" alt=\"Image\" src=\"https://github.com/user-attachments/assets/0f110808-55f4-41f5-87e4-195d8a674a10\" />"
   ]
  },
  {
   "cell_type": "markdown",
   "metadata": {},
   "source": [
    "## Homework\n",
    "One of the most beneficial effects of technology is improved healthcare. Advancements such as telemedicine, AI-driven diagnostics, and robotic surgeries have made medical care more accessible and efficient. Patients can now receive remote consultations, reducing the need for travel and making healthcare available in rural areas. AI helps detect diseases early, improving survival rates and treatment outcomes. Overall, technology in healthcare saves lives, enhances patient care, and promotes a healthier society."
   ]
  },
  {
   "cell_type": "markdown",
   "metadata": {},
   "source": [
    "## Popcorn Hacks\n",
    "**Popcorn Hack #1**\n",
    "What do You Think is a Beneficial Effect?\n",
    "A Benificial Effects is the improvement of communication and communties through technology.\n",
    "What do You Think is a Harmful Effect?\n",
    "A Harmful effect is the decrease in critical thinking and increase in bullying.\n",
    "**Popcorn Hack #2**\n",
    "What do you think is the most beneficial out of these (or pick your own)? Why? Also, brainstrom additional beneficial effects of technology.\n",
    "I think the most benficial is the medical effects of technology because it saves lives and increases the survival rate around the world. Some additional benfits of technology would be imporved security.\n",
    "**Popcorn Hack #3**\n",
    "Pick a dilema from above. Do you think it’s more beneficial or harmful?\n",
    "I think that AI is benificial for the improvement of job opportunities and the progression of our economy."
   ]
  }
 ],
 "metadata": {
  "language_info": {
   "name": "python"
  }
 },
 "nbformat": 4,
 "nbformat_minor": 2
}
