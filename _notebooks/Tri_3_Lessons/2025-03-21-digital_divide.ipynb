{
 "cells": [
  {
   "cell_type": "markdown",
   "metadata": {},
   "source": [
    "---\n",
    "layout: post\n",
    "title: Digital Divide\n",
    "description: Digital Divide Notes and Homework\n",
    "courses: { csp: {week:1} }\n",
    "menu: nav/tri3lesson.html\n",
    "permalink: /tri3lesson/3-2\n",
    "comments: true\n",
    "---"
   ]
  },
  {
   "cell_type": "markdown",
   "metadata": {},
   "source": [
    "## Popcorn Hacks\n",
    "• **Popcorn Hack 1:** Identify one area (e.g., education, employment, healthcare, or community participation) where you’ve seen the digital divide in action. How does it affect people in different socioeconomic backgrounds? <br/>\n",
    "One area where the digital divide is evident is education. Students from low-income families may lack access to reliable internet, personal computers, or digital learning tools, putting them at a disadvantage compared to their wealthier peers. This gap became especially clear during the COVID-19 pandemic when online learning was necessary, leaving many students struggling to keep up. Without proper access to technology, these students miss out on crucial educational resources, limiting their academic success and future opportunities. The digital divide in education reinforces socioeconomic inequalities and makes it harder for disadvantaged students to break the cycle of poverty.<br/>\n",
    "• **Popcorn Hack 2:** Can you think of a computing innovation that might unintentionally exclude certain groups? Why might that happen?<br/>\n",
    "A computing innovation that might unintentionally exclude certain groups is facial recognition technology. These systems have been criticized for their bias, as they often struggle to accurately identify individuals with darker skin tones due to a lack of diverse training data. This can lead to misidentifications, security issues, and even legal consequences for certain groups. Additionally, facial recognition relies on access to high-quality images, meaning people without digital records or official identification may be excluded from certain services. This exclusion highlights the need for developers to prioritize diversity and fairness when designing AI-driven systems."
   ]
  },
  {
   "cell_type": "markdown",
   "metadata": {},
   "source": [
    "## Homework Hack\n",
    "Write 5 sentences describing what you have noticed about the digital divide in your own community. Consider how socioeconomic factors, location, and access to technology may play a role. Then explain how you can personally help bridge this gap—perhaps through awareness, advocating for policy changes, or supporting community-based tech programs. Make sure each sentence provides a clear insight or action step. Submit your 5 sentences in the next class.<br/>In my community, I have noticed that students from lower-income families often struggle with limited access to high-speed internet and personal computers, making it harder for them to complete online assignments. Public libraries and schools try to provide access, but they have limited hours and resources, which still leaves some students at a disadvantage. Rural areas in my community face additional challenges due to poor internet infrastructure, making remote learning and job opportunities more difficult to access. Many older adults also lack digital literacy skills, preventing them from benefiting from online services like telemedicine and e-banking. To help bridge this gap, I can volunteer at local community centers to teach basic computer skills, raise awareness about the issue, and advocate for programs that provide affordable internet access to underserved areas."
   ]
  }
 ],
 "metadata": {
  "language_info": {
   "name": "python"
  }
 },
 "nbformat": 4,
 "nbformat_minor": 2
}
