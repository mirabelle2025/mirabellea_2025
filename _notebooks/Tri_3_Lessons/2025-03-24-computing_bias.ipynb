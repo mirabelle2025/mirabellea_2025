{
 "cells": [
  {
   "cell_type": "markdown",
   "metadata": {},
   "source": [
    "---\n",
    "layout: post\n",
    "title: Computing Bias\n",
    "description: Computing Bias Notes and Homework\n",
    "courses: { csp: {week:1} }\n",
    "menu: nav/tri3lesson.html\n",
    "permalink: /tri3lesson/3-3\n",
    "comments: true\n",
    "---"
   ]
  },
  {
   "cell_type": "markdown",
   "metadata": {},
   "source": [
    "# Popcorn Hack #1\n",
    "What is an example of Explicit Data? <br/>\n",
    "B) You provide your name, age, and preferences when creating a Netflix account. <br/>"
   ]
  },
  {
   "cell_type": "markdown",
   "metadata": {},
   "source": [
    "# Popcorn Hack #2\n",
    "What is an example of Data Bias? <br/>\n",
    "B) A system is trained on a dataset where certain groups, such as people with darker skin tones, are underrepresented."
   ]
  },
  {
   "cell_type": "markdown",
   "metadata": {},
   "source": [
    "# Popcorn Hack #3\n",
    "What is an example of Unintentional Bias?<br/>\n",
    "One person describes a biased scenario. Classmates guess whether it’s intentional or unintentional.\n"
   ]
  },
  {
   "cell_type": "markdown",
   "metadata": {},
   "source": [
    "# MCQ\n",
    "<img width=\"485\" alt=\"Image\" src=\"https://github.com/user-attachments/assets/cdd1ac2f-e61a-4ae1-a721-e59f9d726d38\" />"
   ]
  },
  {
   "cell_type": "markdown",
   "metadata": {},
   "source": [
    "# Short-Answer Question\n",
    "Explain the difference between implicit and explicit data. Provide an example of each <br/>\n",
    "Explicit Data is information that a user intentionally provides. This data is typically given directly through forms, surveys, or user settings.<br/>\n",
    "Example: When a user fills out a profile on a social media platform, selecting their interests, favorite music genres, or preferred language settings, this is explicit data because they are consciously providing the information.<br/>\n",
    "Implicit Data is information that is gathered without direct user input, often inferred from user behavior or actions. This data is typically collected passively as a user interacts with a system.<br/>\n",
    "Example: A music streaming service tracking which songs a user listens to most frequently and using that data to generate personalized recommendations. The user did not explicitly say, \"I like these songs,\" but their behavior suggests their preferences."
   ]
  }
 ],
 "metadata": {
  "language_info": {
   "name": "python"
  }
 },
 "nbformat": 4,
 "nbformat_minor": 2
}
